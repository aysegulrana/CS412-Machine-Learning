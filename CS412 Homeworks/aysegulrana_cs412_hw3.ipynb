{
  "nbformat": 4,
  "nbformat_minor": 0,
  "metadata": {
    "colab": {
      "name": "aysegulrana_cs412_hw3",
      "provenance": [],
      "collapsed_sections": []
    },
    "kernelspec": {
      "name": "python3",
      "display_name": "Python 3"
    },
    "language_info": {
      "name": "python"
    }
  },
  "cells": [
    {
      "cell_type": "markdown",
      "metadata": {
        "id": "MsPftUCDDurU"
      },
      "source": [
        "# CS 412 Machine Learning 2020 \n",
        "\n",
        "# Assignment 3\n",
        "\n",
        "100 pts\n",
        "\n",
        "## Goal \n",
        "\n",
        "The goal of this assignment \n",
        "\n",
        "*  Introduction to working with text data\n",
        "*  Gain experience with the Scikit-Learn library\n",
        "*  Gain experience with Naive Bayes and Logistic Regression\n",
        "\n",
        "## Dataset\n",
        "\n",
        "**20 Newsgroup Dataset** is a collection 18846 documents which are about 20 different topics.\n",
        "\n",
        "\n",
        "## Task\n",
        "Build naive bayes and logistic regression classifiers with the scikit-learn library function to **classify** the documents about their content topic.\n",
        "\n",
        "## Submission\n",
        "\n",
        "Follow the instructions at the end."
      ]
    },
    {
      "cell_type": "markdown",
      "metadata": {
        "id": "tNnWi0hUEE_P"
      },
      "source": [
        "# 1) Initialize\n",
        "\n",
        "First, make a copy of this notebook in your drive"
      ]
    },
    {
      "cell_type": "markdown",
      "metadata": {
        "id": "JritpHX7EKdr"
      },
      "source": [
        "# 2) Load Dataset\n",
        "\n",
        "The 20 Newsgroup Dataset exist on Scikit-Learn library."
      ]
    },
    {
      "cell_type": "code",
      "metadata": {
        "id": "me2JuqB9EN3U"
      },
      "source": [
        "from sklearn.datasets import fetch_20newsgroups"
      ],
      "execution_count": null,
      "outputs": []
    },
    {
      "cell_type": "code",
      "metadata": {
        "id": "3zOI7YAhE2x3"
      },
      "source": [
        "train_batch = fetch_20newsgroups(subset='train')\n",
        "test_batch = fetch_20newsgroups(subset='test')"
      ],
      "execution_count": null,
      "outputs": []
    },
    {
      "cell_type": "code",
      "metadata": {
        "colab": {
          "base_uri": "https://localhost:8080/"
        },
        "id": "nkSAOk1aKUzl",
        "outputId": "6883932f-85bb-4749-fd8b-dab81b2e7821"
      },
      "source": [
        "# target groups you will be dealing with\n",
        "target_groups = train_batch.target_names\n",
        "target_groups"
      ],
      "execution_count": null,
      "outputs": [
        {
          "output_type": "execute_result",
          "data": {
            "text/plain": [
              "['alt.atheism',\n",
              " 'comp.graphics',\n",
              " 'comp.os.ms-windows.misc',\n",
              " 'comp.sys.ibm.pc.hardware',\n",
              " 'comp.sys.mac.hardware',\n",
              " 'comp.windows.x',\n",
              " 'misc.forsale',\n",
              " 'rec.autos',\n",
              " 'rec.motorcycles',\n",
              " 'rec.sport.baseball',\n",
              " 'rec.sport.hockey',\n",
              " 'sci.crypt',\n",
              " 'sci.electronics',\n",
              " 'sci.med',\n",
              " 'sci.space',\n",
              " 'soc.religion.christian',\n",
              " 'talk.politics.guns',\n",
              " 'talk.politics.mideast',\n",
              " 'talk.politics.misc',\n",
              " 'talk.religion.misc']"
            ]
          },
          "metadata": {
            "tags": []
          },
          "execution_count": 264
        }
      ]
    },
    {
      "cell_type": "code",
      "metadata": {
        "id": "oEY5XoYmFVTr"
      },
      "source": [
        "# creating training and test sets\n",
        "train_x =  train_batch[\"data\"]\n",
        "train_y =  train_batch[\"target\"]\n",
        "test_x  =  test_batch[\"data\"]\n",
        "test_y  =  test_batch[\"target\"]"
      ],
      "execution_count": null,
      "outputs": []
    },
    {
      "cell_type": "code",
      "metadata": {
        "colab": {
          "base_uri": "https://localhost:8080/"
        },
        "id": "3aiFqFY-Ftkc",
        "outputId": "06ab3f86-f8a5-4bd9-b874-3d5b3e03b22e"
      },
      "source": [
        "print(train_x[0])"
      ],
      "execution_count": null,
      "outputs": [
        {
          "output_type": "stream",
          "text": [
            "From: lerxst@wam.umd.edu (where's my thing)\n",
            "Subject: WHAT car is this!?\n",
            "Nntp-Posting-Host: rac3.wam.umd.edu\n",
            "Organization: University of Maryland, College Park\n",
            "Lines: 15\n",
            "\n",
            " I was wondering if anyone out there could enlighten me on this car I saw\n",
            "the other day. It was a 2-door sports car, looked to be from the late 60s/\n",
            "early 70s. It was called a Bricklin. The doors were really small. In addition,\n",
            "the front bumper was separate from the rest of the body. This is \n",
            "all I know. If anyone can tellme a model name, engine specs, years\n",
            "of production, where this car is made, history, or whatever info you\n",
            "have on this funky looking car, please e-mail.\n",
            "\n",
            "Thanks,\n",
            "- IL\n",
            "   ---- brought to you by your neighborhood Lerxst ----\n",
            "\n",
            "\n",
            "\n",
            "\n",
            "\n"
          ],
          "name": "stdout"
        }
      ]
    },
    {
      "cell_type": "code",
      "metadata": {
        "colab": {
          "base_uri": "https://localhost:8080/"
        },
        "id": "Wa_vTE97NsSL",
        "outputId": "add7ac2d-3674-414c-baa3-1b010ca1291f"
      },
      "source": [
        "print(target_groups[train_y[0]])"
      ],
      "execution_count": null,
      "outputs": [
        {
          "output_type": "stream",
          "text": [
            "rec.autos\n"
          ],
          "name": "stdout"
        }
      ]
    },
    {
      "cell_type": "markdown",
      "metadata": {
        "id": "FV4AaTk8JSPg"
      },
      "source": [
        "# Preprocess"
      ]
    },
    {
      "cell_type": "code",
      "metadata": {
        "id": "AZdKd6oAJWrj"
      },
      "source": [
        "import re"
      ],
      "execution_count": null,
      "outputs": []
    },
    {
      "cell_type": "code",
      "metadata": {
        "id": "aukUdxk3JXft"
      },
      "source": [
        "%%capture\n",
        "import nltk\n",
        "nltk.download(\"stopwords\")"
      ],
      "execution_count": null,
      "outputs": []
    },
    {
      "cell_type": "code",
      "metadata": {
        "id": "c1oq7z0wJXdj"
      },
      "source": [
        "from nltk.corpus import stopwords\n",
        "stop_words = stopwords.words(\"english\")"
      ],
      "execution_count": null,
      "outputs": []
    },
    {
      "cell_type": "code",
      "metadata": {
        "id": "ldItHamFJwcO"
      },
      "source": [
        "from nltk.stem.snowball import SnowballStemmer\n",
        "stemmer = SnowballStemmer(\"english\")"
      ],
      "execution_count": null,
      "outputs": []
    },
    {
      "cell_type": "code",
      "metadata": {
        "id": "9YL6H0AQHwZl"
      },
      "source": [
        "# You will use this function to preprocess your data. If you would like to add another preprocessing step in the function, please add it and mention about it in your report.\n",
        "def preprocess(text):\n",
        "    text = re.sub(\"[\\w\\d._]+@[^\\s]+|[^\\s]+\\.[^\\s]+|[^\\s]+-[^\\s]+|\\d+|[^\\w\\s]\",\"\",text.lower().strip())\n",
        "    text = ' '.join([stemmer.stem(word) for word in re.findall(\"\\w+\",text) if word not in stop_words])\n",
        "    return text"
      ],
      "execution_count": null,
      "outputs": []
    },
    {
      "cell_type": "code",
      "metadata": {
        "id": "CL-jPAXPJffh"
      },
      "source": [
        "# Apply <preprocess> function on the training and test set \n",
        "trainx=[]\n",
        "testx=[]\n",
        "for txt in train_x:\n",
        "  trainx.append(preprocess(txt))\n",
        "for t in test_x:\n",
        "  testx.append(preprocess(t))\n",
        "\n",
        "#([word.lower() for word in txt.split()] for txt in text)"
      ],
      "execution_count": null,
      "outputs": []
    },
    {
      "cell_type": "markdown",
      "metadata": {
        "id": "jOFFQwnUOCCY"
      },
      "source": [
        "# Models"
      ]
    },
    {
      "cell_type": "code",
      "metadata": {
        "id": "9yoKTkRCOFQh"
      },
      "source": [
        "from sklearn.naive_bayes import MultinomialNB\n",
        "from sklearn.linear_model import LogisticRegression\n",
        "\n",
        "from sklearn.feature_extraction.text import CountVectorizer\n",
        "\n",
        "from sklearn.pipeline import Pipeline\n",
        "from sklearn.model_selection import GridSearchCV\n",
        "\n",
        "from sklearn.metrics import accuracy_score\n",
        "\n",
        "import numpy as np\n",
        "import pandas as pd"
      ],
      "execution_count": null,
      "outputs": []
    },
    {
      "cell_type": "markdown",
      "metadata": {
        "id": "gXJGT2HpNY8_"
      },
      "source": [
        "## Tune Naive Bayes"
      ]
    },
    {
      "cell_type": "code",
      "metadata": {
        "id": "QA5QFz37BoBc"
      },
      "source": [
        "# Create a CountVectorizer for NB with:\n",
        "#     min_df = 50\n",
        "#     max_df = 3000\n",
        "#     stop_words = stop_words\n",
        "from sklearn.feature_extraction.text import CountVectorizer"
      ],
      "execution_count": null,
      "outputs": []
    },
    {
      "cell_type": "code",
      "metadata": {
        "id": "fS5WNNEhBxiZ"
      },
      "source": [
        "# Vectorize your training and test set\n",
        "vectorizer = CountVectorizer(min_df=50,max_df=3000,stop_words=stop_words)\n",
        "train_x = vectorizer.fit_transform(trainx)\n",
        "test_x = vectorizer.transform(testx)"
      ],
      "execution_count": null,
      "outputs": []
    },
    {
      "cell_type": "code",
      "metadata": {
        "id": "tVdPwcrsNymU",
        "colab": {
          "base_uri": "https://localhost:8080/"
        },
        "outputId": "bd020a04-9b6c-4dd2-fc06-2e9b956914b4"
      },
      "source": [
        "#https://scikit-learn.org/stable/modules/generated/sklearn.naive_bayes.MultinomialNB.html\n",
        "\n",
        "#Initiate the NB model with required components.\n",
        "from sklearn.naive_bayes import MultinomialNB\n",
        "from sklearn.metrics import accuracy_score\n",
        "model = MultinomialNB()\n",
        "\n",
        "#model = model.fit(train_x,train_y)\n",
        "#print(predictions)\n",
        "#accuracy_score(test_y,predictions)\n",
        "\n",
        "from sklearn.base import TransformerMixin\n",
        "from sklearn.pipeline import Pipeline\n",
        "from sklearn.model_selection import GridSearchCV\n",
        "\n",
        "hyperparameters=dict(alpha = (0.1,0.5,1.0,5.0))\n",
        "mnb_grid_search = GridSearchCV(model,hyperparameters,cv=3,scoring=\"accuracy\")\n",
        "#Set the hyperparameter space that will be scanned:\n",
        "#   alpha = (0.1,0.5,1.0,5.0)\n",
        "\n",
        "mnb_grid_search.fit(train_x,train_y)\n",
        "#Let the GridSearchCV scan the hyperparameter and find the best hyperparameter set that will maximize the scoring option.\n",
        "#   cv = 3\n",
        "#   scoring = \"accuracy\"\n"
      ],
      "execution_count": null,
      "outputs": [
        {
          "output_type": "execute_result",
          "data": {
            "text/plain": [
              "GridSearchCV(cv=3, error_score=nan,\n",
              "             estimator=MultinomialNB(alpha=1.0, class_prior=None,\n",
              "                                     fit_prior=True),\n",
              "             iid='deprecated', n_jobs=None,\n",
              "             param_grid={'alpha': (0.1, 0.5, 1.0, 5.0)},\n",
              "             pre_dispatch='2*n_jobs', refit=True, return_train_score=False,\n",
              "             scoring='accuracy', verbose=0)"
            ]
          },
          "metadata": {
            "tags": []
          },
          "execution_count": 277
        }
      ]
    },
    {
      "cell_type": "code",
      "metadata": {
        "id": "E4xyqjD1N5Zr",
        "colab": {
          "base_uri": "https://localhost:8080/"
        },
        "outputId": "b9adadda-bd21-43c6-d422-0f9029131364"
      },
      "source": [
        "# show the best score\n",
        "mnb_grid_search.best_score_\n"
      ],
      "execution_count": null,
      "outputs": [
        {
          "output_type": "execute_result",
          "data": {
            "text/plain": [
              "0.8212835269890522"
            ]
          },
          "metadata": {
            "tags": []
          },
          "execution_count": 278
        }
      ]
    },
    {
      "cell_type": "code",
      "metadata": {
        "id": "KD888YxgO9d0",
        "colab": {
          "base_uri": "https://localhost:8080/"
        },
        "outputId": "ca640ee0-8fc7-4c52-cff6-6a5fa6a74bba"
      },
      "source": [
        "# show the best parameter\n",
        "mnb_grid_search.best_params_"
      ],
      "execution_count": null,
      "outputs": [
        {
          "output_type": "execute_result",
          "data": {
            "text/plain": [
              "{'alpha': 0.5}"
            ]
          },
          "metadata": {
            "tags": []
          },
          "execution_count": 279
        }
      ]
    },
    {
      "cell_type": "markdown",
      "metadata": {
        "id": "UJu_rA56W5jn"
      },
      "source": [
        "### Evaluate The Best Model for NB"
      ]
    },
    {
      "cell_type": "code",
      "metadata": {
        "id": "DTTHdeA4O_kd",
        "colab": {
          "base_uri": "https://localhost:8080/"
        },
        "outputId": "92fbe441-09eb-4cc5-a149-1ea41dcbff7e"
      },
      "source": [
        "#Create your NB model with the best parameter set.\n",
        "modelnb=MultinomialNB().set_params(**mnb_grid_search.best_params_)\n",
        "#Fit your model on training set.\n",
        "modelnb.fit(train_x,train_y)"
      ],
      "execution_count": null,
      "outputs": [
        {
          "output_type": "execute_result",
          "data": {
            "text/plain": [
              "MultinomialNB(alpha=0.5, class_prior=None, fit_prior=True)"
            ]
          },
          "metadata": {
            "tags": []
          },
          "execution_count": 280
        }
      ]
    },
    {
      "cell_type": "code",
      "metadata": {
        "id": "Unaw09TcXDGO"
      },
      "source": [
        "# Make predictions on test set\n",
        "predictions = modelnb.predict(test_x)\n"
      ],
      "execution_count": null,
      "outputs": []
    },
    {
      "cell_type": "code",
      "metadata": {
        "id": "QIkAMwHKXEym",
        "colab": {
          "base_uri": "https://localhost:8080/"
        },
        "outputId": "4e49a9be-a602-4dd3-b3fa-c2a4120c1257"
      },
      "source": [
        "# Show your accuracy on test set\n",
        "accuracy_score(test_y,predictions)\n"
      ],
      "execution_count": null,
      "outputs": [
        {
          "output_type": "execute_result",
          "data": {
            "text/plain": [
              "0.7555762081784386"
            ]
          },
          "metadata": {
            "tags": []
          },
          "execution_count": 282
        }
      ]
    },
    {
      "cell_type": "markdown",
      "metadata": {
        "id": "oJX62dPOXPdH"
      },
      "source": [
        "## Tune Logistic Regresion"
      ]
    },
    {
      "cell_type": "code",
      "metadata": {
        "id": "B1JQhjs3Cf2k"
      },
      "source": [
        "# Create a CountVectorizer for LR with:\n",
        "#     min_df = 50\n",
        "#     max_df = 3000\n",
        "#     stop_words = stop_words\n",
        "\n",
        "vectorizer = CountVectorizer(min_df=50,max_df=3000,stop_words=stop_words)"
      ],
      "execution_count": null,
      "outputs": []
    },
    {
      "cell_type": "code",
      "metadata": {
        "id": "cSjmbn86cGd1"
      },
      "source": [
        "train_x=trainx\n",
        "test_x=testx"
      ],
      "execution_count": null,
      "outputs": []
    },
    {
      "cell_type": "code",
      "metadata": {
        "id": "XTa3qQPCC0ts"
      },
      "source": [
        "# Vectorizer your training and test set\n",
        "train_x = vectorizer.fit_transform(train_x)\n",
        "test_x = vectorizer.transform(test_x)"
      ],
      "execution_count": null,
      "outputs": []
    },
    {
      "cell_type": "code",
      "metadata": {
        "id": "Wv2aolaqXF5c",
        "colab": {
          "base_uri": "https://localhost:8080/"
        },
        "outputId": "64a8ddde-047b-4c08-96ed-bebf35d17415"
      },
      "source": [
        "#https://scikit-learn.org/stable/modules/generated/sklearn.linear_model.LogisticRegression.html\n",
        "from sklearn.linear_model import LogisticRegression\n",
        "#Initiate the LR model:\n",
        "#   max_iter=2000\n",
        "model = LogisticRegression(max_iter=2000)\n",
        "# Set the hyperparameter space that will be scanned:\n",
        "hyperparameters=dict(C = (0.001,0.01,0.1,1))\n",
        "\n",
        "#Let the GridSearchCV scan the hyperparameter and find the best hyperparameter set that will maximize the scoring option.\n",
        "mnb_grid_search = GridSearchCV(model,hyperparameters,cv=3,scoring=\"accuracy\")\n",
        "mnb_grid_search.fit(train_x,train_y)\n"
      ],
      "execution_count": null,
      "outputs": [
        {
          "output_type": "execute_result",
          "data": {
            "text/plain": [
              "GridSearchCV(cv=3, error_score=nan,\n",
              "             estimator=LogisticRegression(C=1.0, class_weight=None, dual=False,\n",
              "                                          fit_intercept=True,\n",
              "                                          intercept_scaling=1, l1_ratio=None,\n",
              "                                          max_iter=2000, multi_class='auto',\n",
              "                                          n_jobs=None, penalty='l2',\n",
              "                                          random_state=None, solver='lbfgs',\n",
              "                                          tol=0.0001, verbose=0,\n",
              "                                          warm_start=False),\n",
              "             iid='deprecated', n_jobs=None,\n",
              "             param_grid={'C': (0.001, 0.01, 0.1, 1)}, pre_dispatch='2*n_jobs',\n",
              "             refit=True, return_train_score=False, scoring='accuracy',\n",
              "             verbose=0)"
            ]
          },
          "metadata": {
            "tags": []
          },
          "execution_count": 286
        }
      ]
    },
    {
      "cell_type": "code",
      "metadata": {
        "id": "rhToPngFlsRX",
        "colab": {
          "base_uri": "https://localhost:8080/"
        },
        "outputId": "5910bedb-1287-4fbe-837b-4282ebdf60d0"
      },
      "source": [
        "# show the best score\n",
        "mnb_grid_search.best_score_"
      ],
      "execution_count": null,
      "outputs": [
        {
          "output_type": "execute_result",
          "data": {
            "text/plain": [
              "0.8338344038554356"
            ]
          },
          "metadata": {
            "tags": []
          },
          "execution_count": 287
        }
      ]
    },
    {
      "cell_type": "code",
      "metadata": {
        "id": "oKQh_pyJl7cy",
        "colab": {
          "base_uri": "https://localhost:8080/"
        },
        "outputId": "f4af46f5-55e1-4c7f-88cd-9f65c878f752"
      },
      "source": [
        "# show the best parameter\n",
        "mnb_grid_search.best_params_"
      ],
      "execution_count": null,
      "outputs": [
        {
          "output_type": "execute_result",
          "data": {
            "text/plain": [
              "{'C': 0.1}"
            ]
          },
          "metadata": {
            "tags": []
          },
          "execution_count": 288
        }
      ]
    },
    {
      "cell_type": "markdown",
      "metadata": {
        "id": "-6n8TCfTbK8N"
      },
      "source": [
        "### Evaluate The Best Model for Logistic Regression"
      ]
    },
    {
      "cell_type": "code",
      "metadata": {
        "id": "xIEOi8FEYcC8"
      },
      "source": [
        "#Create your LR model with the best parameter set.\n",
        "\n",
        "#Fit your model on training set.\n",
        "#Create your NB model with the best parameter set.\n",
        "mnb = LogisticRegression().set_params(**mnb_grid_search.best_params_)\n",
        "#Fit your model on training set.\n",
        "model = mnb.fit(train_x,train_y)\n",
        "\n"
      ],
      "execution_count": null,
      "outputs": []
    },
    {
      "cell_type": "code",
      "metadata": {
        "id": "9u1ah0awbY4t"
      },
      "source": [
        "# Make predictions on test set\n",
        "predictions = model.predict(test_x)"
      ],
      "execution_count": null,
      "outputs": []
    },
    {
      "cell_type": "code",
      "metadata": {
        "id": "6vH2DKHhbrPa",
        "colab": {
          "base_uri": "https://localhost:8080/"
        },
        "outputId": "97bc27b6-f10d-4f83-8e9d-74448478e3c8"
      },
      "source": [
        "# Show your accuracy on test set\n",
        "accuracy_score(test_y,predictions)"
      ],
      "execution_count": null,
      "outputs": [
        {
          "output_type": "execute_result",
          "data": {
            "text/plain": [
              "0.7484067976633032"
            ]
          },
          "metadata": {
            "tags": []
          },
          "execution_count": 291
        }
      ]
    },
    {
      "cell_type": "markdown",
      "metadata": {
        "id": "exoff4yjb7uI"
      },
      "source": [
        "# Feature Importances"
      ]
    },
    {
      "cell_type": "code",
      "metadata": {
        "id": "ooLctLNhJoki",
        "colab": {
          "base_uri": "https://localhost:8080/"
        },
        "outputId": "235f8f7e-f079-4324-f27e-092ca5c59c7d"
      },
      "source": [
        "# Find the each category's most important top 3 features (words) for LR model and show with a dataframe\n",
        "\n",
        "model.intercept_"
      ],
      "execution_count": null,
      "outputs": [
        {
          "output_type": "execute_result",
          "data": {
            "text/plain": [
              "array([-0.54960625,  0.45205302,  0.17583633,  0.11541413,  0.15562647,\n",
              "        0.39304778,  0.28282377,  0.36353271,  0.19521149,  0.52677985,\n",
              "        0.08893367, -0.88296326,  0.18424785,  0.09863297, -0.08303591,\n",
              "        0.09424644, -0.47187842, -0.08783499, -0.58253194, -0.46853571])"
            ]
          },
          "metadata": {
            "tags": []
          },
          "execution_count": 292
        }
      ]
    },
    {
      "cell_type": "code",
      "metadata": {
        "colab": {
          "base_uri": "https://localhost:8080/"
        },
        "id": "8FuCfkmwjWtN",
        "outputId": "fc388a9e-26e5-49d2-972c-01fa6437c60c"
      },
      "source": [
        "len(model.coef_.flatten())"
      ],
      "execution_count": null,
      "outputs": [
        {
          "output_type": "execute_result",
          "data": {
            "text/plain": [
              "61980"
            ]
          },
          "metadata": {
            "tags": []
          },
          "execution_count": 293
        }
      ]
    },
    {
      "cell_type": "code",
      "metadata": {
        "colab": {
          "base_uri": "https://localhost:8080/"
        },
        "id": "zFm1SXSXtv70",
        "outputId": "257b95a6-2cf7-4cfe-cf0d-974c0ff2fcdb"
      },
      "source": [
        "model.coef_"
      ],
      "execution_count": null,
      "outputs": [
        {
          "output_type": "execute_result",
          "data": {
            "text/plain": [
              "array([[-0.08145479,  0.00948803,  0.00357308, ..., -0.0326397 ,\n",
              "        -0.03607288, -0.02368216],\n",
              "       [ 0.05160398,  0.04540452,  0.09167477, ...,  0.12149052,\n",
              "        -0.02955457, -0.02209316],\n",
              "       [ 0.07426539,  0.30845706, -0.1637374 , ...,  0.08232542,\n",
              "         0.03557833, -0.01945549],\n",
              "       ...,\n",
              "       [ 0.07450212, -0.03540019,  0.00247345, ..., -0.02389627,\n",
              "         0.00102889,  0.05903299],\n",
              "       [-0.12065637, -0.09144288, -0.03498675, ..., -0.03530856,\n",
              "         0.02293629, -0.05412505],\n",
              "       [-0.09281603, -0.0196582 , -0.07123062, ..., -0.02851327,\n",
              "        -0.00591538, -0.00191425]])"
            ]
          },
          "metadata": {
            "tags": []
          },
          "execution_count": 294
        }
      ]
    },
    {
      "cell_type": "code",
      "metadata": {
        "id": "G3tKR_flZTzb"
      },
      "source": [
        "coe = model.coef_\n",
        "dict_list=[]\n",
        "\n",
        "for feature in model.coef_:\n",
        "  words = vectorizer.get_feature_names()\n",
        "  cs=[str(a) for a in feature]\n",
        "  coef_word = dict(sorted(list(zip(cs,words)),reverse=True,key=lambda x: x[0]))\n",
        "  dict_list.append(coef_word)"
      ],
      "execution_count": null,
      "outputs": []
    },
    {
      "cell_type": "code",
      "metadata": {
        "colab": {
          "base_uri": "https://localhost:8080/",
          "height": 178
        },
        "id": "5PaeTZRCZOyX",
        "outputId": "b5118196-a6d1-4844-cc55-18d83610c972"
      },
      "source": [
        "lr_df=pd.DataFrame(coe).transpose()\n",
        "lr_df.columns=target_groups\n",
        "\n",
        "for c in lr_df.columns:\n",
        "  lr_df[c]=sorted(lr_df[c],reverse=True)\n",
        "lr_df[:3]"
      ],
      "execution_count": null,
      "outputs": [
        {
          "output_type": "execute_result",
          "data": {
            "text/html": [
              "<div>\n",
              "<style scoped>\n",
              "    .dataframe tbody tr th:only-of-type {\n",
              "        vertical-align: middle;\n",
              "    }\n",
              "\n",
              "    .dataframe tbody tr th {\n",
              "        vertical-align: top;\n",
              "    }\n",
              "\n",
              "    .dataframe thead th {\n",
              "        text-align: right;\n",
              "    }\n",
              "</style>\n",
              "<table border=\"1\" class=\"dataframe\">\n",
              "  <thead>\n",
              "    <tr style=\"text-align: right;\">\n",
              "      <th></th>\n",
              "      <th>alt.atheism</th>\n",
              "      <th>comp.graphics</th>\n",
              "      <th>comp.os.ms-windows.misc</th>\n",
              "      <th>comp.sys.ibm.pc.hardware</th>\n",
              "      <th>comp.sys.mac.hardware</th>\n",
              "      <th>comp.windows.x</th>\n",
              "      <th>misc.forsale</th>\n",
              "      <th>rec.autos</th>\n",
              "      <th>rec.motorcycles</th>\n",
              "      <th>rec.sport.baseball</th>\n",
              "      <th>rec.sport.hockey</th>\n",
              "      <th>sci.crypt</th>\n",
              "      <th>sci.electronics</th>\n",
              "      <th>sci.med</th>\n",
              "      <th>sci.space</th>\n",
              "      <th>soc.religion.christian</th>\n",
              "      <th>talk.politics.guns</th>\n",
              "      <th>talk.politics.mideast</th>\n",
              "      <th>talk.politics.misc</th>\n",
              "      <th>talk.religion.misc</th>\n",
              "    </tr>\n",
              "  </thead>\n",
              "  <tbody>\n",
              "    <tr>\n",
              "      <th>0</th>\n",
              "      <td>0.893657</td>\n",
              "      <td>1.175977</td>\n",
              "      <td>1.263341</td>\n",
              "      <td>0.708757</td>\n",
              "      <td>1.408501</td>\n",
              "      <td>0.991748</td>\n",
              "      <td>1.300283</td>\n",
              "      <td>1.480843</td>\n",
              "      <td>1.921220</td>\n",
              "      <td>1.134501</td>\n",
              "      <td>1.166319</td>\n",
              "      <td>1.072682</td>\n",
              "      <td>0.977359</td>\n",
              "      <td>0.825510</td>\n",
              "      <td>1.495623</td>\n",
              "      <td>0.905261</td>\n",
              "      <td>1.085459</td>\n",
              "      <td>1.171696</td>\n",
              "      <td>0.725268</td>\n",
              "      <td>0.825966</td>\n",
              "    </tr>\n",
              "    <tr>\n",
              "      <th>1</th>\n",
              "      <td>0.870171</td>\n",
              "      <td>0.939855</td>\n",
              "      <td>0.656691</td>\n",
              "      <td>0.577758</td>\n",
              "      <td>1.131229</td>\n",
              "      <td>0.958038</td>\n",
              "      <td>0.872831</td>\n",
              "      <td>0.734232</td>\n",
              "      <td>1.516526</td>\n",
              "      <td>0.761408</td>\n",
              "      <td>0.900092</td>\n",
              "      <td>1.003136</td>\n",
              "      <td>0.747706</td>\n",
              "      <td>0.694824</td>\n",
              "      <td>1.207823</td>\n",
              "      <td>0.684404</td>\n",
              "      <td>0.875022</td>\n",
              "      <td>1.130052</td>\n",
              "      <td>0.614036</td>\n",
              "      <td>0.697286</td>\n",
              "    </tr>\n",
              "    <tr>\n",
              "      <th>2</th>\n",
              "      <td>0.691037</td>\n",
              "      <td>0.589354</td>\n",
              "      <td>0.648192</td>\n",
              "      <td>0.543168</td>\n",
              "      <td>1.002968</td>\n",
              "      <td>0.898643</td>\n",
              "      <td>0.839952</td>\n",
              "      <td>0.653770</td>\n",
              "      <td>1.129837</td>\n",
              "      <td>0.684768</td>\n",
              "      <td>0.865401</td>\n",
              "      <td>0.730363</td>\n",
              "      <td>0.691502</td>\n",
              "      <td>0.691101</td>\n",
              "      <td>0.888761</td>\n",
              "      <td>0.681559</td>\n",
              "      <td>0.764017</td>\n",
              "      <td>0.694644</td>\n",
              "      <td>0.539981</td>\n",
              "      <td>0.612675</td>\n",
              "    </tr>\n",
              "  </tbody>\n",
              "</table>\n",
              "</div>"
            ],
            "text/plain": [
              "   alt.atheism  comp.graphics  ...  talk.politics.misc  talk.religion.misc\n",
              "0     0.893657       1.175977  ...            0.725268            0.825966\n",
              "1     0.870171       0.939855  ...            0.614036            0.697286\n",
              "2     0.691037       0.589354  ...            0.539981            0.612675\n",
              "\n",
              "[3 rows x 20 columns]"
            ]
          },
          "metadata": {
            "tags": []
          },
          "execution_count": 296
        }
      ]
    },
    {
      "cell_type": "code",
      "metadata": {
        "id": "ivIhYNTfjcp9",
        "colab": {
          "base_uri": "https://localhost:8080/",
          "height": 178
        },
        "outputId": "f2edc3cf-a652-4869-dfea-74ff069df8c7"
      },
      "source": [
        "for x in lr_df.columns:\n",
        "  lr_df[x] = lr_df[x].astype(str)\n",
        "\n",
        "for c in range(0,len(lr_df.columns)):\n",
        "  for i in range(0,3):\n",
        "    coef=lr_df._get_value(i, lr_df.columns[c])\n",
        "    lr_df.at[i, lr_df.columns[c]] = dict_list[c].get(coef)\n",
        "\n",
        "coef_word\n",
        "\n",
        "lr_df[:3]"
      ],
      "execution_count": null,
      "outputs": [
        {
          "output_type": "execute_result",
          "data": {
            "text/html": [
              "<div>\n",
              "<style scoped>\n",
              "    .dataframe tbody tr th:only-of-type {\n",
              "        vertical-align: middle;\n",
              "    }\n",
              "\n",
              "    .dataframe tbody tr th {\n",
              "        vertical-align: top;\n",
              "    }\n",
              "\n",
              "    .dataframe thead th {\n",
              "        text-align: right;\n",
              "    }\n",
              "</style>\n",
              "<table border=\"1\" class=\"dataframe\">\n",
              "  <thead>\n",
              "    <tr style=\"text-align: right;\">\n",
              "      <th></th>\n",
              "      <th>alt.atheism</th>\n",
              "      <th>comp.graphics</th>\n",
              "      <th>comp.os.ms-windows.misc</th>\n",
              "      <th>comp.sys.ibm.pc.hardware</th>\n",
              "      <th>comp.sys.mac.hardware</th>\n",
              "      <th>comp.windows.x</th>\n",
              "      <th>misc.forsale</th>\n",
              "      <th>rec.autos</th>\n",
              "      <th>rec.motorcycles</th>\n",
              "      <th>rec.sport.baseball</th>\n",
              "      <th>rec.sport.hockey</th>\n",
              "      <th>sci.crypt</th>\n",
              "      <th>sci.electronics</th>\n",
              "      <th>sci.med</th>\n",
              "      <th>sci.space</th>\n",
              "      <th>soc.religion.christian</th>\n",
              "      <th>talk.politics.guns</th>\n",
              "      <th>talk.politics.mideast</th>\n",
              "      <th>talk.politics.misc</th>\n",
              "      <th>talk.religion.misc</th>\n",
              "    </tr>\n",
              "  </thead>\n",
              "  <tbody>\n",
              "    <tr>\n",
              "      <th>0</th>\n",
              "      <td>atheist</td>\n",
              "      <td>graphic</td>\n",
              "      <td>window</td>\n",
              "      <td>monitor</td>\n",
              "      <td>mac</td>\n",
              "      <td>xr</td>\n",
              "      <td>sale</td>\n",
              "      <td>car</td>\n",
              "      <td>dod</td>\n",
              "      <td>basebal</td>\n",
              "      <td>hockey</td>\n",
              "      <td>clipper</td>\n",
              "      <td>circuit</td>\n",
              "      <td>doctor</td>\n",
              "      <td>space</td>\n",
              "      <td>christian</td>\n",
              "      <td>gun</td>\n",
              "      <td>israel</td>\n",
              "      <td>theodor</td>\n",
              "      <td>christian</td>\n",
              "    </tr>\n",
              "    <tr>\n",
              "      <th>1</th>\n",
              "      <td>keith</td>\n",
              "      <td>imag</td>\n",
              "      <td>win</td>\n",
              "      <td>gateway</td>\n",
              "      <td>appl</td>\n",
              "      <td>widget</td>\n",
              "      <td>offer</td>\n",
              "      <td>automot</td>\n",
              "      <td>bike</td>\n",
              "      <td>philli</td>\n",
              "      <td>team</td>\n",
              "      <td>encrypt</td>\n",
              "      <td>electron</td>\n",
              "      <td>diseas</td>\n",
              "      <td>orbit</td>\n",
              "      <td>god</td>\n",
              "      <td>waco</td>\n",
              "      <td>isra</td>\n",
              "      <td>clinton</td>\n",
              "      <td>order</td>\n",
              "    </tr>\n",
              "    <tr>\n",
              "      <th>2</th>\n",
              "      <td>islam</td>\n",
              "      <td>anim</td>\n",
              "      <td>driver</td>\n",
              "      <td>motherboard</td>\n",
              "      <td>powerbook</td>\n",
              "      <td>motif</td>\n",
              "      <td>forsal</td>\n",
              "      <td>auto</td>\n",
              "      <td>motorcycl</td>\n",
              "      <td>yanke</td>\n",
              "      <td>playoff</td>\n",
              "      <td>tap</td>\n",
              "      <td>tv</td>\n",
              "      <td>medic</td>\n",
              "      <td>pat</td>\n",
              "      <td>church</td>\n",
              "      <td>firearm</td>\n",
              "      <td>serdar</td>\n",
              "      <td>libertarian</td>\n",
              "      <td>koresh</td>\n",
              "    </tr>\n",
              "  </tbody>\n",
              "</table>\n",
              "</div>"
            ],
            "text/plain": [
              "  alt.atheism comp.graphics  ... talk.politics.misc talk.religion.misc\n",
              "0     atheist       graphic  ...            theodor          christian\n",
              "1       keith          imag  ...            clinton              order\n",
              "2       islam          anim  ...        libertarian             koresh\n",
              "\n",
              "[3 rows x 20 columns]"
            ]
          },
          "metadata": {
            "tags": []
          },
          "execution_count": 297
        }
      ]
    },
    {
      "cell_type": "code",
      "metadata": {
        "id": "3H1cA8uAK42r"
      },
      "source": [
        "# Find the each category's most important top 3 features (words) for NB model and show with a dataframe\n",
        "co = modelnb.coef_\n",
        "dic_list=[]\n",
        "\n",
        "for feature in co:\n",
        "  words = vectorizer.get_feature_names()\n",
        "  coefs=[str(a) for a in feature]\n",
        "  coef_word = dict(sorted(list(zip(coefs,words)),reverse=True,key=lambda x: x[0]))\n",
        "  dic_list.append(coef_word)"
      ],
      "execution_count": null,
      "outputs": []
    },
    {
      "cell_type": "code",
      "metadata": {
        "colab": {
          "base_uri": "https://localhost:8080/",
          "height": 178
        },
        "id": "WtwfzWhgLhF4",
        "outputId": "7ba737ee-12a4-4873-8ce9-fbd1119c2c38"
      },
      "source": [
        "nb_df=pd.DataFrame(co).transpose()\n",
        "nb_df.columns=target_groups\n",
        "\n",
        "for col in nb_df.columns:\n",
        "  nb_df[col]=sorted(nb_df[col],reverse=True)\n",
        "nb_df[:3]"
      ],
      "execution_count": null,
      "outputs": [
        {
          "output_type": "execute_result",
          "data": {
            "text/html": [
              "<div>\n",
              "<style scoped>\n",
              "    .dataframe tbody tr th:only-of-type {\n",
              "        vertical-align: middle;\n",
              "    }\n",
              "\n",
              "    .dataframe tbody tr th {\n",
              "        vertical-align: top;\n",
              "    }\n",
              "\n",
              "    .dataframe thead th {\n",
              "        text-align: right;\n",
              "    }\n",
              "</style>\n",
              "<table border=\"1\" class=\"dataframe\">\n",
              "  <thead>\n",
              "    <tr style=\"text-align: right;\">\n",
              "      <th></th>\n",
              "      <th>alt.atheism</th>\n",
              "      <th>comp.graphics</th>\n",
              "      <th>comp.os.ms-windows.misc</th>\n",
              "      <th>comp.sys.ibm.pc.hardware</th>\n",
              "      <th>comp.sys.mac.hardware</th>\n",
              "      <th>comp.windows.x</th>\n",
              "      <th>misc.forsale</th>\n",
              "      <th>rec.autos</th>\n",
              "      <th>rec.motorcycles</th>\n",
              "      <th>rec.sport.baseball</th>\n",
              "      <th>rec.sport.hockey</th>\n",
              "      <th>sci.crypt</th>\n",
              "      <th>sci.electronics</th>\n",
              "      <th>sci.med</th>\n",
              "      <th>sci.space</th>\n",
              "      <th>soc.religion.christian</th>\n",
              "      <th>talk.politics.guns</th>\n",
              "      <th>talk.politics.mideast</th>\n",
              "      <th>talk.politics.misc</th>\n",
              "      <th>talk.religion.misc</th>\n",
              "    </tr>\n",
              "  </thead>\n",
              "  <tbody>\n",
              "    <tr>\n",
              "      <th>0</th>\n",
              "      <td>-4.422438</td>\n",
              "      <td>-4.141202</td>\n",
              "      <td>-3.601376</td>\n",
              "      <td>-3.870892</td>\n",
              "      <td>-4.336611</td>\n",
              "      <td>-4.237783</td>\n",
              "      <td>-4.116655</td>\n",
              "      <td>-3.712061</td>\n",
              "      <td>-4.190736</td>\n",
              "      <td>-4.439585</td>\n",
              "      <td>-4.190412</td>\n",
              "      <td>-4.155218</td>\n",
              "      <td>-4.768406</td>\n",
              "      <td>-5.320275</td>\n",
              "      <td>-4.078717</td>\n",
              "      <td>-4.026771</td>\n",
              "      <td>-4.154680</td>\n",
              "      <td>-4.410863</td>\n",
              "      <td>-4.765390</td>\n",
              "      <td>-4.570874</td>\n",
              "    </tr>\n",
              "    <tr>\n",
              "      <th>1</th>\n",
              "      <td>-4.679518</td>\n",
              "      <td>-4.513675</td>\n",
              "      <td>-4.134643</td>\n",
              "      <td>-4.594651</td>\n",
              "      <td>-4.593196</td>\n",
              "      <td>-4.429398</td>\n",
              "      <td>-4.638480</td>\n",
              "      <td>-5.182257</td>\n",
              "      <td>-4.608416</td>\n",
              "      <td>-4.487552</td>\n",
              "      <td>-4.235605</td>\n",
              "      <td>-4.422415</td>\n",
              "      <td>-5.006477</td>\n",
              "      <td>-5.361551</td>\n",
              "      <td>-4.940102</td>\n",
              "      <td>-4.436170</td>\n",
              "      <td>-4.771248</td>\n",
              "      <td>-4.649685</td>\n",
              "      <td>-5.048942</td>\n",
              "      <td>-4.627170</td>\n",
              "    </tr>\n",
              "    <tr>\n",
              "      <th>2</th>\n",
              "      <td>-4.812925</td>\n",
              "      <td>-4.666765</td>\n",
              "      <td>-4.664562</td>\n",
              "      <td>-4.603117</td>\n",
              "      <td>-4.719787</td>\n",
              "      <td>-4.644046</td>\n",
              "      <td>-4.812541</td>\n",
              "      <td>-5.215107</td>\n",
              "      <td>-4.749800</td>\n",
              "      <td>-4.733939</td>\n",
              "      <td>-4.436031</td>\n",
              "      <td>-4.697043</td>\n",
              "      <td>-5.096840</td>\n",
              "      <td>-5.377891</td>\n",
              "      <td>-5.010017</td>\n",
              "      <td>-4.832169</td>\n",
              "      <td>-5.072002</td>\n",
              "      <td>-4.772704</td>\n",
              "      <td>-5.054778</td>\n",
              "      <td>-4.795730</td>\n",
              "    </tr>\n",
              "  </tbody>\n",
              "</table>\n",
              "</div>"
            ],
            "text/plain": [
              "   alt.atheism  comp.graphics  ...  talk.politics.misc  talk.religion.misc\n",
              "0    -4.422438      -4.141202  ...           -4.765390           -4.570874\n",
              "1    -4.679518      -4.513675  ...           -5.048942           -4.627170\n",
              "2    -4.812925      -4.666765  ...           -5.054778           -4.795730\n",
              "\n",
              "[3 rows x 20 columns]"
            ]
          },
          "metadata": {
            "tags": []
          },
          "execution_count": 299
        }
      ]
    },
    {
      "cell_type": "code",
      "metadata": {
        "colab": {
          "base_uri": "https://localhost:8080/",
          "height": 178
        },
        "id": "5BuRJuFgwsvs",
        "outputId": "0aaf0a01-77a8-46f5-e3aa-7b4609eec053"
      },
      "source": [
        "for t in nb_df.columns:\n",
        "  nb_df[t] = nb_df[t].astype(str)\n",
        "\n",
        "for c in range(0,len(nb_df.columns)):\n",
        "  for i in range(0,3):\n",
        "    coef=nb_df._get_value(i, nb_df.columns[c])\n",
        "    nb_df.at[i, nb_df.columns[c]] = dic_list[c].get(coef)\n",
        "nb_df[:3]"
      ],
      "execution_count": null,
      "outputs": [
        {
          "output_type": "execute_result",
          "data": {
            "text/html": [
              "<div>\n",
              "<style scoped>\n",
              "    .dataframe tbody tr th:only-of-type {\n",
              "        vertical-align: middle;\n",
              "    }\n",
              "\n",
              "    .dataframe tbody tr th {\n",
              "        vertical-align: top;\n",
              "    }\n",
              "\n",
              "    .dataframe thead th {\n",
              "        text-align: right;\n",
              "    }\n",
              "</style>\n",
              "<table border=\"1\" class=\"dataframe\">\n",
              "  <thead>\n",
              "    <tr style=\"text-align: right;\">\n",
              "      <th></th>\n",
              "      <th>alt.atheism</th>\n",
              "      <th>comp.graphics</th>\n",
              "      <th>comp.os.ms-windows.misc</th>\n",
              "      <th>comp.sys.ibm.pc.hardware</th>\n",
              "      <th>comp.sys.mac.hardware</th>\n",
              "      <th>comp.windows.x</th>\n",
              "      <th>misc.forsale</th>\n",
              "      <th>rec.autos</th>\n",
              "      <th>rec.motorcycles</th>\n",
              "      <th>rec.sport.baseball</th>\n",
              "      <th>rec.sport.hockey</th>\n",
              "      <th>sci.crypt</th>\n",
              "      <th>sci.electronics</th>\n",
              "      <th>sci.med</th>\n",
              "      <th>sci.space</th>\n",
              "      <th>soc.religion.christian</th>\n",
              "      <th>talk.politics.guns</th>\n",
              "      <th>talk.politics.mideast</th>\n",
              "      <th>talk.politics.misc</th>\n",
              "      <th>talk.religion.misc</th>\n",
              "    </tr>\n",
              "  </thead>\n",
              "  <tbody>\n",
              "    <tr>\n",
              "      <th>0</th>\n",
              "      <td>god</td>\n",
              "      <td>imag</td>\n",
              "      <td>window</td>\n",
              "      <td>drive</td>\n",
              "      <td>mac</td>\n",
              "      <td>window</td>\n",
              "      <td>sale</td>\n",
              "      <td>car</td>\n",
              "      <td>bike</td>\n",
              "      <td>year</td>\n",
              "      <td>team</td>\n",
              "      <td>key</td>\n",
              "      <td>wire</td>\n",
              "      <td>peopl</td>\n",
              "      <td>space</td>\n",
              "      <td>god</td>\n",
              "      <td>gun</td>\n",
              "      <td>armenian</td>\n",
              "      <td>peopl</td>\n",
              "      <td>god</td>\n",
              "    </tr>\n",
              "    <tr>\n",
              "      <th>1</th>\n",
              "      <td>peopl</td>\n",
              "      <td>file</td>\n",
              "      <td>file</td>\n",
              "      <td>card</td>\n",
              "      <td>appl</td>\n",
              "      <td>file</td>\n",
              "      <td>new</td>\n",
              "      <td>engin</td>\n",
              "      <td>dod</td>\n",
              "      <td>game</td>\n",
              "      <td>game</td>\n",
              "      <td>encrypt</td>\n",
              "      <td>ground</td>\n",
              "      <td>msg</td>\n",
              "      <td>orbit</td>\n",
              "      <td>christian</td>\n",
              "      <td>peopl</td>\n",
              "      <td>peopl</td>\n",
              "      <td>go</td>\n",
              "      <td>christian</td>\n",
              "    </tr>\n",
              "    <tr>\n",
              "      <th>2</th>\n",
              "      <td>say</td>\n",
              "      <td>graphic</td>\n",
              "      <td>driver</td>\n",
              "      <td>scsi</td>\n",
              "      <td>problem</td>\n",
              "      <td>program</td>\n",
              "      <td>offer</td>\n",
              "      <td>good</td>\n",
              "      <td>ride</td>\n",
              "      <td>team</td>\n",
              "      <td>play</td>\n",
              "      <td>chip</td>\n",
              "      <td>work</td>\n",
              "      <td>medic</td>\n",
              "      <td>launch</td>\n",
              "      <td>peopl</td>\n",
              "      <td>right</td>\n",
              "      <td>israel</td>\n",
              "      <td>think</td>\n",
              "      <td>peopl</td>\n",
              "    </tr>\n",
              "  </tbody>\n",
              "</table>\n",
              "</div>"
            ],
            "text/plain": [
              "  alt.atheism comp.graphics  ... talk.politics.misc talk.religion.misc\n",
              "0         god          imag  ...              peopl                god\n",
              "1       peopl          file  ...                 go          christian\n",
              "2         say       graphic  ...              think              peopl\n",
              "\n",
              "[3 rows x 20 columns]"
            ]
          },
          "metadata": {
            "tags": []
          },
          "execution_count": 300
        }
      ]
    },
    {
      "cell_type": "markdown",
      "metadata": {
        "id": "rTkzSQwJRHFE"
      },
      "source": [
        "# **Write your report in this cell**\n",
        "\n",
        "The problem is to classify the words in a text data using two models; Naive Bayess and Logistic Regression.\n",
        "We did preprocessing in order to extract unnecessary words in data which are not capable of being classified as we want, aldo extraxting the punctuation ad have a data which is as clean as possible in order to get the best results in models.\n",
        "\n",
        "In NB, the best alpha was 0.5 and we got classification accuracy of %75 on test data.\n",
        "In LR, the best C parameter was 0.1 and we got accuracy score of %74 on test data.\n",
        "\n",
        "The most important features which are used to classify the texts can be seen in the lr_df and nb_df dataframes. A feature being the most important means it has the highest coefficient among other features and it has the most impact on deciding which class the text will be in. \n",
        "\n"
      ]
    }
  ]
}