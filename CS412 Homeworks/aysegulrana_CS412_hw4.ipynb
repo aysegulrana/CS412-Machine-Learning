{
  "nbformat": 4,
  "nbformat_minor": 0,
  "metadata": {
    "colab": {
      "name": "aysegulrana_CS412_hw4",
      "provenance": [],
      "collapsed_sections": [
        "Ko3omrGs8GAI"
      ]
    },
    "kernelspec": {
      "name": "python3",
      "display_name": "Python 3"
    },
    "language_info": {
      "name": "python"
    },
    "accelerator": "GPU"
  },
  "cells": [
    {
      "cell_type": "markdown",
      "metadata": {
        "id": "Ko3omrGs8GAI"
      },
      "source": [
        "# **HOMEWORK 4**\n",
        "---\n",
        "\n",
        "**Goal:** Build a multilayer perceptron (MLP) model & for classifying SVHN dataset.\n",
        "\n",
        "**Dataset:** SVHN, 32x32 RGB number images.        \n",
        "http://ufldl.stanford.edu/housenumbers/\n",
        "\n",
        "---\n",
        "\n",
        "###**Instructions**             \n",
        "**1)** **Preprocessing**  \n",
        "> **1.1)** Load the dataset                 \n",
        "> **1.2)** Normalize features                \n",
        "  **1.3)** Visualize dataset\n",
        "\n",
        "**2)** **Modelling**\n",
        "> **2.1)** Try different fully hyperparameters (# of hidden layers, learning rate, # of epochs, # of neurons, add dropout, etc.)             \n",
        "> **2.2)** Train with early stopping\n",
        "\n",
        "**3)** **Report**                   \n",
        "Share your results, which hyperparameters you used, train & test accuracy, etc. \n",
        "Write an at most 1/2-page summary of your approach to this problem at the end of your notebook; this should be like an executive summary. Include problem definition and preprocessing as well.\n",
        "\n",
        "\n",
        "> **Topics to Discuss:**                                      \n",
        "Explain you results.           \n",
        "How did you choose the best hyperparameters?                         \n",
        "What happened when the # of epochs are too large/small, why?                  \n",
        "What happened when the learning rate is too large/small, why?              \n",
        "What did you observe when you change the # of hidden layers?                \n",
        "What did you observe when you change the # of neurons?   \n",
        "What is the use of adding dropout?                     \n",
        "What is the use of early stopping? \n",
        "\n",
        "\n",
        "---\n",
        "\n",
        "\n",
        "**Note:** Don't forget to change Colab's runtime to GPU.\n",
        "\n",
        "\n",
        "\n",
        "\n",
        "\n"
      ]
    },
    {
      "cell_type": "markdown",
      "metadata": {
        "id": "P1PahS-1Ez2j"
      },
      "source": [
        "#1) Preprocessing\n",
        "Load, normalize and visualize data\n",
        "\n",
        "\n",
        "---\n",
        "\n",
        "\n",
        "\n"
      ]
    },
    {
      "cell_type": "code",
      "metadata": {
        "id": "ZzZMCgL7c80Y",
        "colab": {
          "base_uri": "https://localhost:8080/"
        },
        "outputId": "ef871f66-a564-4431-fec4-29f74526d1f8"
      },
      "source": [
        "from google.colab import drive\n",
        "drive.mount('/content/drive')"
      ],
      "execution_count": null,
      "outputs": [
        {
          "output_type": "stream",
          "text": [
            "Mounted at /content/drive\n"
          ],
          "name": "stdout"
        }
      ]
    },
    {
      "cell_type": "code",
      "metadata": {
        "id": "cWoXQBAk7mhX",
        "colab": {
          "base_uri": "https://localhost:8080/"
        },
        "outputId": "645c5fe3-4f67-4561-dd6a-d8c871046fbf"
      },
      "source": [
        "# Load SVHN dataset\n",
        "import scipy.io as sio\n",
        "import numpy as np\n",
        "import keras\n",
        "from keras.models import Sequential\n",
        "from keras.layers import Dense\n",
        "from keras.optimizers import Adam, SGD\n",
        "\n",
        "def load_data(path):\n",
        "    data = sio.loadmat(path)\n",
        "    return data['X'], data['y']\n",
        "\n",
        "x_train, y_train = load_data('/content/drive/My Drive/CS412/train_32x32.mat')\n",
        "x_test, y_test = load_data('/content/drive/My Drive/CS412/test_32x32.mat')\n",
        "\n",
        "\n",
        "# Summarize dataset (count, shape, min/max value)"
      ],
      "execution_count": null,
      "outputs": [
        {
          "output_type": "error",
          "ename": "FileNotFoundError",
          "evalue": "ignored",
          "traceback": [
            "\u001b[0;31m---------------------------------------------------------------------------\u001b[0m",
            "\u001b[0;31mFileNotFoundError\u001b[0m                         Traceback (most recent call last)",
            "\u001b[0;32m/usr/local/lib/python3.7/dist-packages/scipy/io/matlab/mio.py\u001b[0m in \u001b[0;36m_open_file\u001b[0;34m(file_like, appendmat, mode)\u001b[0m\n\u001b[1;32m     38\u001b[0m     \u001b[0;32mtry\u001b[0m\u001b[0;34m:\u001b[0m\u001b[0;34m\u001b[0m\u001b[0;34m\u001b[0m\u001b[0m\n\u001b[0;32m---> 39\u001b[0;31m         \u001b[0;32mreturn\u001b[0m \u001b[0mopen\u001b[0m\u001b[0;34m(\u001b[0m\u001b[0mfile_like\u001b[0m\u001b[0;34m,\u001b[0m \u001b[0mmode\u001b[0m\u001b[0;34m)\u001b[0m\u001b[0;34m,\u001b[0m \u001b[0;32mTrue\u001b[0m\u001b[0;34m\u001b[0m\u001b[0;34m\u001b[0m\u001b[0m\n\u001b[0m\u001b[1;32m     40\u001b[0m     \u001b[0;32mexcept\u001b[0m \u001b[0mIOError\u001b[0m\u001b[0;34m:\u001b[0m\u001b[0;34m\u001b[0m\u001b[0;34m\u001b[0m\u001b[0m\n",
            "\u001b[0;31mFileNotFoundError\u001b[0m: [Errno 2] No such file or directory: '/content/drive/My Drive/CS412/train_32x32.mat'",
            "\nDuring handling of the above exception, another exception occurred:\n",
            "\u001b[0;31mFileNotFoundError\u001b[0m                         Traceback (most recent call last)",
            "\u001b[0;32m<ipython-input-1-21177e0ea606>\u001b[0m in \u001b[0;36m<module>\u001b[0;34m()\u001b[0m\n\u001b[1;32m     11\u001b[0m     \u001b[0;32mreturn\u001b[0m \u001b[0mdata\u001b[0m\u001b[0;34m[\u001b[0m\u001b[0;34m'X'\u001b[0m\u001b[0;34m]\u001b[0m\u001b[0;34m,\u001b[0m \u001b[0mdata\u001b[0m\u001b[0;34m[\u001b[0m\u001b[0;34m'y'\u001b[0m\u001b[0;34m]\u001b[0m\u001b[0;34m\u001b[0m\u001b[0;34m\u001b[0m\u001b[0m\n\u001b[1;32m     12\u001b[0m \u001b[0;34m\u001b[0m\u001b[0m\n\u001b[0;32m---> 13\u001b[0;31m \u001b[0mx_train\u001b[0m\u001b[0;34m,\u001b[0m \u001b[0my_train\u001b[0m \u001b[0;34m=\u001b[0m \u001b[0mload_data\u001b[0m\u001b[0;34m(\u001b[0m\u001b[0;34m'/content/drive/My Drive/CS412/train_32x32.mat'\u001b[0m\u001b[0;34m)\u001b[0m\u001b[0;34m\u001b[0m\u001b[0;34m\u001b[0m\u001b[0m\n\u001b[0m\u001b[1;32m     14\u001b[0m \u001b[0mx_test\u001b[0m\u001b[0;34m,\u001b[0m \u001b[0my_test\u001b[0m \u001b[0;34m=\u001b[0m \u001b[0mload_data\u001b[0m\u001b[0;34m(\u001b[0m\u001b[0;34m'/content/drive/My Drive/CS412/test_32x32.mat'\u001b[0m\u001b[0;34m)\u001b[0m\u001b[0;34m\u001b[0m\u001b[0;34m\u001b[0m\u001b[0m\n\u001b[1;32m     15\u001b[0m \u001b[0;34m\u001b[0m\u001b[0m\n",
            "\u001b[0;32m<ipython-input-1-21177e0ea606>\u001b[0m in \u001b[0;36mload_data\u001b[0;34m(path)\u001b[0m\n\u001b[1;32m      8\u001b[0m \u001b[0;34m\u001b[0m\u001b[0m\n\u001b[1;32m      9\u001b[0m \u001b[0;32mdef\u001b[0m \u001b[0mload_data\u001b[0m\u001b[0;34m(\u001b[0m\u001b[0mpath\u001b[0m\u001b[0;34m)\u001b[0m\u001b[0;34m:\u001b[0m\u001b[0;34m\u001b[0m\u001b[0;34m\u001b[0m\u001b[0m\n\u001b[0;32m---> 10\u001b[0;31m     \u001b[0mdata\u001b[0m \u001b[0;34m=\u001b[0m \u001b[0msio\u001b[0m\u001b[0;34m.\u001b[0m\u001b[0mloadmat\u001b[0m\u001b[0;34m(\u001b[0m\u001b[0mpath\u001b[0m\u001b[0;34m)\u001b[0m\u001b[0;34m\u001b[0m\u001b[0;34m\u001b[0m\u001b[0m\n\u001b[0m\u001b[1;32m     11\u001b[0m     \u001b[0;32mreturn\u001b[0m \u001b[0mdata\u001b[0m\u001b[0;34m[\u001b[0m\u001b[0;34m'X'\u001b[0m\u001b[0;34m]\u001b[0m\u001b[0;34m,\u001b[0m \u001b[0mdata\u001b[0m\u001b[0;34m[\u001b[0m\u001b[0;34m'y'\u001b[0m\u001b[0;34m]\u001b[0m\u001b[0;34m\u001b[0m\u001b[0;34m\u001b[0m\u001b[0m\n\u001b[1;32m     12\u001b[0m \u001b[0;34m\u001b[0m\u001b[0m\n",
            "\u001b[0;32m/usr/local/lib/python3.7/dist-packages/scipy/io/matlab/mio.py\u001b[0m in \u001b[0;36mloadmat\u001b[0;34m(file_name, mdict, appendmat, **kwargs)\u001b[0m\n\u001b[1;32m    214\u001b[0m     \"\"\"\n\u001b[1;32m    215\u001b[0m     \u001b[0mvariable_names\u001b[0m \u001b[0;34m=\u001b[0m \u001b[0mkwargs\u001b[0m\u001b[0;34m.\u001b[0m\u001b[0mpop\u001b[0m\u001b[0;34m(\u001b[0m\u001b[0;34m'variable_names'\u001b[0m\u001b[0;34m,\u001b[0m \u001b[0;32mNone\u001b[0m\u001b[0;34m)\u001b[0m\u001b[0;34m\u001b[0m\u001b[0;34m\u001b[0m\u001b[0m\n\u001b[0;32m--> 216\u001b[0;31m     \u001b[0;32mwith\u001b[0m \u001b[0m_open_file_context\u001b[0m\u001b[0;34m(\u001b[0m\u001b[0mfile_name\u001b[0m\u001b[0;34m,\u001b[0m \u001b[0mappendmat\u001b[0m\u001b[0;34m)\u001b[0m \u001b[0;32mas\u001b[0m \u001b[0mf\u001b[0m\u001b[0;34m:\u001b[0m\u001b[0;34m\u001b[0m\u001b[0;34m\u001b[0m\u001b[0m\n\u001b[0m\u001b[1;32m    217\u001b[0m         \u001b[0mMR\u001b[0m\u001b[0;34m,\u001b[0m \u001b[0m_\u001b[0m \u001b[0;34m=\u001b[0m \u001b[0mmat_reader_factory\u001b[0m\u001b[0;34m(\u001b[0m\u001b[0mf\u001b[0m\u001b[0;34m,\u001b[0m \u001b[0;34m**\u001b[0m\u001b[0mkwargs\u001b[0m\u001b[0;34m)\u001b[0m\u001b[0;34m\u001b[0m\u001b[0;34m\u001b[0m\u001b[0m\n\u001b[1;32m    218\u001b[0m         \u001b[0mmatfile_dict\u001b[0m \u001b[0;34m=\u001b[0m \u001b[0mMR\u001b[0m\u001b[0;34m.\u001b[0m\u001b[0mget_variables\u001b[0m\u001b[0;34m(\u001b[0m\u001b[0mvariable_names\u001b[0m\u001b[0;34m)\u001b[0m\u001b[0;34m\u001b[0m\u001b[0;34m\u001b[0m\u001b[0m\n",
            "\u001b[0;32m/usr/lib/python3.7/contextlib.py\u001b[0m in \u001b[0;36m__enter__\u001b[0;34m(self)\u001b[0m\n\u001b[1;32m    110\u001b[0m         \u001b[0;32mdel\u001b[0m \u001b[0mself\u001b[0m\u001b[0;34m.\u001b[0m\u001b[0margs\u001b[0m\u001b[0;34m,\u001b[0m \u001b[0mself\u001b[0m\u001b[0;34m.\u001b[0m\u001b[0mkwds\u001b[0m\u001b[0;34m,\u001b[0m \u001b[0mself\u001b[0m\u001b[0;34m.\u001b[0m\u001b[0mfunc\u001b[0m\u001b[0;34m\u001b[0m\u001b[0;34m\u001b[0m\u001b[0m\n\u001b[1;32m    111\u001b[0m         \u001b[0;32mtry\u001b[0m\u001b[0;34m:\u001b[0m\u001b[0;34m\u001b[0m\u001b[0;34m\u001b[0m\u001b[0m\n\u001b[0;32m--> 112\u001b[0;31m             \u001b[0;32mreturn\u001b[0m \u001b[0mnext\u001b[0m\u001b[0;34m(\u001b[0m\u001b[0mself\u001b[0m\u001b[0;34m.\u001b[0m\u001b[0mgen\u001b[0m\u001b[0;34m)\u001b[0m\u001b[0;34m\u001b[0m\u001b[0;34m\u001b[0m\u001b[0m\n\u001b[0m\u001b[1;32m    113\u001b[0m         \u001b[0;32mexcept\u001b[0m \u001b[0mStopIteration\u001b[0m\u001b[0;34m:\u001b[0m\u001b[0;34m\u001b[0m\u001b[0;34m\u001b[0m\u001b[0m\n\u001b[1;32m    114\u001b[0m             \u001b[0;32mraise\u001b[0m \u001b[0mRuntimeError\u001b[0m\u001b[0;34m(\u001b[0m\u001b[0;34m\"generator didn't yield\"\u001b[0m\u001b[0;34m)\u001b[0m \u001b[0;32mfrom\u001b[0m \u001b[0;32mNone\u001b[0m\u001b[0;34m\u001b[0m\u001b[0;34m\u001b[0m\u001b[0m\n",
            "\u001b[0;32m/usr/local/lib/python3.7/dist-packages/scipy/io/matlab/mio.py\u001b[0m in \u001b[0;36m_open_file_context\u001b[0;34m(file_like, appendmat, mode)\u001b[0m\n\u001b[1;32m     17\u001b[0m \u001b[0;34m@\u001b[0m\u001b[0mcontextmanager\u001b[0m\u001b[0;34m\u001b[0m\u001b[0;34m\u001b[0m\u001b[0m\n\u001b[1;32m     18\u001b[0m \u001b[0;32mdef\u001b[0m \u001b[0m_open_file_context\u001b[0m\u001b[0;34m(\u001b[0m\u001b[0mfile_like\u001b[0m\u001b[0;34m,\u001b[0m \u001b[0mappendmat\u001b[0m\u001b[0;34m,\u001b[0m \u001b[0mmode\u001b[0m\u001b[0;34m=\u001b[0m\u001b[0;34m'rb'\u001b[0m\u001b[0;34m)\u001b[0m\u001b[0;34m:\u001b[0m\u001b[0;34m\u001b[0m\u001b[0;34m\u001b[0m\u001b[0m\n\u001b[0;32m---> 19\u001b[0;31m     \u001b[0mf\u001b[0m\u001b[0;34m,\u001b[0m \u001b[0mopened\u001b[0m \u001b[0;34m=\u001b[0m \u001b[0m_open_file\u001b[0m\u001b[0;34m(\u001b[0m\u001b[0mfile_like\u001b[0m\u001b[0;34m,\u001b[0m \u001b[0mappendmat\u001b[0m\u001b[0;34m,\u001b[0m \u001b[0mmode\u001b[0m\u001b[0;34m)\u001b[0m\u001b[0;34m\u001b[0m\u001b[0;34m\u001b[0m\u001b[0m\n\u001b[0m\u001b[1;32m     20\u001b[0m     \u001b[0;32myield\u001b[0m \u001b[0mf\u001b[0m\u001b[0;34m\u001b[0m\u001b[0;34m\u001b[0m\u001b[0m\n\u001b[1;32m     21\u001b[0m     \u001b[0;32mif\u001b[0m \u001b[0mopened\u001b[0m\u001b[0;34m:\u001b[0m\u001b[0;34m\u001b[0m\u001b[0;34m\u001b[0m\u001b[0m\n",
            "\u001b[0;32m/usr/local/lib/python3.7/dist-packages/scipy/io/matlab/mio.py\u001b[0m in \u001b[0;36m_open_file\u001b[0;34m(file_like, appendmat, mode)\u001b[0m\n\u001b[1;32m     43\u001b[0m             \u001b[0;32mif\u001b[0m \u001b[0mappendmat\u001b[0m \u001b[0;32mand\u001b[0m \u001b[0;32mnot\u001b[0m \u001b[0mfile_like\u001b[0m\u001b[0;34m.\u001b[0m\u001b[0mendswith\u001b[0m\u001b[0;34m(\u001b[0m\u001b[0;34m'.mat'\u001b[0m\u001b[0;34m)\u001b[0m\u001b[0;34m:\u001b[0m\u001b[0;34m\u001b[0m\u001b[0;34m\u001b[0m\u001b[0m\n\u001b[1;32m     44\u001b[0m                 \u001b[0mfile_like\u001b[0m \u001b[0;34m+=\u001b[0m \u001b[0;34m'.mat'\u001b[0m\u001b[0;34m\u001b[0m\u001b[0;34m\u001b[0m\u001b[0m\n\u001b[0;32m---> 45\u001b[0;31m             \u001b[0;32mreturn\u001b[0m \u001b[0mopen\u001b[0m\u001b[0;34m(\u001b[0m\u001b[0mfile_like\u001b[0m\u001b[0;34m,\u001b[0m \u001b[0mmode\u001b[0m\u001b[0;34m)\u001b[0m\u001b[0;34m,\u001b[0m \u001b[0;32mTrue\u001b[0m\u001b[0;34m\u001b[0m\u001b[0;34m\u001b[0m\u001b[0m\n\u001b[0m\u001b[1;32m     46\u001b[0m         \u001b[0;32melse\u001b[0m\u001b[0;34m:\u001b[0m\u001b[0;34m\u001b[0m\u001b[0;34m\u001b[0m\u001b[0m\n\u001b[1;32m     47\u001b[0m             \u001b[0;32mraise\u001b[0m \u001b[0mIOError\u001b[0m\u001b[0;34m(\u001b[0m\u001b[0;34m'Reader needs file name or open file-like object'\u001b[0m\u001b[0;34m)\u001b[0m\u001b[0;34m\u001b[0m\u001b[0;34m\u001b[0m\u001b[0m\n",
            "\u001b[0;31mFileNotFoundError\u001b[0m: [Errno 2] No such file or directory: '/content/drive/My Drive/CS412/train_32x32.mat'"
          ]
        }
      ]
    },
    {
      "cell_type": "code",
      "metadata": {
        "colab": {
          "base_uri": "https://localhost:8080/"
        },
        "id": "4fQsFw6-qFTG",
        "outputId": "c392c316-fa43-427d-afaf-f3d31ace2709"
      },
      "source": [
        "x_train.shape"
      ],
      "execution_count": null,
      "outputs": [
        {
          "output_type": "execute_result",
          "data": {
            "text/plain": [
              "(32, 32, 3, 73257)"
            ]
          },
          "metadata": {
            "tags": []
          },
          "execution_count": 5
        }
      ]
    },
    {
      "cell_type": "code",
      "metadata": {
        "id": "LfwHo1ZGckJU"
      },
      "source": [
        "#Change input shape\n",
        "\n",
        "x_train = np.moveaxis(x_train, -1, 0)\n",
        "x_test = np.moveaxis(x_test, -1, 0)"
      ],
      "execution_count": null,
      "outputs": []
    },
    {
      "cell_type": "code",
      "metadata": {
        "colab": {
          "base_uri": "https://localhost:8080/"
        },
        "id": "Uup48vS6GMB5",
        "outputId": "92331af6-f4a1-4da4-c8d6-4c49c93731c9"
      },
      "source": [
        "x_train.shape"
      ],
      "execution_count": null,
      "outputs": [
        {
          "output_type": "execute_result",
          "data": {
            "text/plain": [
              "(73257, 32, 32, 3)"
            ]
          },
          "metadata": {
            "tags": []
          },
          "execution_count": 7
        }
      ]
    },
    {
      "cell_type": "code",
      "metadata": {
        "colab": {
          "base_uri": "https://localhost:8080/",
          "height": 268
        },
        "id": "EKmTGkQkIUuy",
        "outputId": "9ebc2e11-3334-4553-cdc7-958999ba83b3"
      },
      "source": [
        "# Visualize some samples\n",
        "from matplotlib import pyplot\n",
        "for i in range(9):\n",
        "\tpyplot.subplot(330 + 1 + i)\n",
        "\tpyplot.imshow(x_train[i], cmap=pyplot.get_cmap('gray'))\n",
        "pyplot.show()"
      ],
      "execution_count": null,
      "outputs": [
        {
          "output_type": "display_data",
          "data": {
            "image/png": "[encoded data removed]",
            "text/plain": [
              "<Figure size 432x288 with 9 Axes>"
            ]
          },
          "metadata": {
            "tags": [],
            "needs_background": "light"
          }
        }
      ]
    },
    {
      "cell_type": "code",
      "metadata": {
        "id": "YawuLMTUFYWc",
        "colab": {
          "base_uri": "https://localhost:8080/"
        },
        "outputId": "393e0118-3373-4a9c-f926-48a2b3bb22f3"
      },
      "source": [
        "# Normalize dataset recit11\n",
        "# Reshape the data (flattening)\n",
        "trainSz = x_train.shape\n",
        "x_train = x_train.reshape(trainSz[0], trainSz[1]*trainSz[2]*trainSz[3])\n",
        "\n",
        "testSz = x_test.shape\n",
        "x_test = x_test.reshape(testSz[0], testSz[1]*testSz[2]*trainSz[3])\n",
        "\n",
        "x_train = x_train.astype('float32')\n",
        "x_test = x_test.astype('float32')\n",
        "x_train /= 255\n",
        "x_test /= 255\n",
        "\"\"\"from keras.utils import to_categorical\n",
        "#one-hot encode\n",
        "y_train = to_categorical(y_train)\n",
        "y_test = to_categorical(y_test)\"\"\"\n",
        "print(x_train.shape, x_test.shape)"
      ],
      "execution_count": null,
      "outputs": [
        {
          "output_type": "stream",
          "text": [
            "(73257, 3072) (26032, 3072)\n"
          ],
          "name": "stdout"
        }
      ]
    },
    {
      "cell_type": "markdown",
      "metadata": {
        "id": "l-cMAncVUJKr"
      },
      "source": [
        "#2) Modelling\n",
        "(Build, compile, fit, evaluate)\n",
        "\n",
        "\n",
        "---\n",
        "\n"
      ]
    },
    {
      "cell_type": "markdown",
      "metadata": {
        "id": "04IPqSXXU6pU"
      },
      "source": [
        "##2.1) Part 1\n",
        "\n",
        "---\n",
        "\n"
      ]
    },
    {
      "cell_type": "code",
      "metadata": {
        "id": "6bxJwODCuaEA"
      },
      "source": [
        "y_train[y_train==10]=0\n",
        "y_test[y_test==10]=0"
      ],
      "execution_count": null,
      "outputs": []
    },
    {
      "cell_type": "code",
      "metadata": {
        "id": "PWjsPZwOUfpZ",
        "colab": {
          "base_uri": "https://localhost:8080/"
        },
        "outputId": "9e821ebf-2b5c-4648-f450-ba4d2e1eefc6"
      },
      "source": [
        "#learning rate=0.00001, hidden layer 1\n",
        "#epoch 10\n",
        "#batch 128\n",
        "model1 = Sequential()\n",
        "model1.add(Dense(1024, activation='relu', input_shape=(x_train.shape[1],), name='hidden_layer1'))\n",
        "model1.add(Dense(10, activation='softmax', name='output_layer'))\n",
        "model1.summary()\n",
        "model1.compile(loss='sparse_categorical_crossentropy', optimizer=Adam(learning_rate=0.00001), metrics=['accuracy'])\n",
        "history = model1.fit(x_train, y_train, batch_size=128, epochs=10, #validation_data=(x_val, y_val), \n",
        "                    validation_split = 0.2, #automatically reserve part of the training data for validation\n",
        "                    verbose=1)"
      ],
      "execution_count": null,
      "outputs": [
        {
          "output_type": "stream",
          "text": [
            "Model: \"sequential\"\n",
            "_________________________________________________________________\n",
            "Layer (type)                 Output Shape              Param #   \n",
            "=================================================================\n",
            "hidden_layer1 (Dense)        (None, 1024)              3146752   \n",
            "_________________________________________________________________\n",
            "output_layer (Dense)         (None, 10)                10250     \n",
            "=================================================================\n",
            "Total params: 3,157,002\n",
            "Trainable params: 3,157,002\n",
            "Non-trainable params: 0\n",
            "_________________________________________________________________\n",
            "Epoch 1/10\n",
            "458/458 [==============================] - 22s 47ms/step - loss: 2.2421 - accuracy: 0.1961 - val_loss: 2.1793 - val_accuracy: 0.2507\n",
            "Epoch 2/10\n",
            "458/458 [==============================] - 21s 46ms/step - loss: 2.1666 - accuracy: 0.2332 - val_loss: 2.1119 - val_accuracy: 0.2773\n",
            "Epoch 3/10\n",
            "458/458 [==============================] - 21s 46ms/step - loss: 2.0962 - accuracy: 0.2816 - val_loss: 2.0397 - val_accuracy: 0.3236\n",
            "Epoch 4/10\n",
            "458/458 [==============================] - 21s 46ms/step - loss: 2.0165 - accuracy: 0.3320 - val_loss: 1.9688 - val_accuracy: 0.3617\n",
            "Epoch 5/10\n",
            "458/458 [==============================] - 21s 46ms/step - loss: 1.9388 - accuracy: 0.3801 - val_loss: 1.8878 - val_accuracy: 0.4081\n",
            "Epoch 6/10\n",
            "458/458 [==============================] - 21s 46ms/step - loss: 1.8670 - accuracy: 0.4215 - val_loss: 1.8192 - val_accuracy: 0.4213\n",
            "Epoch 7/10\n",
            "458/458 [==============================] - 21s 46ms/step - loss: 1.7910 - accuracy: 0.4550 - val_loss: 1.7562 - val_accuracy: 0.4730\n",
            "Epoch 8/10\n",
            "458/458 [==============================] - 21s 46ms/step - loss: 1.7248 - accuracy: 0.4899 - val_loss: 1.6921 - val_accuracy: 0.5038\n",
            "Epoch 9/10\n",
            "458/458 [==============================] - 21s 46ms/step - loss: 1.6637 - accuracy: 0.5123 - val_loss: 1.6361 - val_accuracy: 0.5349\n",
            "Epoch 10/10\n",
            "458/458 [==============================] - 21s 46ms/step - loss: 1.6058 - accuracy: 0.5409 - val_loss: 1.5909 - val_accuracy: 0.5517\n"
          ],
          "name": "stdout"
        }
      ]
    },
    {
      "cell_type": "code",
      "metadata": {
        "colab": {
          "base_uri": "https://localhost:8080/"
        },
        "id": "nC0zv0DwYaoc",
        "outputId": "007b596f-49c6-42ff-9916-9448c6dfac27"
      },
      "source": [
        "#hidden layer 1, learning rate=0.00001, epoch 10, batch 256\n",
        "model2 = Sequential()\n",
        "model2.add(Dense(1024, activation='relu', input_shape=(x_train.shape[1],), name='hidden_layer1'))\n",
        "model2.add(Dense(10, activation='softmax', name='output_layer'))\n",
        "model2.summary()\n",
        "model2.compile(loss='sparse_categorical_crossentropy', optimizer=Adam(learning_rate=0.00001), metrics=['accuracy'])\n",
        "hist2 = model2.fit(x_train, y_train, batch_size=256, epochs=10, #validation_data=(x_val, y_val), \n",
        "                    validation_split = 0.2, #automatically reserve part of the training data for validation\n",
        "                    verbose=1)"
      ],
      "execution_count": null,
      "outputs": [
        {
          "output_type": "stream",
          "text": [
            "Model: \"sequential_1\"\n",
            "_________________________________________________________________\n",
            "Layer (type)                 Output Shape              Param #   \n",
            "=================================================================\n",
            "hidden_layer1 (Dense)        (None, 1024)              3146752   \n",
            "_________________________________________________________________\n",
            "output_layer (Dense)         (None, 10)                10250     \n",
            "=================================================================\n",
            "Total params: 3,157,002\n",
            "Trainable params: 3,157,002\n",
            "Non-trainable params: 0\n",
            "_________________________________________________________________\n",
            "Epoch 1/10\n",
            "229/229 [==============================] - 18s 78ms/step - loss: 2.2503 - accuracy: 0.1873 - val_loss: 2.2043 - val_accuracy: 0.2030\n",
            "Epoch 2/10\n",
            "229/229 [==============================] - 18s 77ms/step - loss: 2.1893 - accuracy: 0.2190 - val_loss: 2.1578 - val_accuracy: 0.2469\n",
            "Epoch 3/10\n",
            "229/229 [==============================] - 18s 78ms/step - loss: 2.1428 - accuracy: 0.2425 - val_loss: 2.1141 - val_accuracy: 0.2530\n",
            "Epoch 4/10\n",
            "229/229 [==============================] - 18s 79ms/step - loss: 2.0956 - accuracy: 0.2812 - val_loss: 2.0649 - val_accuracy: 0.3007\n",
            "Epoch 5/10\n",
            "229/229 [==============================] - 18s 78ms/step - loss: 2.0420 - accuracy: 0.3155 - val_loss: 2.0158 - val_accuracy: 0.3232\n",
            "Epoch 6/10\n",
            "229/229 [==============================] - 18s 78ms/step - loss: 1.9875 - accuracy: 0.3517 - val_loss: 1.9694 - val_accuracy: 0.3507\n",
            "Epoch 7/10\n",
            "229/229 [==============================] - 18s 78ms/step - loss: 1.9350 - accuracy: 0.3797 - val_loss: 1.9165 - val_accuracy: 0.4177\n",
            "Epoch 8/10\n",
            "229/229 [==============================] - 18s 78ms/step - loss: 1.8836 - accuracy: 0.4073 - val_loss: 1.8593 - val_accuracy: 0.4151\n",
            "Epoch 9/10\n",
            "229/229 [==============================] - 18s 78ms/step - loss: 1.8329 - accuracy: 0.4374 - val_loss: 1.8092 - val_accuracy: 0.4597\n",
            "Epoch 10/10\n",
            "229/229 [==============================] - 18s 78ms/step - loss: 1.7838 - accuracy: 0.4622 - val_loss: 1.7699 - val_accuracy: 0.4958\n"
          ],
          "name": "stdout"
        }
      ]
    },
    {
      "cell_type": "code",
      "metadata": {
        "colab": {
          "base_uri": "https://localhost:8080/"
        },
        "id": "d9tnrDTVYc-r",
        "outputId": "39f01ef1-6dad-4884-aec4-6d787b389914"
      },
      "source": [
        "#hidden layer 1, learning rate=0.00001, epoch 100, batch 256\n",
        "model3 = Sequential()\n",
        "model3.add(Dense(1024, activation='relu', input_shape=(x_train.shape[1],), name='hidden_layer1'))\n",
        "model3.add(Dense(10, activation='softmax', name='output_layer'))\n",
        "model3.summary()\n",
        "model3.compile(loss='sparse_categorical_crossentropy', optimizer=Adam(learning_rate=0.00001), metrics=['accuracy'])\n",
        "hist3 = model3.fit(x_train, y_train, batch_size=256, epochs=100, #validation_data=(x_val, y_val), \n",
        "                    validation_split = 0.2, #automatically reserve part of the training data for validation\n",
        "                    verbose=1)"
      ],
      "execution_count": null,
      "outputs": [
        {
          "output_type": "stream",
          "text": [
            "Model: \"sequential_2\"\n",
            "_________________________________________________________________\n",
            "Layer (type)                 Output Shape              Param #   \n",
            "=================================================================\n",
            "hidden_layer1 (Dense)        (None, 1024)              3146752   \n",
            "_________________________________________________________________\n",
            "output_layer (Dense)         (None, 10)                10250     \n",
            "=================================================================\n",
            "Total params: 3,157,002\n",
            "Trainable params: 3,157,002\n",
            "Non-trainable params: 0\n",
            "_________________________________________________________________\n",
            "Epoch 1/100\n",
            "229/229 [==============================] - 18s 79ms/step - loss: 2.2471 - accuracy: 0.1825 - val_loss: 2.1953 - val_accuracy: 0.2245\n",
            "Epoch 2/100\n",
            "229/229 [==============================] - 18s 78ms/step - loss: 2.1821 - accuracy: 0.2228 - val_loss: 2.1495 - val_accuracy: 0.2488\n",
            "Epoch 3/100\n",
            "229/229 [==============================] - 18s 78ms/step - loss: 2.1349 - accuracy: 0.2483 - val_loss: 2.1026 - val_accuracy: 0.2842\n",
            "Epoch 4/100\n",
            "229/229 [==============================] - 18s 78ms/step - loss: 2.0875 - accuracy: 0.2844 - val_loss: 2.0560 - val_accuracy: 0.2987\n",
            "Epoch 5/100\n",
            "229/229 [==============================] - 18s 78ms/step - loss: 2.0331 - accuracy: 0.3220 - val_loss: 2.0055 - val_accuracy: 0.3625\n",
            "Epoch 6/100\n",
            "229/229 [==============================] - 18s 78ms/step - loss: 1.9797 - accuracy: 0.3552 - val_loss: 1.9520 - val_accuracy: 0.3912\n",
            "Epoch 7/100\n",
            "229/229 [==============================] - 18s 78ms/step - loss: 1.9276 - accuracy: 0.3853 - val_loss: 1.9037 - val_accuracy: 0.4105\n",
            "Epoch 8/100\n",
            "229/229 [==============================] - 18s 79ms/step - loss: 1.8764 - accuracy: 0.4177 - val_loss: 1.8524 - val_accuracy: 0.4483\n",
            "Epoch 9/100\n",
            "229/229 [==============================] - 18s 79ms/step - loss: 1.8261 - accuracy: 0.4420 - val_loss: 1.8078 - val_accuracy: 0.4485\n",
            "Epoch 10/100\n",
            "229/229 [==============================] - 18s 79ms/step - loss: 1.7777 - accuracy: 0.4629 - val_loss: 1.7623 - val_accuracy: 0.4563\n",
            "Epoch 11/100\n",
            "229/229 [==============================] - 18s 79ms/step - loss: 1.7308 - accuracy: 0.4846 - val_loss: 1.7189 - val_accuracy: 0.4795\n",
            "Epoch 12/100\n",
            "229/229 [==============================] - 18s 79ms/step - loss: 1.6948 - accuracy: 0.5051 - val_loss: 1.6780 - val_accuracy: 0.4931\n",
            "Epoch 13/100\n",
            "229/229 [==============================] - 18s 79ms/step - loss: 1.6488 - accuracy: 0.5270 - val_loss: 1.6430 - val_accuracy: 0.5271\n",
            "Epoch 14/100\n",
            "229/229 [==============================] - 18s 78ms/step - loss: 1.6082 - accuracy: 0.5411 - val_loss: 1.6035 - val_accuracy: 0.5412\n",
            "Epoch 15/100\n",
            "229/229 [==============================] - 18s 79ms/step - loss: 1.5739 - accuracy: 0.5595 - val_loss: 1.5705 - val_accuracy: 0.5599\n",
            "Epoch 16/100\n",
            "229/229 [==============================] - 18s 79ms/step - loss: 1.5389 - accuracy: 0.5680 - val_loss: 1.5387 - val_accuracy: 0.5640\n",
            "Epoch 17/100\n",
            "229/229 [==============================] - 18s 79ms/step - loss: 1.5077 - accuracy: 0.5789 - val_loss: 1.5085 - val_accuracy: 0.5878\n",
            "Epoch 18/100\n",
            "229/229 [==============================] - 18s 79ms/step - loss: 1.4772 - accuracy: 0.5945 - val_loss: 1.4803 - val_accuracy: 0.5931\n",
            "Epoch 19/100\n",
            "229/229 [==============================] - 18s 79ms/step - loss: 1.4444 - accuracy: 0.6035 - val_loss: 1.4552 - val_accuracy: 0.6136\n",
            "Epoch 20/100\n",
            "229/229 [==============================] - 18s 79ms/step - loss: 1.4264 - accuracy: 0.6062 - val_loss: 1.4318 - val_accuracy: 0.5993\n",
            "Epoch 21/100\n",
            "229/229 [==============================] - 18s 79ms/step - loss: 1.3978 - accuracy: 0.6170 - val_loss: 1.4109 - val_accuracy: 0.6144\n",
            "Epoch 22/100\n",
            "229/229 [==============================] - 18s 79ms/step - loss: 1.3738 - accuracy: 0.6243 - val_loss: 1.3835 - val_accuracy: 0.6231\n",
            "Epoch 23/100\n",
            "229/229 [==============================] - 18s 79ms/step - loss: 1.3552 - accuracy: 0.6322 - val_loss: 1.3713 - val_accuracy: 0.6259\n",
            "Epoch 24/100\n",
            "229/229 [==============================] - 18s 78ms/step - loss: 1.3344 - accuracy: 0.6340 - val_loss: 1.3462 - val_accuracy: 0.6284\n",
            "Epoch 25/100\n",
            "229/229 [==============================] - 18s 79ms/step - loss: 1.3131 - accuracy: 0.6424 - val_loss: 1.3262 - val_accuracy: 0.6400\n",
            "Epoch 26/100\n",
            "229/229 [==============================] - 18s 78ms/step - loss: 1.2838 - accuracy: 0.6512 - val_loss: 1.3113 - val_accuracy: 0.6428\n",
            "Epoch 27/100\n",
            "229/229 [==============================] - 18s 78ms/step - loss: 1.2714 - accuracy: 0.6530 - val_loss: 1.2923 - val_accuracy: 0.6497\n",
            "Epoch 28/100\n",
            "229/229 [==============================] - 18s 79ms/step - loss: 1.2600 - accuracy: 0.6610 - val_loss: 1.2749 - val_accuracy: 0.6550\n",
            "Epoch 29/100\n",
            "229/229 [==============================] - 18s 79ms/step - loss: 1.2357 - accuracy: 0.6656 - val_loss: 1.2606 - val_accuracy: 0.6624\n",
            "Epoch 30/100\n",
            "229/229 [==============================] - 18s 79ms/step - loss: 1.2216 - accuracy: 0.6696 - val_loss: 1.2491 - val_accuracy: 0.6566\n",
            "Epoch 31/100\n",
            "229/229 [==============================] - 18s 79ms/step - loss: 1.2191 - accuracy: 0.6656 - val_loss: 1.2313 - val_accuracy: 0.6676\n",
            "Epoch 32/100\n",
            "229/229 [==============================] - 18s 79ms/step - loss: 1.2008 - accuracy: 0.6730 - val_loss: 1.2191 - val_accuracy: 0.6708\n",
            "Epoch 33/100\n",
            "229/229 [==============================] - 18s 79ms/step - loss: 1.1843 - accuracy: 0.6767 - val_loss: 1.2066 - val_accuracy: 0.6688\n",
            "Epoch 34/100\n",
            "229/229 [==============================] - 18s 79ms/step - loss: 1.1753 - accuracy: 0.6794 - val_loss: 1.1951 - val_accuracy: 0.6738\n",
            "Epoch 35/100\n",
            "229/229 [==============================] - 18s 81ms/step - loss: 1.1543 - accuracy: 0.6880 - val_loss: 1.1841 - val_accuracy: 0.6753\n",
            "Epoch 36/100\n",
            "229/229 [==============================] - 19s 82ms/step - loss: 1.1434 - accuracy: 0.6855 - val_loss: 1.1740 - val_accuracy: 0.6805\n",
            "Epoch 37/100\n",
            "229/229 [==============================] - 19s 84ms/step - loss: 1.1356 - accuracy: 0.6879 - val_loss: 1.1706 - val_accuracy: 0.6725\n",
            "Epoch 38/100\n",
            "229/229 [==============================] - 19s 83ms/step - loss: 1.1247 - accuracy: 0.6933 - val_loss: 1.1533 - val_accuracy: 0.6849\n",
            "Epoch 39/100\n",
            "229/229 [==============================] - 19s 81ms/step - loss: 1.1121 - accuracy: 0.6975 - val_loss: 1.1431 - val_accuracy: 0.6841\n",
            "Epoch 40/100\n",
            "229/229 [==============================] - 19s 84ms/step - loss: 1.1093 - accuracy: 0.6982 - val_loss: 1.1367 - val_accuracy: 0.6854\n",
            "Epoch 41/100\n",
            "229/229 [==============================] - 20s 86ms/step - loss: 1.0964 - accuracy: 0.6989 - val_loss: 1.1237 - val_accuracy: 0.6931\n",
            "Epoch 42/100\n",
            "229/229 [==============================] - 19s 85ms/step - loss: 1.0871 - accuracy: 0.7031 - val_loss: 1.1192 - val_accuracy: 0.6930\n",
            "Epoch 43/100\n",
            "229/229 [==============================] - 19s 85ms/step - loss: 1.0772 - accuracy: 0.7065 - val_loss: 1.1092 - val_accuracy: 0.6900\n",
            "Epoch 44/100\n",
            "229/229 [==============================] - 19s 85ms/step - loss: 1.0694 - accuracy: 0.7052 - val_loss: 1.1043 - val_accuracy: 0.6948\n",
            "Epoch 45/100\n",
            "229/229 [==============================] - 19s 81ms/step - loss: 1.0588 - accuracy: 0.7089 - val_loss: 1.0917 - val_accuracy: 0.7004\n",
            "Epoch 46/100\n",
            "229/229 [==============================] - 19s 81ms/step - loss: 1.0489 - accuracy: 0.7117 - val_loss: 1.0846 - val_accuracy: 0.7000\n",
            "Epoch 47/100\n",
            "229/229 [==============================] - 19s 81ms/step - loss: 1.0502 - accuracy: 0.7119 - val_loss: 1.0786 - val_accuracy: 0.7034\n",
            "Epoch 48/100\n",
            "229/229 [==============================] - 19s 82ms/step - loss: 1.0365 - accuracy: 0.7150 - val_loss: 1.0700 - val_accuracy: 0.7020\n",
            "Epoch 49/100\n",
            "229/229 [==============================] - 19s 81ms/step - loss: 1.0236 - accuracy: 0.7162 - val_loss: 1.0672 - val_accuracy: 0.7050\n",
            "Epoch 50/100\n",
            "229/229 [==============================] - 19s 82ms/step - loss: 1.0258 - accuracy: 0.7173 - val_loss: 1.0601 - val_accuracy: 0.7017\n",
            "Epoch 51/100\n",
            "229/229 [==============================] - 19s 81ms/step - loss: 1.0112 - accuracy: 0.7211 - val_loss: 1.0510 - val_accuracy: 0.7119\n",
            "Epoch 52/100\n",
            "229/229 [==============================] - 19s 81ms/step - loss: 1.0117 - accuracy: 0.7213 - val_loss: 1.0485 - val_accuracy: 0.7067\n",
            "Epoch 53/100\n",
            "229/229 [==============================] - 19s 81ms/step - loss: 1.0028 - accuracy: 0.7235 - val_loss: 1.0390 - val_accuracy: 0.7098\n",
            "Epoch 54/100\n",
            "229/229 [==============================] - 19s 81ms/step - loss: 0.9954 - accuracy: 0.7218 - val_loss: 1.0332 - val_accuracy: 0.7144\n",
            "Epoch 55/100\n",
            "229/229 [==============================] - 19s 81ms/step - loss: 0.9831 - accuracy: 0.7276 - val_loss: 1.0285 - val_accuracy: 0.7145\n",
            "Epoch 56/100\n",
            "229/229 [==============================] - 19s 81ms/step - loss: 0.9951 - accuracy: 0.7240 - val_loss: 1.0222 - val_accuracy: 0.7177\n",
            "Epoch 57/100\n",
            "229/229 [==============================] - 19s 81ms/step - loss: 0.9721 - accuracy: 0.7296 - val_loss: 1.0212 - val_accuracy: 0.7129\n",
            "Epoch 58/100\n",
            "229/229 [==============================] - 19s 81ms/step - loss: 0.9658 - accuracy: 0.7299 - val_loss: 1.0118 - val_accuracy: 0.7168\n",
            "Epoch 59/100\n",
            "229/229 [==============================] - 19s 81ms/step - loss: 0.9694 - accuracy: 0.7305 - val_loss: 1.0038 - val_accuracy: 0.7196\n",
            "Epoch 60/100\n",
            "229/229 [==============================] - 18s 81ms/step - loss: 0.9559 - accuracy: 0.7360 - val_loss: 0.9988 - val_accuracy: 0.7176\n",
            "Epoch 61/100\n",
            "229/229 [==============================] - 18s 81ms/step - loss: 0.9573 - accuracy: 0.7326 - val_loss: 0.9960 - val_accuracy: 0.7233\n",
            "Epoch 62/100\n",
            "229/229 [==============================] - 18s 81ms/step - loss: 0.9449 - accuracy: 0.7374 - val_loss: 0.9908 - val_accuracy: 0.7232\n",
            "Epoch 63/100\n",
            "229/229 [==============================] - 18s 81ms/step - loss: 0.9400 - accuracy: 0.7397 - val_loss: 0.9866 - val_accuracy: 0.7212\n",
            "Epoch 64/100\n",
            "229/229 [==============================] - 19s 81ms/step - loss: 0.9398 - accuracy: 0.7407 - val_loss: 0.9797 - val_accuracy: 0.7249\n",
            "Epoch 65/100\n",
            "229/229 [==============================] - 19s 81ms/step - loss: 0.9409 - accuracy: 0.7362 - val_loss: 0.9768 - val_accuracy: 0.7217\n",
            "Epoch 66/100\n",
            "229/229 [==============================] - 19s 81ms/step - loss: 0.9366 - accuracy: 0.7373 - val_loss: 0.9768 - val_accuracy: 0.7228\n",
            "Epoch 67/100\n",
            "229/229 [==============================] - 19s 81ms/step - loss: 0.9294 - accuracy: 0.7392 - val_loss: 0.9693 - val_accuracy: 0.7271\n",
            "Epoch 68/100\n",
            "229/229 [==============================] - 19s 81ms/step - loss: 0.9248 - accuracy: 0.7414 - val_loss: 0.9644 - val_accuracy: 0.7223\n",
            "Epoch 69/100\n",
            "229/229 [==============================] - 19s 82ms/step - loss: 0.9128 - accuracy: 0.7434 - val_loss: 0.9589 - val_accuracy: 0.7279\n",
            "Epoch 70/100\n",
            "229/229 [==============================] - 19s 82ms/step - loss: 0.9043 - accuracy: 0.7451 - val_loss: 0.9557 - val_accuracy: 0.7270\n",
            "Epoch 71/100\n",
            "229/229 [==============================] - 19s 82ms/step - loss: 0.9035 - accuracy: 0.7477 - val_loss: 0.9533 - val_accuracy: 0.7272\n",
            "Epoch 72/100\n",
            "229/229 [==============================] - 19s 82ms/step - loss: 0.9055 - accuracy: 0.7446 - val_loss: 0.9520 - val_accuracy: 0.7303\n",
            "Epoch 73/100\n",
            "229/229 [==============================] - 19s 82ms/step - loss: 0.8935 - accuracy: 0.7503 - val_loss: 0.9445 - val_accuracy: 0.7327\n",
            "Epoch 74/100\n",
            "229/229 [==============================] - 19s 82ms/step - loss: 0.8840 - accuracy: 0.7534 - val_loss: 0.9405 - val_accuracy: 0.7327\n",
            "Epoch 75/100\n",
            "229/229 [==============================] - 19s 81ms/step - loss: 0.8918 - accuracy: 0.7498 - val_loss: 0.9368 - val_accuracy: 0.7308\n",
            "Epoch 76/100\n",
            "229/229 [==============================] - 19s 81ms/step - loss: 0.8925 - accuracy: 0.7468 - val_loss: 0.9322 - val_accuracy: 0.7327\n",
            "Epoch 77/100\n",
            "229/229 [==============================] - 19s 82ms/step - loss: 0.8847 - accuracy: 0.7515 - val_loss: 0.9285 - val_accuracy: 0.7329\n",
            "Epoch 78/100\n",
            "229/229 [==============================] - 19s 81ms/step - loss: 0.8855 - accuracy: 0.7492 - val_loss: 0.9255 - val_accuracy: 0.7359\n",
            "Epoch 79/100\n",
            "229/229 [==============================] - 19s 81ms/step - loss: 0.8762 - accuracy: 0.7544 - val_loss: 0.9285 - val_accuracy: 0.7355\n",
            "Epoch 80/100\n",
            "229/229 [==============================] - 19s 81ms/step - loss: 0.8669 - accuracy: 0.7549 - val_loss: 0.9195 - val_accuracy: 0.7362\n",
            "Epoch 81/100\n",
            "229/229 [==============================] - 19s 81ms/step - loss: 0.8619 - accuracy: 0.7574 - val_loss: 0.9162 - val_accuracy: 0.7353\n",
            "Epoch 82/100\n",
            "229/229 [==============================] - 19s 82ms/step - loss: 0.8612 - accuracy: 0.7582 - val_loss: 0.9137 - val_accuracy: 0.7362\n",
            "Epoch 83/100\n",
            "229/229 [==============================] - 19s 82ms/step - loss: 0.8653 - accuracy: 0.7575 - val_loss: 0.9087 - val_accuracy: 0.7391\n",
            "Epoch 84/100\n",
            "229/229 [==============================] - 19s 81ms/step - loss: 0.8572 - accuracy: 0.7574 - val_loss: 0.9063 - val_accuracy: 0.7395\n",
            "Epoch 85/100\n",
            "229/229 [==============================] - 19s 83ms/step - loss: 0.8533 - accuracy: 0.7578 - val_loss: 0.9032 - val_accuracy: 0.7409\n",
            "Epoch 86/100\n",
            "229/229 [==============================] - 19s 83ms/step - loss: 0.8574 - accuracy: 0.7590 - val_loss: 0.8992 - val_accuracy: 0.7412\n",
            "Epoch 87/100\n",
            "229/229 [==============================] - 19s 82ms/step - loss: 0.8509 - accuracy: 0.7600 - val_loss: 0.8949 - val_accuracy: 0.7413\n",
            "Epoch 88/100\n",
            "229/229 [==============================] - 19s 81ms/step - loss: 0.8362 - accuracy: 0.7648 - val_loss: 0.8931 - val_accuracy: 0.7434\n",
            "Epoch 89/100\n",
            "229/229 [==============================] - 19s 83ms/step - loss: 0.8391 - accuracy: 0.7637 - val_loss: 0.8889 - val_accuracy: 0.7427\n",
            "Epoch 90/100\n",
            "229/229 [==============================] - 19s 85ms/step - loss: 0.8283 - accuracy: 0.7658 - val_loss: 0.8871 - val_accuracy: 0.7439\n",
            "Epoch 91/100\n",
            "229/229 [==============================] - 19s 84ms/step - loss: 0.8373 - accuracy: 0.7629 - val_loss: 0.8849 - val_accuracy: 0.7447\n",
            "Epoch 92/100\n",
            "229/229 [==============================] - 20s 85ms/step - loss: 0.8325 - accuracy: 0.7650 - val_loss: 0.8832 - val_accuracy: 0.7482\n",
            "Epoch 93/100\n",
            "229/229 [==============================] - 20s 86ms/step - loss: 0.8271 - accuracy: 0.7670 - val_loss: 0.8803 - val_accuracy: 0.7484\n",
            "Epoch 94/100\n",
            "229/229 [==============================] - 20s 87ms/step - loss: 0.8292 - accuracy: 0.7662 - val_loss: 0.8784 - val_accuracy: 0.7455\n",
            "Epoch 95/100\n",
            "229/229 [==============================] - 20s 86ms/step - loss: 0.8179 - accuracy: 0.7681 - val_loss: 0.8740 - val_accuracy: 0.7465\n",
            "Epoch 96/100\n",
            "229/229 [==============================] - 20s 86ms/step - loss: 0.8093 - accuracy: 0.7728 - val_loss: 0.8681 - val_accuracy: 0.7484\n",
            "Epoch 97/100\n",
            "229/229 [==============================] - 20s 86ms/step - loss: 0.8158 - accuracy: 0.7690 - val_loss: 0.8660 - val_accuracy: 0.7504\n",
            "Epoch 98/100\n",
            "229/229 [==============================] - 20s 87ms/step - loss: 0.8182 - accuracy: 0.7692 - val_loss: 0.8677 - val_accuracy: 0.7501\n",
            "Epoch 99/100\n",
            "229/229 [==============================] - 20s 85ms/step - loss: 0.8037 - accuracy: 0.7706 - val_loss: 0.8610 - val_accuracy: 0.7534\n",
            "Epoch 100/100\n",
            "229/229 [==============================] - 20s 85ms/step - loss: 0.7985 - accuracy: 0.7764 - val_loss: 0.8586 - val_accuracy: 0.7528\n"
          ],
          "name": "stdout"
        }
      ]
    },
    {
      "cell_type": "code",
      "metadata": {
        "colab": {
          "base_uri": "https://localhost:8080/"
        },
        "id": "pYdqz6uEYfaL",
        "outputId": "68ea3f65-a922-4da7-8bf3-cd2c12696327"
      },
      "source": [
        "#hidden layer 3, learning rate=0.00001, epoch 10, batch 256\n",
        "model4=Sequential()\n",
        "model4.add(Dense(1024, activation='relu', input_shape=(x_train.shape[1],), name='hidden_layer1'))\n",
        "model4.add(Dense(512, activation='relu', name='hidden_layer2'))\n",
        "model4.add(Dense(128, activation='relu', name='hidden_layer3'))\n",
        "model4.add(Dense(10, activation='softmax', name='output_layer'))\n",
        "model4.summary()\n",
        "model4.compile(loss='sparse_categorical_crossentropy', optimizer=Adam(learning_rate=0.00001), metrics=['accuracy'])\n",
        "hist4 = model4.fit(x_train, y_train, batch_size=256, epochs=10, #validation_data=(x_val, y_val), \n",
        "                    validation_split = 0.2, #automatically reserve part of the training data for validation\n",
        "                    verbose=1)"
      ],
      "execution_count": null,
      "outputs": [
        {
          "output_type": "stream",
          "text": [
            "Model: \"sequential_4\"\n",
            "_________________________________________________________________\n",
            "Layer (type)                 Output Shape              Param #   \n",
            "=================================================================\n",
            "hidden_layer1 (Dense)        (None, 1024)              3146752   \n",
            "_________________________________________________________________\n",
            "hidden_layer2 (Dense)        (None, 512)               524800    \n",
            "_________________________________________________________________\n",
            "hidden_layer3 (Dense)        (None, 128)               65664     \n",
            "_________________________________________________________________\n",
            "output_layer (Dense)         (None, 10)                1290      \n",
            "=================================================================\n",
            "Total params: 3,738,506\n",
            "Trainable params: 3,738,506\n",
            "Non-trainable params: 0\n",
            "_________________________________________________________________\n",
            "Epoch 1/10\n",
            "229/229 [==============================] - 24s 104ms/step - loss: 2.2363 - accuracy: 0.1890 - val_loss: 2.1716 - val_accuracy: 0.2419\n",
            "Epoch 2/10\n",
            "229/229 [==============================] - 23s 101ms/step - loss: 2.1450 - accuracy: 0.2432 - val_loss: 2.0662 - val_accuracy: 0.2791\n",
            "Epoch 3/10\n",
            "229/229 [==============================] - 23s 102ms/step - loss: 2.0355 - accuracy: 0.3130 - val_loss: 1.9486 - val_accuracy: 0.3855\n",
            "Epoch 4/10\n",
            "229/229 [==============================] - 23s 102ms/step - loss: 1.9068 - accuracy: 0.3853 - val_loss: 1.8198 - val_accuracy: 0.4347\n",
            "Epoch 5/10\n",
            "229/229 [==============================] - 23s 102ms/step - loss: 1.7786 - accuracy: 0.4442 - val_loss: 1.6978 - val_accuracy: 0.4861\n",
            "Epoch 6/10\n",
            "229/229 [==============================] - 24s 103ms/step - loss: 1.6553 - accuracy: 0.4926 - val_loss: 1.6068 - val_accuracy: 0.5321\n",
            "Epoch 7/10\n",
            "229/229 [==============================] - 24s 103ms/step - loss: 1.5574 - accuracy: 0.5288 - val_loss: 1.5165 - val_accuracy: 0.5698\n",
            "Epoch 8/10\n",
            "229/229 [==============================] - 23s 103ms/step - loss: 1.4732 - accuracy: 0.5625 - val_loss: 1.4411 - val_accuracy: 0.5689\n",
            "Epoch 9/10\n",
            "229/229 [==============================] - 24s 103ms/step - loss: 1.4070 - accuracy: 0.5840 - val_loss: 1.3829 - val_accuracy: 0.5985\n",
            "Epoch 10/10\n",
            "229/229 [==============================] - 23s 102ms/step - loss: 1.3517 - accuracy: 0.6025 - val_loss: 1.3359 - val_accuracy: 0.6185\n"
          ],
          "name": "stdout"
        }
      ]
    },
    {
      "cell_type": "code",
      "metadata": {
        "colab": {
          "base_uri": "https://localhost:8080/"
        },
        "id": "dbYdKtShYhNk",
        "outputId": "741238bb-b38f-4a49-f659-09bcf513ccc0"
      },
      "source": [
        "#hidden layer 3, learning rate=0.0001, epoch 10, batch 256\n",
        "model5=Sequential()\n",
        "model5.add(Dense(1024, activation='relu', input_shape=(x_train.shape[1],), name='hidden_layer1'))\n",
        "model5.add(Dense(512, activation='relu', name='hidden_layer2'))\n",
        "model5.add(Dense(128, activation='relu', name='hidden_layer3'))\n",
        "model5.add(Dense(10, activation='softmax', name='output_layer'))\n",
        "model5.summary()\n",
        "model5.compile(loss='sparse_categorical_crossentropy', optimizer=Adam(learning_rate=0.0001), metrics=['accuracy'])\n",
        "hist5 = model5.fit(x_train, y_train, batch_size=256, epochs=10, #validation_data=(x_val, y_val), \n",
        "                    validation_split = 0.2, #automatically reserve part of the training data for validation\n",
        "                    verbose=1)"
      ],
      "execution_count": null,
      "outputs": [
        {
          "output_type": "stream",
          "text": [
            "Model: \"sequential_6\"\n",
            "_________________________________________________________________\n",
            "Layer (type)                 Output Shape              Param #   \n",
            "=================================================================\n",
            "hidden_layer1 (Dense)        (None, 1024)              3146752   \n",
            "_________________________________________________________________\n",
            "hidden_layer2 (Dense)        (None, 512)               524800    \n",
            "_________________________________________________________________\n",
            "hidden_layer3 (Dense)        (None, 128)               65664     \n",
            "_________________________________________________________________\n",
            "output_layer (Dense)         (None, 10)                1290      \n",
            "=================================================================\n",
            "Total params: 3,738,506\n",
            "Trainable params: 3,738,506\n",
            "Non-trainable params: 0\n",
            "_________________________________________________________________\n",
            "Epoch 1/10\n",
            "229/229 [==============================] - 26s 114ms/step - loss: 2.1959 - accuracy: 0.2126 - val_loss: 1.7853 - val_accuracy: 0.4328\n",
            "Epoch 2/10\n",
            "229/229 [==============================] - 24s 107ms/step - loss: 1.6346 - accuracy: 0.4741 - val_loss: 1.3597 - val_accuracy: 0.5845\n",
            "Epoch 3/10\n",
            "229/229 [==============================] - 24s 106ms/step - loss: 1.2735 - accuracy: 0.6096 - val_loss: 1.2306 - val_accuracy: 0.6160\n",
            "Epoch 4/10\n",
            "229/229 [==============================] - 24s 105ms/step - loss: 1.1426 - accuracy: 0.6503 - val_loss: 1.0975 - val_accuracy: 0.6638\n",
            "Epoch 5/10\n",
            "229/229 [==============================] - 24s 105ms/step - loss: 1.0525 - accuracy: 0.6786 - val_loss: 1.0319 - val_accuracy: 0.6880\n",
            "Epoch 6/10\n",
            "229/229 [==============================] - 24s 105ms/step - loss: 1.0042 - accuracy: 0.6960 - val_loss: 0.9908 - val_accuracy: 0.6986\n",
            "Epoch 7/10\n",
            "229/229 [==============================] - 24s 107ms/step - loss: 0.9390 - accuracy: 0.7161 - val_loss: 0.9347 - val_accuracy: 0.7168\n",
            "Epoch 8/10\n",
            "229/229 [==============================] - 24s 105ms/step - loss: 0.9106 - accuracy: 0.7244 - val_loss: 0.9043 - val_accuracy: 0.7277\n",
            "Epoch 9/10\n",
            "229/229 [==============================] - 24s 105ms/step - loss: 0.8728 - accuracy: 0.7403 - val_loss: 0.9052 - val_accuracy: 0.7269\n",
            "Epoch 10/10\n",
            "229/229 [==============================] - 24s 105ms/step - loss: 0.8388 - accuracy: 0.7488 - val_loss: 0.8594 - val_accuracy: 0.7353\n"
          ],
          "name": "stdout"
        }
      ]
    },
    {
      "cell_type": "code",
      "metadata": {
        "colab": {
          "base_uri": "https://localhost:8080/"
        },
        "id": "QE6iD-BtYi0X",
        "outputId": "3f07c071-4f00-4f52-d5fc-4510cf8c7231"
      },
      "source": [
        "#hidden layer 3, learning rate=0.0001, epoch 100, batch 128\n",
        "model6 = Sequential()\n",
        "model6.add(Dense(1024, activation='relu', input_shape=(x_train.shape[1],), name='hidden_layer1'))\n",
        "model6.add(Dense(512, activation='relu', name='hidden_layer2'))\n",
        "model6.add(Dense(10, activation='softmax', name='output_layer'))\n",
        "model6.summary()\n",
        "model6.compile(loss='sparse_categorical_crossentropy', optimizer=Adam(learning_rate=0.0001), metrics=['accuracy'])\n",
        "hist6 = model6.fit(x_train, y_train, batch_size=128, epochs=100, #validation_data=(x_val, y_val), \n",
        "                    validation_split = 0.2, #automatically reserve part of the training data for validation\n",
        "                    verbose=1)"
      ],
      "execution_count": null,
      "outputs": [
        {
          "output_type": "stream",
          "text": [
            "Model: \"sequential_8\"\n",
            "_________________________________________________________________\n",
            "Layer (type)                 Output Shape              Param #   \n",
            "=================================================================\n",
            "hidden_layer1 (Dense)        (None, 1024)              3146752   \n",
            "_________________________________________________________________\n",
            "hidden_layer2 (Dense)        (None, 512)               524800    \n",
            "_________________________________________________________________\n",
            "output_layer (Dense)         (None, 10)                5130      \n",
            "=================================================================\n",
            "Total params: 3,676,682\n",
            "Trainable params: 3,676,682\n",
            "Non-trainable params: 0\n",
            "_________________________________________________________________\n",
            "Epoch 1/100\n",
            "458/458 [==============================] - 29s 62ms/step - loss: 2.1520 - accuracy: 0.2403 - val_loss: 1.5939 - val_accuracy: 0.5064\n",
            "Epoch 2/100\n",
            "458/458 [==============================] - 29s 62ms/step - loss: 1.4707 - accuracy: 0.5400 - val_loss: 1.2427 - val_accuracy: 0.6334\n",
            "Epoch 3/100\n",
            "458/458 [==============================] - 28s 62ms/step - loss: 1.1896 - accuracy: 0.6401 - val_loss: 1.1432 - val_accuracy: 0.6608\n",
            "Epoch 4/100\n",
            "458/458 [==============================] - 29s 62ms/step - loss: 1.0670 - accuracy: 0.6770 - val_loss: 1.0378 - val_accuracy: 0.6884\n",
            "Epoch 5/100\n",
            "458/458 [==============================] - 29s 63ms/step - loss: 0.9949 - accuracy: 0.6990 - val_loss: 0.9735 - val_accuracy: 0.7067\n",
            "Epoch 6/100\n",
            "458/458 [==============================] - 29s 63ms/step - loss: 0.9392 - accuracy: 0.7166 - val_loss: 0.9225 - val_accuracy: 0.7186\n",
            "Epoch 7/100\n",
            "458/458 [==============================] - 29s 64ms/step - loss: 0.8793 - accuracy: 0.7315 - val_loss: 0.8871 - val_accuracy: 0.7340\n",
            "Epoch 8/100\n",
            "458/458 [==============================] - 29s 63ms/step - loss: 0.8378 - accuracy: 0.7487 - val_loss: 0.8965 - val_accuracy: 0.7194\n",
            "Epoch 9/100\n",
            "458/458 [==============================] - 30s 65ms/step - loss: 0.8088 - accuracy: 0.7561 - val_loss: 0.8080 - val_accuracy: 0.7544\n",
            "Epoch 10/100\n",
            "458/458 [==============================] - 30s 65ms/step - loss: 0.7817 - accuracy: 0.7652 - val_loss: 0.7934 - val_accuracy: 0.7617\n",
            "Epoch 11/100\n",
            "458/458 [==============================] - 29s 63ms/step - loss: 0.7518 - accuracy: 0.7722 - val_loss: 0.7686 - val_accuracy: 0.7695\n",
            "Epoch 12/100\n",
            "458/458 [==============================] - 29s 63ms/step - loss: 0.7280 - accuracy: 0.7827 - val_loss: 0.7893 - val_accuracy: 0.7585\n",
            "Epoch 13/100\n",
            "458/458 [==============================] - 30s 65ms/step - loss: 0.7019 - accuracy: 0.7913 - val_loss: 0.7607 - val_accuracy: 0.7683\n",
            "Epoch 14/100\n",
            "458/458 [==============================] - 29s 63ms/step - loss: 0.6847 - accuracy: 0.7951 - val_loss: 0.7513 - val_accuracy: 0.7716\n",
            "Epoch 15/100\n",
            "458/458 [==============================] - 29s 62ms/step - loss: 0.6634 - accuracy: 0.8014 - val_loss: 0.7520 - val_accuracy: 0.7714\n",
            "Epoch 16/100\n",
            "458/458 [==============================] - 29s 63ms/step - loss: 0.6527 - accuracy: 0.8045 - val_loss: 0.6930 - val_accuracy: 0.7937\n",
            "Epoch 17/100\n",
            "458/458 [==============================] - 29s 63ms/step - loss: 0.6341 - accuracy: 0.8126 - val_loss: 0.7083 - val_accuracy: 0.7903\n",
            "Epoch 18/100\n",
            "458/458 [==============================] - 28s 62ms/step - loss: 0.6180 - accuracy: 0.8147 - val_loss: 0.6802 - val_accuracy: 0.7996\n",
            "Epoch 19/100\n",
            "458/458 [==============================] - 28s 62ms/step - loss: 0.5963 - accuracy: 0.8228 - val_loss: 0.7085 - val_accuracy: 0.7922\n",
            "Epoch 20/100\n",
            "458/458 [==============================] - 29s 63ms/step - loss: 0.5987 - accuracy: 0.8213 - val_loss: 0.6735 - val_accuracy: 0.8023\n",
            "Epoch 21/100\n",
            "458/458 [==============================] - 29s 63ms/step - loss: 0.5949 - accuracy: 0.8247 - val_loss: 0.6653 - val_accuracy: 0.8048\n",
            "Epoch 22/100\n",
            "458/458 [==============================] - 29s 63ms/step - loss: 0.5626 - accuracy: 0.8338 - val_loss: 0.6668 - val_accuracy: 0.8008\n",
            "Epoch 23/100\n",
            "458/458 [==============================] - 29s 63ms/step - loss: 0.5585 - accuracy: 0.8354 - val_loss: 0.6447 - val_accuracy: 0.8106\n",
            "Epoch 24/100\n",
            "458/458 [==============================] - 29s 64ms/step - loss: 0.5549 - accuracy: 0.8351 - val_loss: 0.6673 - val_accuracy: 0.8027\n",
            "Epoch 25/100\n",
            "458/458 [==============================] - 29s 64ms/step - loss: 0.5377 - accuracy: 0.8397 - val_loss: 0.6298 - val_accuracy: 0.8198\n",
            "Epoch 26/100\n",
            "458/458 [==============================] - 29s 63ms/step - loss: 0.5326 - accuracy: 0.8410 - val_loss: 0.6483 - val_accuracy: 0.8098\n",
            "Epoch 27/100\n",
            "458/458 [==============================] - 29s 63ms/step - loss: 0.5301 - accuracy: 0.8416 - val_loss: 0.6257 - val_accuracy: 0.8165\n",
            "Epoch 28/100\n",
            "458/458 [==============================] - 29s 63ms/step - loss: 0.5061 - accuracy: 0.8511 - val_loss: 0.6240 - val_accuracy: 0.8174\n",
            "Epoch 29/100\n",
            "458/458 [==============================] - 29s 63ms/step - loss: 0.5010 - accuracy: 0.8522 - val_loss: 0.5975 - val_accuracy: 0.8288\n",
            "Epoch 30/100\n",
            "458/458 [==============================] - 29s 63ms/step - loss: 0.4854 - accuracy: 0.8565 - val_loss: 0.6185 - val_accuracy: 0.8176\n",
            "Epoch 31/100\n",
            "458/458 [==============================] - 29s 64ms/step - loss: 0.4955 - accuracy: 0.8520 - val_loss: 0.6124 - val_accuracy: 0.8205\n",
            "Epoch 32/100\n",
            "458/458 [==============================] - 29s 63ms/step - loss: 0.4919 - accuracy: 0.8528 - val_loss: 0.6190 - val_accuracy: 0.8199\n",
            "Epoch 33/100\n",
            "458/458 [==============================] - 29s 64ms/step - loss: 0.4707 - accuracy: 0.8580 - val_loss: 0.5924 - val_accuracy: 0.8302\n",
            "Epoch 34/100\n",
            "458/458 [==============================] - 30s 65ms/step - loss: 0.4749 - accuracy: 0.8575 - val_loss: 0.6006 - val_accuracy: 0.8275\n",
            "Epoch 35/100\n",
            "458/458 [==============================] - 30s 66ms/step - loss: 0.4657 - accuracy: 0.8621 - val_loss: 0.5740 - val_accuracy: 0.8357\n",
            "Epoch 36/100\n",
            "458/458 [==============================] - 29s 64ms/step - loss: 0.4513 - accuracy: 0.8653 - val_loss: 0.5788 - val_accuracy: 0.8355\n",
            "Epoch 37/100\n",
            "458/458 [==============================] - 29s 63ms/step - loss: 0.4533 - accuracy: 0.8657 - val_loss: 0.6235 - val_accuracy: 0.8212\n",
            "Epoch 38/100\n",
            "458/458 [==============================] - 29s 64ms/step - loss: 0.4504 - accuracy: 0.8655 - val_loss: 0.5811 - val_accuracy: 0.8323\n",
            "Epoch 39/100\n",
            "458/458 [==============================] - 29s 63ms/step - loss: 0.4332 - accuracy: 0.8700 - val_loss: 0.5909 - val_accuracy: 0.8309\n",
            "Epoch 40/100\n",
            "458/458 [==============================] - 29s 63ms/step - loss: 0.4304 - accuracy: 0.8723 - val_loss: 0.5789 - val_accuracy: 0.8352\n",
            "Epoch 41/100\n",
            "458/458 [==============================] - 29s 64ms/step - loss: 0.4290 - accuracy: 0.8713 - val_loss: 0.5774 - val_accuracy: 0.8364\n",
            "Epoch 42/100\n",
            "458/458 [==============================] - 29s 63ms/step - loss: 0.4138 - accuracy: 0.8777 - val_loss: 0.5844 - val_accuracy: 0.8322\n",
            "Epoch 43/100\n",
            "458/458 [==============================] - 29s 64ms/step - loss: 0.4119 - accuracy: 0.8775 - val_loss: 0.5768 - val_accuracy: 0.8359\n",
            "Epoch 44/100\n",
            "458/458 [==============================] - 29s 63ms/step - loss: 0.3980 - accuracy: 0.8822 - val_loss: 0.5528 - val_accuracy: 0.8456\n",
            "Epoch 45/100\n",
            "458/458 [==============================] - 29s 63ms/step - loss: 0.4028 - accuracy: 0.8799 - val_loss: 0.5544 - val_accuracy: 0.8417\n",
            "Epoch 46/100\n",
            "458/458 [==============================] - 29s 63ms/step - loss: 0.4034 - accuracy: 0.8786 - val_loss: 0.5511 - val_accuracy: 0.8450\n",
            "Epoch 47/100\n",
            "458/458 [==============================] - 29s 63ms/step - loss: 0.3936 - accuracy: 0.8830 - val_loss: 0.5967 - val_accuracy: 0.8312\n",
            "Epoch 48/100\n",
            "458/458 [==============================] - 29s 63ms/step - loss: 0.3839 - accuracy: 0.8856 - val_loss: 0.5512 - val_accuracy: 0.8456\n",
            "Epoch 49/100\n",
            "458/458 [==============================] - 29s 63ms/step - loss: 0.3666 - accuracy: 0.8894 - val_loss: 0.5792 - val_accuracy: 0.8370\n",
            "Epoch 50/100\n",
            "458/458 [==============================] - 29s 64ms/step - loss: 0.3782 - accuracy: 0.8848 - val_loss: 0.5741 - val_accuracy: 0.8395\n",
            "Epoch 51/100\n",
            "458/458 [==============================] - 29s 64ms/step - loss: 0.3714 - accuracy: 0.8911 - val_loss: 0.5539 - val_accuracy: 0.8443\n",
            "Epoch 52/100\n",
            "458/458 [==============================] - 29s 64ms/step - loss: 0.3670 - accuracy: 0.8909 - val_loss: 0.5604 - val_accuracy: 0.8443\n",
            "Epoch 53/100\n",
            "458/458 [==============================] - 29s 64ms/step - loss: 0.3604 - accuracy: 0.8907 - val_loss: 0.5643 - val_accuracy: 0.8418\n",
            "Epoch 54/100\n",
            "458/458 [==============================] - 30s 65ms/step - loss: 0.3598 - accuracy: 0.8943 - val_loss: 0.5780 - val_accuracy: 0.8361\n",
            "Epoch 55/100\n",
            "458/458 [==============================] - 29s 64ms/step - loss: 0.3511 - accuracy: 0.8934 - val_loss: 0.5719 - val_accuracy: 0.8387\n",
            "Epoch 56/100\n",
            "458/458 [==============================] - 29s 64ms/step - loss: 0.3417 - accuracy: 0.8972 - val_loss: 0.5680 - val_accuracy: 0.8393\n",
            "Epoch 57/100\n",
            "458/458 [==============================] - 29s 63ms/step - loss: 0.3386 - accuracy: 0.8986 - val_loss: 0.5408 - val_accuracy: 0.8475\n",
            "Epoch 58/100\n",
            "458/458 [==============================] - 29s 64ms/step - loss: 0.3367 - accuracy: 0.8980 - val_loss: 0.5780 - val_accuracy: 0.8402\n",
            "Epoch 59/100\n",
            "458/458 [==============================] - 29s 64ms/step - loss: 0.3352 - accuracy: 0.8993 - val_loss: 0.5534 - val_accuracy: 0.8462\n",
            "Epoch 60/100\n",
            "458/458 [==============================] - 29s 64ms/step - loss: 0.3279 - accuracy: 0.9025 - val_loss: 0.5460 - val_accuracy: 0.8512\n",
            "Epoch 61/100\n",
            "458/458 [==============================] - 29s 64ms/step - loss: 0.3222 - accuracy: 0.9035 - val_loss: 0.5585 - val_accuracy: 0.8435\n",
            "Epoch 62/100\n",
            "458/458 [==============================] - 29s 64ms/step - loss: 0.3247 - accuracy: 0.9018 - val_loss: 0.5430 - val_accuracy: 0.8503\n",
            "Epoch 63/100\n",
            "458/458 [==============================] - 29s 64ms/step - loss: 0.3239 - accuracy: 0.9027 - val_loss: 0.5684 - val_accuracy: 0.8452\n",
            "Epoch 64/100\n",
            "458/458 [==============================] - 32s 69ms/step - loss: 0.3104 - accuracy: 0.9055 - val_loss: 0.5416 - val_accuracy: 0.8490\n",
            "Epoch 65/100\n",
            "458/458 [==============================] - 31s 69ms/step - loss: 0.3088 - accuracy: 0.9085 - val_loss: 0.5828 - val_accuracy: 0.8408\n",
            "Epoch 66/100\n",
            "458/458 [==============================] - 31s 67ms/step - loss: 0.3002 - accuracy: 0.9090 - val_loss: 0.5514 - val_accuracy: 0.8479\n",
            "Epoch 67/100\n",
            "458/458 [==============================] - 29s 64ms/step - loss: 0.3022 - accuracy: 0.9082 - val_loss: 0.5684 - val_accuracy: 0.8443\n",
            "Epoch 68/100\n",
            "458/458 [==============================] - 29s 64ms/step - loss: 0.2942 - accuracy: 0.9127 - val_loss: 0.5818 - val_accuracy: 0.8385\n",
            "Epoch 69/100\n",
            "458/458 [==============================] - 29s 64ms/step - loss: 0.2977 - accuracy: 0.9103 - val_loss: 0.5796 - val_accuracy: 0.8426\n",
            "Epoch 70/100\n",
            "458/458 [==============================] - 29s 64ms/step - loss: 0.2905 - accuracy: 0.9125 - val_loss: 0.5534 - val_accuracy: 0.8485\n",
            "Epoch 71/100\n",
            "458/458 [==============================] - 29s 64ms/step - loss: 0.2913 - accuracy: 0.9115 - val_loss: 0.5639 - val_accuracy: 0.8479\n",
            "Epoch 72/100\n",
            "458/458 [==============================] - 30s 65ms/step - loss: 0.2857 - accuracy: 0.9146 - val_loss: 0.5344 - val_accuracy: 0.8562\n",
            "Epoch 73/100\n",
            "458/458 [==============================] - 30s 65ms/step - loss: 0.2837 - accuracy: 0.9165 - val_loss: 0.5651 - val_accuracy: 0.8456\n",
            "Epoch 74/100\n",
            "458/458 [==============================] - 30s 65ms/step - loss: 0.2770 - accuracy: 0.9150 - val_loss: 0.5586 - val_accuracy: 0.8503\n",
            "Epoch 75/100\n",
            "458/458 [==============================] - 30s 64ms/step - loss: 0.2700 - accuracy: 0.9190 - val_loss: 0.5421 - val_accuracy: 0.8529\n",
            "Epoch 76/100\n",
            "458/458 [==============================] - 30s 65ms/step - loss: 0.2684 - accuracy: 0.9201 - val_loss: 0.5737 - val_accuracy: 0.8460\n",
            "Epoch 77/100\n",
            "458/458 [==============================] - 29s 64ms/step - loss: 0.2727 - accuracy: 0.9182 - val_loss: 0.5554 - val_accuracy: 0.8521\n",
            "Epoch 78/100\n",
            "458/458 [==============================] - 29s 64ms/step - loss: 0.2622 - accuracy: 0.9226 - val_loss: 0.5781 - val_accuracy: 0.8434\n",
            "Epoch 79/100\n",
            "458/458 [==============================] - 29s 64ms/step - loss: 0.2590 - accuracy: 0.9223 - val_loss: 0.5673 - val_accuracy: 0.8477\n",
            "Epoch 80/100\n",
            "458/458 [==============================] - 29s 64ms/step - loss: 0.2562 - accuracy: 0.9215 - val_loss: 0.5770 - val_accuracy: 0.8468\n",
            "Epoch 81/100\n",
            "458/458 [==============================] - 29s 64ms/step - loss: 0.2597 - accuracy: 0.9226 - val_loss: 0.5647 - val_accuracy: 0.8521\n",
            "Epoch 82/100\n",
            "458/458 [==============================] - 29s 64ms/step - loss: 0.2543 - accuracy: 0.9229 - val_loss: 0.5645 - val_accuracy: 0.8503\n",
            "Epoch 83/100\n",
            "458/458 [==============================] - 30s 65ms/step - loss: 0.2434 - accuracy: 0.9290 - val_loss: 0.5602 - val_accuracy: 0.8529\n",
            "Epoch 84/100\n",
            "458/458 [==============================] - 29s 64ms/step - loss: 0.2424 - accuracy: 0.9273 - val_loss: 0.5787 - val_accuracy: 0.8471\n",
            "Epoch 85/100\n",
            "458/458 [==============================] - 29s 64ms/step - loss: 0.2425 - accuracy: 0.9266 - val_loss: 0.5803 - val_accuracy: 0.8479\n",
            "Epoch 86/100\n",
            "458/458 [==============================] - 29s 64ms/step - loss: 0.2377 - accuracy: 0.9294 - val_loss: 0.5856 - val_accuracy: 0.8437\n",
            "Epoch 87/100\n",
            "458/458 [==============================] - 30s 64ms/step - loss: 0.2338 - accuracy: 0.9301 - val_loss: 0.5581 - val_accuracy: 0.8522\n",
            "Epoch 88/100\n",
            "458/458 [==============================] - 30s 65ms/step - loss: 0.2347 - accuracy: 0.9292 - val_loss: 0.5700 - val_accuracy: 0.8492\n",
            "Epoch 89/100\n",
            "458/458 [==============================] - 29s 64ms/step - loss: 0.2252 - accuracy: 0.9339 - val_loss: 0.5936 - val_accuracy: 0.8438\n",
            "Epoch 90/100\n",
            "458/458 [==============================] - 29s 64ms/step - loss: 0.2293 - accuracy: 0.9307 - val_loss: 0.5762 - val_accuracy: 0.8493\n",
            "Epoch 91/100\n",
            "458/458 [==============================] - 29s 64ms/step - loss: 0.2150 - accuracy: 0.9358 - val_loss: 0.5755 - val_accuracy: 0.8492\n",
            "Epoch 92/100\n",
            "458/458 [==============================] - 29s 64ms/step - loss: 0.2135 - accuracy: 0.9366 - val_loss: 0.5784 - val_accuracy: 0.8505\n",
            "Epoch 93/100\n",
            "458/458 [==============================] - 30s 65ms/step - loss: 0.2169 - accuracy: 0.9348 - val_loss: 0.5971 - val_accuracy: 0.8445\n",
            "Epoch 94/100\n",
            "458/458 [==============================] - 30s 66ms/step - loss: 0.2101 - accuracy: 0.9397 - val_loss: 0.5783 - val_accuracy: 0.8495\n",
            "Epoch 95/100\n",
            "458/458 [==============================] - 29s 64ms/step - loss: 0.2164 - accuracy: 0.9360 - val_loss: 0.5769 - val_accuracy: 0.8548\n",
            "Epoch 96/100\n",
            "458/458 [==============================] - 29s 64ms/step - loss: 0.1986 - accuracy: 0.9414 - val_loss: 0.5723 - val_accuracy: 0.8544\n",
            "Epoch 97/100\n",
            "458/458 [==============================] - 29s 64ms/step - loss: 0.2097 - accuracy: 0.9369 - val_loss: 0.5758 - val_accuracy: 0.8549\n",
            "Epoch 98/100\n",
            "458/458 [==============================] - 29s 64ms/step - loss: 0.1977 - accuracy: 0.9423 - val_loss: 0.5747 - val_accuracy: 0.8524\n",
            "Epoch 99/100\n",
            "458/458 [==============================] - 29s 64ms/step - loss: 0.2005 - accuracy: 0.9417 - val_loss: 0.6237 - val_accuracy: 0.8428\n",
            "Epoch 100/100\n",
            "458/458 [==============================] - 30s 65ms/step - loss: 0.1942 - accuracy: 0.9416 - val_loss: 0.6560 - val_accuracy: 0.8330\n"
          ],
          "name": "stdout"
        }
      ]
    },
    {
      "cell_type": "code",
      "metadata": {
        "id": "HDtYb9X0UjBl",
        "colab": {
          "base_uri": "https://localhost:8080/"
        },
        "outputId": "5be7c2ab-ab8f-4cb2-b74c-2f2884b38967"
      },
      "source": [
        "# Evaluate the model on test data\n",
        "score = model6.evaluate(x_test, y_test, verbose=0)\n",
        "print('Test loss:', score[0])\n",
        "print('Test accuracy:', score[1])\n",
        "\n",
        "y_pred = model6.predict(x_test)\n",
        "\n",
        "y_pred_ = np.argmax(y_pred, axis = 1)\n",
        "\n",
        "y_pred_"
      ],
      "execution_count": null,
      "outputs": [
        {
          "output_type": "stream",
          "text": [
            "Test loss: 0.8308233022689819\n",
            "Test accuracy: 0.80854332447052\n"
          ],
          "name": "stdout"
        },
        {
          "output_type": "execute_result",
          "data": {
            "text/plain": [
              "array([5, 2, 1, ..., 7, 6, 7])"
            ]
          },
          "metadata": {
            "tags": []
          },
          "execution_count": 20
        }
      ]
    },
    {
      "cell_type": "markdown",
      "metadata": {
        "id": "LxHylPsSXU-Q"
      },
      "source": [
        "\n",
        "\n",
        "\n",
        "---\n",
        "\n",
        "\n",
        "**Dropout** : [Dropout](https://keras.io/api/layers/regularization_layers/dropout/) is a regularization approach. At each training stage, specified percent of individual nodes are dropped out of the network.\n",
        "\n",
        "[Read](https://machinelearningmastery.com/how-to-reduce-overfitting-with-dropout-regularization-in-keras/) MLP Dropout Regularization for further information\n",
        "\n",
        "![picture](https://drive.google.com/uc?id=12lv5VsPFLt6sKEZvgQRyQ7mHeW4l-Vq9)"
      ]
    },
    {
      "cell_type": "code",
      "metadata": {
        "id": "RRZpQ4ZmXPVd",
        "colab": {
          "base_uri": "https://localhost:8080/"
        },
        "outputId": "70504206-eb5f-4b13-9b8b-26786e3a69f3"
      },
      "source": [
        "#Try adding dropout to the architecture \n",
        "#similar to model 4\n",
        "from keras.layers import Dropout\n",
        "model7=Sequential()\n",
        "model7.add(Dense(1024, activation='relu', input_shape=(x_train.shape[1],), name='hidden_layer1'))\n",
        "model7.add(Dropout(0.2))\n",
        "model7.add(Dense(512, activation='relu', name='hidden_layer2'))\n",
        "model7.add(Dropout(0.2))\n",
        "model7.add(Dense(128, activation='relu', name='hidden_layer3'))\n",
        "model7.add(Dropout(0.2))\n",
        "model7.add(Dense(10, activation='softmax', name='output_layer'))\n",
        "model7.summary()\n",
        "model7.compile(loss='sparse_categorical_crossentropy', optimizer=Adam(learning_rate=0.00001), metrics=['accuracy'])\n",
        "hist7 = model7.fit(x_train, y_train, batch_size=256, epochs=10, #validation_data=(x_val, y_val), \n",
        "                    validation_split = 0.2, #automatically reserve part of the training data for validation\n",
        "                    verbose=1)"
      ],
      "execution_count": null,
      "outputs": [
        {
          "output_type": "stream",
          "text": [
            "Model: \"sequential_11\"\n",
            "_________________________________________________________________\n",
            "Layer (type)                 Output Shape              Param #   \n",
            "=================================================================\n",
            "hidden_layer1 (Dense)        (None, 1024)              3146752   \n",
            "_________________________________________________________________\n",
            "dropout_3 (Dropout)          (None, 1024)              0         \n",
            "_________________________________________________________________\n",
            "hidden_layer2 (Dense)        (None, 512)               524800    \n",
            "_________________________________________________________________\n",
            "dropout_4 (Dropout)          (None, 512)               0         \n",
            "_________________________________________________________________\n",
            "hidden_layer3 (Dense)        (None, 128)               65664     \n",
            "_________________________________________________________________\n",
            "dropout_5 (Dropout)          (None, 128)               0         \n",
            "_________________________________________________________________\n",
            "output_layer (Dense)         (None, 10)                1290      \n",
            "=================================================================\n",
            "Total params: 3,738,506\n",
            "Trainable params: 3,738,506\n",
            "Non-trainable params: 0\n",
            "_________________________________________________________________\n",
            "Epoch 1/10\n",
            "229/229 [==============================] - 27s 115ms/step - loss: 2.2955 - accuracy: 0.1591 - val_loss: 2.2264 - val_accuracy: 0.2020\n",
            "Epoch 2/10\n",
            "229/229 [==============================] - 26s 114ms/step - loss: 2.2373 - accuracy: 0.1890 - val_loss: 2.1886 - val_accuracy: 0.1929\n",
            "Epoch 3/10\n",
            "229/229 [==============================] - 26s 114ms/step - loss: 2.2024 - accuracy: 0.2096 - val_loss: 2.1279 - val_accuracy: 0.2338\n",
            "Epoch 4/10\n",
            "229/229 [==============================] - 26s 112ms/step - loss: 2.1424 - accuracy: 0.2457 - val_loss: 2.0410 - val_accuracy: 0.3054\n",
            "Epoch 5/10\n",
            "229/229 [==============================] - 25s 109ms/step - loss: 2.0647 - accuracy: 0.2945 - val_loss: 1.9435 - val_accuracy: 0.3606\n",
            "Epoch 6/10\n",
            "229/229 [==============================] - 25s 109ms/step - loss: 1.9748 - accuracy: 0.3373 - val_loss: 1.8487 - val_accuracy: 0.4279\n",
            "Epoch 7/10\n",
            "229/229 [==============================] - 25s 109ms/step - loss: 1.8851 - accuracy: 0.3732 - val_loss: 1.7507 - val_accuracy: 0.4310\n",
            "Epoch 8/10\n",
            "229/229 [==============================] - 25s 110ms/step - loss: 1.8008 - accuracy: 0.4101 - val_loss: 1.6617 - val_accuracy: 0.4881\n",
            "Epoch 9/10\n",
            "229/229 [==============================] - 25s 109ms/step - loss: 1.7148 - accuracy: 0.4449 - val_loss: 1.5857 - val_accuracy: 0.5257\n",
            "Epoch 10/10\n",
            "229/229 [==============================] - 25s 109ms/step - loss: 1.6515 - accuracy: 0.4674 - val_loss: 1.5197 - val_accuracy: 0.5375\n"
          ],
          "name": "stdout"
        }
      ]
    },
    {
      "cell_type": "code",
      "metadata": {
        "colab": {
          "base_uri": "https://localhost:8080/"
        },
        "id": "uv7s75e69HJi",
        "outputId": "7f5e5668-37d5-4692-b342-6c8adaf5ceb6"
      },
      "source": [
        "# Evaluate the model on test data\n",
        "score = model7.evaluate(x_test, y_test, verbose=0)\n",
        "print('Test loss:', score[0])\n",
        "print('Test accuracy:', score[1])\n",
        "\n",
        "y_pred = model7.predict(x_test)\n",
        "\n",
        "y_pred_ = np.argmax(y_pred, axis = 1)\n",
        "\n",
        "y_pred_"
      ],
      "execution_count": null,
      "outputs": [
        {
          "output_type": "stream",
          "text": [
            "Test loss: 1.5299440622329712\n",
            "Test accuracy: 0.5263521671295166\n"
          ],
          "name": "stdout"
        },
        {
          "output_type": "execute_result",
          "data": {
            "text/plain": [
              "array([3, 2, 1, ..., 3, 6, 2])"
            ]
          },
          "metadata": {
            "tags": []
          },
          "execution_count": 24
        }
      ]
    },
    {
      "cell_type": "markdown",
      "metadata": {
        "id": "0wBKan6IVIY_"
      },
      "source": [
        "##2.2) Part 2\n",
        "\n",
        "\n",
        "---\n",
        "\n"
      ]
    },
    {
      "cell_type": "markdown",
      "metadata": {
        "id": "QmJEZrWAa5PO"
      },
      "source": [
        "When training a model, model stops generalizing after a while and learns noices of the datapoints as well. One way to avoid this **overfitting** is to use **early stopping**. With early stopping, model performance is monitored on validation data in each epoch and stops updating weights when validation performance starts decreasing.\n",
        "\n",
        "https://keras.io/api/callbacks/early_stopping/\n",
        "\n",
        "![picture](https://drive.google.com/uc?id=1Rs8FkpVgifspzvlIfdTDYyBVjR01OgVj)"
      ]
    },
    {
      "cell_type": "code",
      "metadata": {
        "id": "CKu4TRlFgcdm",
        "colab": {
          "base_uri": "https://localhost:8080/"
        },
        "outputId": "560026dc-6854-4543-d3cc-346006afb665"
      },
      "source": [
        "# Build & compile the model \n",
        "model=Sequential()\n",
        "model.add(Dense(1024, activation='relu', input_shape=(x_train.shape[1],), name='hidden_layer1'))\n",
        "model.add(Dense(512, activation='relu', name='hidden_layer2'))\n",
        "model.add(Dense(128, activation='relu', name='hidden_layer3'))\n",
        "model.add(Dense(10, activation='softmax', name='output_layer'))\n",
        "model.summary()\n",
        "model.compile(loss='sparse_categorical_crossentropy', optimizer=Adam(learning_rate=0.0001), metrics=['accuracy'])"
      ],
      "execution_count": null,
      "outputs": [
        {
          "output_type": "stream",
          "text": [
            "Model: \"sequential\"\n",
            "_________________________________________________________________\n",
            "Layer (type)                 Output Shape              Param #   \n",
            "=================================================================\n",
            "hidden_layer1 (Dense)        (None, 1024)              3146752   \n",
            "_________________________________________________________________\n",
            "hidden_layer2 (Dense)        (None, 512)               524800    \n",
            "_________________________________________________________________\n",
            "hidden_layer3 (Dense)        (None, 128)               65664     \n",
            "_________________________________________________________________\n",
            "output_layer (Dense)         (None, 10)                1290      \n",
            "=================================================================\n",
            "Total params: 3,738,506\n",
            "Trainable params: 3,738,506\n",
            "Non-trainable params: 0\n",
            "_________________________________________________________________\n"
          ],
          "name": "stdout"
        }
      ]
    },
    {
      "cell_type": "code",
      "metadata": {
        "id": "T0nPbz5AVOFG",
        "colab": {
          "base_uri": "https://localhost:8080/"
        },
        "outputId": "5a73a3f7-0fcd-47bd-a163-4288ab112e35"
      },
      "source": [
        "# Aim is to stop when minimum validation loss is achieved\n",
        "from tensorflow.keras.callbacks import EarlyStopping\n",
        "\n",
        "es = EarlyStopping(monitor='val_loss', patience=10, verbose=1, mode='min',restore_best_weights=True) # Training will stop when minimum validation loss is achieved\n",
        "                    \n",
        "#model.fit(X_train, y_train, validation_data=(X_valid, y_valid), epochs=200, callbacks=[es])\n",
        "history= model.fit(x_train, y_train, batch_size=128,\n",
        "                              epochs=500, validation_split=0.2, # you can have large epoch size since it will stop when best validation loss is achieved\n",
        "                              callbacks=[es], verbose=1)"
      ],
      "execution_count": null,
      "outputs": [
        {
          "output_type": "stream",
          "text": [
            "Epoch 1/500\n",
            "458/458 [==============================] - 2s 4ms/step - loss: 0.3520 - accuracy: 0.8943 - val_loss: 0.5660 - val_accuracy: 0.8415\n",
            "Epoch 2/500\n",
            "458/458 [==============================] - 2s 4ms/step - loss: 0.3454 - accuracy: 0.8957 - val_loss: 0.5733 - val_accuracy: 0.8419\n",
            "Epoch 3/500\n",
            "458/458 [==============================] - 2s 4ms/step - loss: 0.3378 - accuracy: 0.8967 - val_loss: 0.5630 - val_accuracy: 0.8440\n",
            "Epoch 4/500\n",
            "458/458 [==============================] - 2s 4ms/step - loss: 0.3335 - accuracy: 0.8991 - val_loss: 0.5541 - val_accuracy: 0.8483\n",
            "Epoch 5/500\n",
            "458/458 [==============================] - 2s 4ms/step - loss: 0.3275 - accuracy: 0.9007 - val_loss: 0.5584 - val_accuracy: 0.8474\n",
            "Epoch 6/500\n",
            "458/458 [==============================] - 2s 4ms/step - loss: 0.3289 - accuracy: 0.8997 - val_loss: 0.5561 - val_accuracy: 0.8434\n",
            "Epoch 7/500\n",
            "458/458 [==============================] - 2s 4ms/step - loss: 0.3169 - accuracy: 0.9042 - val_loss: 0.5933 - val_accuracy: 0.8371\n",
            "Epoch 8/500\n",
            "458/458 [==============================] - 2s 4ms/step - loss: 0.3147 - accuracy: 0.9042 - val_loss: 0.5617 - val_accuracy: 0.8488\n",
            "Epoch 9/500\n",
            "458/458 [==============================] - 2s 4ms/step - loss: 0.3132 - accuracy: 0.9040 - val_loss: 0.5521 - val_accuracy: 0.8494\n",
            "Epoch 10/500\n",
            "458/458 [==============================] - 2s 4ms/step - loss: 0.3003 - accuracy: 0.9089 - val_loss: 0.5781 - val_accuracy: 0.8414\n",
            "Epoch 11/500\n",
            "458/458 [==============================] - 2s 4ms/step - loss: 0.3013 - accuracy: 0.9082 - val_loss: 0.5733 - val_accuracy: 0.8440\n",
            "Epoch 12/500\n",
            "458/458 [==============================] - 2s 4ms/step - loss: 0.2946 - accuracy: 0.9112 - val_loss: 0.5631 - val_accuracy: 0.8490\n",
            "Epoch 13/500\n",
            "458/458 [==============================] - 2s 4ms/step - loss: 0.2846 - accuracy: 0.9152 - val_loss: 0.5501 - val_accuracy: 0.8507\n",
            "Epoch 14/500\n",
            "458/458 [==============================] - 2s 4ms/step - loss: 0.2850 - accuracy: 0.9133 - val_loss: 0.5823 - val_accuracy: 0.8454\n",
            "Epoch 15/500\n",
            "458/458 [==============================] - 2s 4ms/step - loss: 0.2822 - accuracy: 0.9147 - val_loss: 0.5957 - val_accuracy: 0.8390\n",
            "Epoch 16/500\n",
            "458/458 [==============================] - 2s 4ms/step - loss: 0.2741 - accuracy: 0.9163 - val_loss: 0.5618 - val_accuracy: 0.8466\n",
            "Epoch 17/500\n",
            "458/458 [==============================] - 2s 4ms/step - loss: 0.2683 - accuracy: 0.9192 - val_loss: 0.5683 - val_accuracy: 0.8469\n",
            "Epoch 18/500\n",
            "458/458 [==============================] - 2s 4ms/step - loss: 0.2648 - accuracy: 0.9190 - val_loss: 0.5880 - val_accuracy: 0.8411\n",
            "Epoch 19/500\n",
            "458/458 [==============================] - 2s 4ms/step - loss: 0.2665 - accuracy: 0.9189 - val_loss: 0.5702 - val_accuracy: 0.8497\n",
            "Epoch 20/500\n",
            "458/458 [==============================] - 2s 4ms/step - loss: 0.2545 - accuracy: 0.9230 - val_loss: 0.5882 - val_accuracy: 0.8451\n",
            "Epoch 21/500\n",
            "458/458 [==============================] - 2s 4ms/step - loss: 0.2535 - accuracy: 0.9232 - val_loss: 0.5778 - val_accuracy: 0.8473\n",
            "Epoch 22/500\n",
            "458/458 [==============================] - 2s 4ms/step - loss: 0.2486 - accuracy: 0.9245 - val_loss: 0.6225 - val_accuracy: 0.8339\n",
            "Epoch 23/500\n",
            "458/458 [==============================] - 2s 4ms/step - loss: 0.2441 - accuracy: 0.9257 - val_loss: 0.5996 - val_accuracy: 0.8456\n",
            "Restoring model weights from the end of the best epoch.\n",
            "Epoch 00023: early stopping\n"
          ],
          "name": "stdout"
        }
      ]
    },
    {
      "cell_type": "markdown",
      "metadata": {
        "id": "IRF2weImf12m"
      },
      "source": [
        "![picture](https://drive.google.com/uc?id=1Mp2W2VVQVmyuleSDNDKJLI6hxAtyG5gx)"
      ]
    },
    {
      "cell_type": "code",
      "metadata": {
        "id": "gnfijwFjePc6",
        "colab": {
          "base_uri": "https://localhost:8080/",
          "height": 295
        },
        "outputId": "80e26760-8428-4ecb-9f93-0651931bf563"
      },
      "source": [
        "#Plot train & validation loss\n",
        "from matplotlib import pyplot as plt\n",
        "plt.plot(model.history.history['loss'])\n",
        "plt.plot(model.history.history['val_loss'])\n",
        "plt.title('model loss')\n",
        "plt.ylabel('loss')\n",
        "plt.xlabel('epoch')\n",
        "plt.legend(['train', 'val'], loc='upper left')\n",
        "plt.show()"
      ],
      "execution_count": null,
      "outputs": [
        {
          "output_type": "display_data",
          "data": {
            "image/png": "[encoded data removed]",
            "text/plain": [
              "<Figure size 432x288 with 1 Axes>"
            ]
          },
          "metadata": {
            "tags": [],
            "needs_background": "light"
          }
        }
      ]
    },
    {
      "cell_type": "code",
      "metadata": {
        "id": "IoBW8oIBgZfU",
        "colab": {
          "base_uri": "https://localhost:8080/"
        },
        "outputId": "ff3fffe0-6abd-479d-da98-32c796a6cd06"
      },
      "source": [
        "#Evaluate on test data\n",
        "\n",
        "score = model.evaluate(x_test, y_test, verbose=0)\n",
        "print('Test loss:', score[0])\n",
        "print('Test accuracy:', score[1])\n",
        "\n",
        "y_pred = model.predict(x_test)\n",
        "\n",
        "y_pred_ = np.argmax(y_pred, axis = 1)\n",
        "\n",
        "y_pred_"
      ],
      "execution_count": null,
      "outputs": [
        {
          "output_type": "stream",
          "text": [
            "Test loss: 0.6847413778305054\n",
            "Test accuracy: 0.8272126317024231\n"
          ],
          "name": "stdout"
        },
        {
          "output_type": "execute_result",
          "data": {
            "text/plain": [
              "array([5, 2, 1, ..., 7, 6, 7])"
            ]
          },
          "metadata": {
            "tags": []
          },
          "execution_count": 21
        }
      ]
    },
    {
      "cell_type": "markdown",
      "metadata": {
        "id": "LNzYiVX5UyI-"
      },
      "source": [
        "#3) Report\n",
        "\n",
        "\n",
        "---\n",
        "\n",
        "Summary of models you try (learning rate, # of hidden layers, # of epochs, test accuracy, etc.) Write a short report & discuss the results of the models you trained"
      ]
    },
    {
      "cell_type": "markdown",
      "metadata": {
        "id": "lyAGFVoVifKe"
      },
      "source": [
        "model 1:\n",
        "*   learning rate=0.00001\n",
        "*   1 hidden layer\n",
        "*   10 epochs\n",
        "*   batch=128\n",
        "*   loss: 1.6058 - accuracy: 0.5409 - val_loss: 1.5909 - val_accuracy: 0.5517\n",
        "\n",
        "model 2:\n",
        "*   learning rate=0.00001\n",
        "*   1 hidden layer\n",
        "*   10 epochs\n",
        "*   batch=256\n",
        "*   loss: 1.7838 - accuracy: 0.4622 - val_loss: 1.7699 - val_accuracy: 0.4958\n",
        "\n",
        "Observing model 1 and model 2, we can see that batch size 128 gives a better validation accuracy score and less loss than batch size 256.\n",
        "\n",
        "model 3:\n",
        "*   learning rate=0.00001\n",
        "*   1 hidden layer\n",
        "*   100 epochs\n",
        "*   batch=256\n",
        "*   loss: 0.7985 - accuracy: 0.7764 - val_loss: 0.8586 - val_accuracy: 0.7528\n",
        "\n",
        "Observing model 2 and model 3, given other parameters are the same, 100 epochs give much higher accuracies and lower losses than 10 epochs.\n",
        "\n",
        "model 4:\n",
        "*   learning rate=0.00001\n",
        "*   3 hidden layers\n",
        "*   10 epochs\n",
        "*   batch=256\n",
        "*   loss: 1.3517 - accuracy: 0.6025 - val_loss: 1.3359 - val_accuracy: 0.6185\n",
        "\n",
        "Observing model 2 and model 4, we see that 3 hidden layers give higher accuracy and lower loss than using 1 hidden layer.\n",
        "\n",
        "model 5:\n",
        "*   learning rate=0.0001\n",
        "*   3 hidden layers\n",
        "*   10 epochs\n",
        "*   batch=256\n",
        "*   loss: 0.8388 - accuracy: 0.7488 - val_loss: 0.8594 - val_accuracy: 0.7353\n",
        "\n",
        "Observing model 4 and model 5, giving learning rate 0.0001 gives more validation accuracy and less loss than giving it as 0.00001.\n",
        "\n",
        "model 6:\n",
        "*   learning rate=0.0001\n",
        "*   3 hidden layers\n",
        "*   100 epochs\n",
        "*   batch=128\n",
        "*   accuracy: 0.9416 - val_loss: 0.6560 - val_accuracy: 0.8330\n",
        "\n",
        "With the results we have received from the first 5 models, we tried to apply optimum hyperparameters in model 6. \n",
        "We got: \n",
        "Test loss: 0.83\n",
        "Test accuracy: 0.80 in model 6.\n",
        "\n",
        "With model 7 which is similar to model 4 only with 0.2 dropout in every layer, we got:\n",
        "*   loss: 1.6515 - accuracy: 0.4674 - val_loss: 1.5197 - val_accuracy: 0.5375\n",
        "*   Test loss: 1.52\n",
        "*   Test accuracy: 0.52\n",
        "\n",
        "With early stopping which minimizes the validation loss, we stopped at 23rd epoch and on 0.2441 - accuracy: 0.9257 - val_loss: 0.5996 - val_accuracy: 0.8456 it prevented overfit. And final results on test data became Test loss: 0.68\n",
        "Test accuracy: 0.82"
      ]
    }
  ]
}