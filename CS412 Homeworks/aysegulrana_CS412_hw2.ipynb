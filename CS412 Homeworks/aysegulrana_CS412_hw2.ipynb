{
  "nbformat": 4,
  "nbformat_minor": 0,
  "metadata": {
    "colab": {
      "name": "aysegulrana_CS412_hw2",
      "provenance": []
    },
    "kernelspec": {
      "name": "python3",
      "display_name": "Python 3"
    },
    "language_info": {
      "name": "python"
    }
  },
  "cells": [
    {
      "cell_type": "code",
      "metadata": {
        "colab": {
          "base_uri": "https://localhost:8080/"
        },
        "id": "_cLZRvfuDkup",
        "outputId": "4467b19b-51cd-44a1-d453-a1499db108e4"
      },
      "source": [
        "from google.colab import drive\n",
        "drive.mount('/content/drive')"
      ],
      "execution_count": null,
      "outputs": [
        {
          "output_type": "stream",
          "text": [
            "Mounted at /content/drive\n"
          ],
          "name": "stdout"
        }
      ]
    },
    {
      "cell_type": "code",
      "metadata": {
        "id": "fkWsAsjNDmLg"
      },
      "source": [
        "import pandas as pd\n",
        "import numpy as np\n",
        "import matplotlib.pyplot as plt\n",
        "\n",
        "df = pd.read_csv('/content/drive/My Drive/CS412/Real estate.csv')"
      ],
      "execution_count": null,
      "outputs": []
    },
    {
      "cell_type": "code",
      "metadata": {
        "colab": {
          "base_uri": "https://localhost:8080/",
          "height": 393
        },
        "id": "Zyy3D8tsDmZL",
        "outputId": "6f5d8445-c32d-4190-9b0f-fe64b8f291e5"
      },
      "source": [
        "print(\"Shape of the dataset: \", df.shape)\n",
        "print(\"Missing values in dataset: \", df.isnull().sum())\n",
        "\n",
        "df.tail(5)"
      ],
      "execution_count": null,
      "outputs": [
        {
          "output_type": "stream",
          "text": [
            "Shape of the dataset:  (414, 8)\n",
            "Missing values in dataset:  No                                        0\n",
            "X1 transaction date                       0\n",
            "X2 house age                              0\n",
            "X3 distance to the nearest MRT station    0\n",
            "X4 number of convenience stores           0\n",
            "X5 latitude                               0\n",
            "X6 longitude                              0\n",
            "Y house price of unit area                0\n",
            "dtype: int64\n"
          ],
          "name": "stdout"
        },
        {
          "output_type": "execute_result",
          "data": {
            "text/html": [
              "<div>\n",
              "<style scoped>\n",
              "    .dataframe tbody tr th:only-of-type {\n",
              "        vertical-align: middle;\n",
              "    }\n",
              "\n",
              "    .dataframe tbody tr th {\n",
              "        vertical-align: top;\n",
              "    }\n",
              "\n",
              "    .dataframe thead th {\n",
              "        text-align: right;\n",
              "    }\n",
              "</style>\n",
              "<table border=\"1\" class=\"dataframe\">\n",
              "  <thead>\n",
              "    <tr style=\"text-align: right;\">\n",
              "      <th></th>\n",
              "      <th>No</th>\n",
              "      <th>X1 transaction date</th>\n",
              "      <th>X2 house age</th>\n",
              "      <th>X3 distance to the nearest MRT station</th>\n",
              "      <th>X4 number of convenience stores</th>\n",
              "      <th>X5 latitude</th>\n",
              "      <th>X6 longitude</th>\n",
              "      <th>Y house price of unit area</th>\n",
              "    </tr>\n",
              "  </thead>\n",
              "  <tbody>\n",
              "    <tr>\n",
              "      <th>409</th>\n",
              "      <td>410</td>\n",
              "      <td>2013.000</td>\n",
              "      <td>13.7</td>\n",
              "      <td>4082.01500</td>\n",
              "      <td>0</td>\n",
              "      <td>24.94155</td>\n",
              "      <td>121.50381</td>\n",
              "      <td>15.4</td>\n",
              "    </tr>\n",
              "    <tr>\n",
              "      <th>410</th>\n",
              "      <td>411</td>\n",
              "      <td>2012.667</td>\n",
              "      <td>5.6</td>\n",
              "      <td>90.45606</td>\n",
              "      <td>9</td>\n",
              "      <td>24.97433</td>\n",
              "      <td>121.54310</td>\n",
              "      <td>50.0</td>\n",
              "    </tr>\n",
              "    <tr>\n",
              "      <th>411</th>\n",
              "      <td>412</td>\n",
              "      <td>2013.250</td>\n",
              "      <td>18.8</td>\n",
              "      <td>390.96960</td>\n",
              "      <td>7</td>\n",
              "      <td>24.97923</td>\n",
              "      <td>121.53986</td>\n",
              "      <td>40.6</td>\n",
              "    </tr>\n",
              "    <tr>\n",
              "      <th>412</th>\n",
              "      <td>413</td>\n",
              "      <td>2013.000</td>\n",
              "      <td>8.1</td>\n",
              "      <td>104.81010</td>\n",
              "      <td>5</td>\n",
              "      <td>24.96674</td>\n",
              "      <td>121.54067</td>\n",
              "      <td>52.5</td>\n",
              "    </tr>\n",
              "    <tr>\n",
              "      <th>413</th>\n",
              "      <td>414</td>\n",
              "      <td>2013.500</td>\n",
              "      <td>6.5</td>\n",
              "      <td>90.45606</td>\n",
              "      <td>9</td>\n",
              "      <td>24.97433</td>\n",
              "      <td>121.54310</td>\n",
              "      <td>63.9</td>\n",
              "    </tr>\n",
              "  </tbody>\n",
              "</table>\n",
              "</div>"
            ],
            "text/plain": [
              "      No  X1 transaction date  ...  X6 longitude  Y house price of unit area\n",
              "409  410             2013.000  ...     121.50381                        15.4\n",
              "410  411             2012.667  ...     121.54310                        50.0\n",
              "411  412             2013.250  ...     121.53986                        40.6\n",
              "412  413             2013.000  ...     121.54067                        52.5\n",
              "413  414             2013.500  ...     121.54310                        63.9\n",
              "\n",
              "[5 rows x 8 columns]"
            ]
          },
          "metadata": {
            "tags": []
          },
          "execution_count": 4
        }
      ]
    },
    {
      "cell_type": "code",
      "metadata": {
        "colab": {
          "base_uri": "https://localhost:8080/"
        },
        "id": "PJjHghHFEnEj",
        "outputId": "dc17f90a-5376-4f71-99ad-c9fb82c54128"
      },
      "source": [
        "df.columns"
      ],
      "execution_count": null,
      "outputs": [
        {
          "output_type": "execute_result",
          "data": {
            "text/plain": [
              "Index(['No', 'X1 transaction date', 'X2 house age',\n",
              "       'X3 distance to the nearest MRT station',\n",
              "       'X4 number of convenience stores', 'X5 latitude', 'X6 longitude',\n",
              "       'Y house price of unit area'],\n",
              "      dtype='object')"
            ]
          },
          "metadata": {
            "tags": []
          },
          "execution_count": 5
        }
      ]
    },
    {
      "cell_type": "code",
      "metadata": {
        "id": "GvXg9LzqEvuj"
      },
      "source": [
        "y=df[['Y house price of unit area']]\n",
        "x=df.drop(columns=[\"Y house price of unit area\", \"No\"])"
      ],
      "execution_count": null,
      "outputs": []
    },
    {
      "cell_type": "code",
      "metadata": {
        "colab": {
          "base_uri": "https://localhost:8080/",
          "height": 202
        },
        "id": "9_pKCK7qFYLZ",
        "outputId": "74aa0077-aebb-4f07-c9b1-1c3eba0e4f5d"
      },
      "source": [
        "x.head()"
      ],
      "execution_count": null,
      "outputs": [
        {
          "output_type": "execute_result",
          "data": {
            "text/html": [
              "<div>\n",
              "<style scoped>\n",
              "    .dataframe tbody tr th:only-of-type {\n",
              "        vertical-align: middle;\n",
              "    }\n",
              "\n",
              "    .dataframe tbody tr th {\n",
              "        vertical-align: top;\n",
              "    }\n",
              "\n",
              "    .dataframe thead th {\n",
              "        text-align: right;\n",
              "    }\n",
              "</style>\n",
              "<table border=\"1\" class=\"dataframe\">\n",
              "  <thead>\n",
              "    <tr style=\"text-align: right;\">\n",
              "      <th></th>\n",
              "      <th>X1 transaction date</th>\n",
              "      <th>X2 house age</th>\n",
              "      <th>X3 distance to the nearest MRT station</th>\n",
              "      <th>X4 number of convenience stores</th>\n",
              "      <th>X5 latitude</th>\n",
              "      <th>X6 longitude</th>\n",
              "    </tr>\n",
              "  </thead>\n",
              "  <tbody>\n",
              "    <tr>\n",
              "      <th>0</th>\n",
              "      <td>2012.917</td>\n",
              "      <td>32.0</td>\n",
              "      <td>84.87882</td>\n",
              "      <td>10</td>\n",
              "      <td>24.98298</td>\n",
              "      <td>121.54024</td>\n",
              "    </tr>\n",
              "    <tr>\n",
              "      <th>1</th>\n",
              "      <td>2012.917</td>\n",
              "      <td>19.5</td>\n",
              "      <td>306.59470</td>\n",
              "      <td>9</td>\n",
              "      <td>24.98034</td>\n",
              "      <td>121.53951</td>\n",
              "    </tr>\n",
              "    <tr>\n",
              "      <th>2</th>\n",
              "      <td>2013.583</td>\n",
              "      <td>13.3</td>\n",
              "      <td>561.98450</td>\n",
              "      <td>5</td>\n",
              "      <td>24.98746</td>\n",
              "      <td>121.54391</td>\n",
              "    </tr>\n",
              "    <tr>\n",
              "      <th>3</th>\n",
              "      <td>2013.500</td>\n",
              "      <td>13.3</td>\n",
              "      <td>561.98450</td>\n",
              "      <td>5</td>\n",
              "      <td>24.98746</td>\n",
              "      <td>121.54391</td>\n",
              "    </tr>\n",
              "    <tr>\n",
              "      <th>4</th>\n",
              "      <td>2012.833</td>\n",
              "      <td>5.0</td>\n",
              "      <td>390.56840</td>\n",
              "      <td>5</td>\n",
              "      <td>24.97937</td>\n",
              "      <td>121.54245</td>\n",
              "    </tr>\n",
              "  </tbody>\n",
              "</table>\n",
              "</div>"
            ],
            "text/plain": [
              "   X1 transaction date  X2 house age  ...  X5 latitude  X6 longitude\n",
              "0             2012.917          32.0  ...     24.98298     121.54024\n",
              "1             2012.917          19.5  ...     24.98034     121.53951\n",
              "2             2013.583          13.3  ...     24.98746     121.54391\n",
              "3             2013.500          13.3  ...     24.98746     121.54391\n",
              "4             2012.833           5.0  ...     24.97937     121.54245\n",
              "\n",
              "[5 rows x 6 columns]"
            ]
          },
          "metadata": {
            "tags": []
          },
          "execution_count": 7
        }
      ]
    },
    {
      "cell_type": "code",
      "metadata": {
        "colab": {
          "base_uri": "https://localhost:8080/",
          "height": 202
        },
        "id": "sHG1IHEHFbah",
        "outputId": "27b353b8-1234-4b29-9ba5-6675334a2dab"
      },
      "source": [
        "y.head()"
      ],
      "execution_count": null,
      "outputs": [
        {
          "output_type": "execute_result",
          "data": {
            "text/html": [
              "<div>\n",
              "<style scoped>\n",
              "    .dataframe tbody tr th:only-of-type {\n",
              "        vertical-align: middle;\n",
              "    }\n",
              "\n",
              "    .dataframe tbody tr th {\n",
              "        vertical-align: top;\n",
              "    }\n",
              "\n",
              "    .dataframe thead th {\n",
              "        text-align: right;\n",
              "    }\n",
              "</style>\n",
              "<table border=\"1\" class=\"dataframe\">\n",
              "  <thead>\n",
              "    <tr style=\"text-align: right;\">\n",
              "      <th></th>\n",
              "      <th>Y house price of unit area</th>\n",
              "    </tr>\n",
              "  </thead>\n",
              "  <tbody>\n",
              "    <tr>\n",
              "      <th>0</th>\n",
              "      <td>37.9</td>\n",
              "    </tr>\n",
              "    <tr>\n",
              "      <th>1</th>\n",
              "      <td>42.2</td>\n",
              "    </tr>\n",
              "    <tr>\n",
              "      <th>2</th>\n",
              "      <td>47.3</td>\n",
              "    </tr>\n",
              "    <tr>\n",
              "      <th>3</th>\n",
              "      <td>54.8</td>\n",
              "    </tr>\n",
              "    <tr>\n",
              "      <th>4</th>\n",
              "      <td>43.1</td>\n",
              "    </tr>\n",
              "  </tbody>\n",
              "</table>\n",
              "</div>"
            ],
            "text/plain": [
              "   Y house price of unit area\n",
              "0                        37.9\n",
              "1                        42.2\n",
              "2                        47.3\n",
              "3                        54.8\n",
              "4                        43.1"
            ]
          },
          "metadata": {
            "tags": []
          },
          "execution_count": 8
        }
      ]
    },
    {
      "cell_type": "code",
      "metadata": {
        "id": "KZYiRZ24Fv2A"
      },
      "source": [
        "from sklearn.model_selection import train_test_split\n",
        "X_train, X_remaining, y_train, y_remaining = train_test_split(x, y, random_state=1, test_size=0.30)\n",
        "X_test, X_val, y_test, y_val = train_test_split(X_remaining, y_remaining, random_state=1, test_size=0.50)"
      ],
      "execution_count": null,
      "outputs": []
    },
    {
      "cell_type": "code",
      "metadata": {
        "colab": {
          "base_uri": "https://localhost:8080/"
        },
        "id": "vfjqKFG6RB2_",
        "outputId": "d5c69664-8a3a-4c56-84a6-cca084b1faec"
      },
      "source": [
        "print('train',X_train.shape, y_train.shape)\n",
        "print('test',X_test.shape, y_test.shape)\n",
        "print('val',X_val.shape, y_val.shape)"
      ],
      "execution_count": null,
      "outputs": [
        {
          "output_type": "stream",
          "text": [
            "train (289, 6) (289, 1)\n",
            "test (62, 6) (62, 1)\n",
            "val (63, 6) (63, 1)\n"
          ],
          "name": "stdout"
        }
      ]
    },
    {
      "cell_type": "code",
      "metadata": {
        "colab": {
          "base_uri": "https://localhost:8080/"
        },
        "id": "27hqyANeG0yo",
        "outputId": "43a8e7ec-e4e7-4b25-b5ad-07a9dae070e5"
      },
      "source": [
        "from sklearn.linear_model import LinearRegression\n",
        "from sklearn.metrics import mean_absolute_error, mean_squared_error\n",
        "\n",
        "first_linear_regression = LinearRegression()\n",
        "first_linear_regression.fit(X_train , y_train)\n",
        "y_pred3 = first_linear_regression.predict(X_test)\n",
        "\n",
        "print('Coefficients: \\n', first_linear_regression.coef_)\n",
        "print('Bias:', first_linear_regression.intercept_)\n",
        "# The mean absolute error\n",
        "print(\"Mean squared error: %.2f\" % mean_squared_error(y_test, y_pred3))"
      ],
      "execution_count": null,
      "outputs": [
        {
          "output_type": "stream",
          "text": [
            "Coefficients: \n",
            " [[ 4.12730471e+00 -2.27169419e-01 -4.18081947e-03  1.19484874e+00\n",
            "   2.22609979e+02 -3.09227717e+00]]\n",
            "Bias: [-13450.05964328]\n",
            "Mean squared error: 134.49\n"
          ],
          "name": "stdout"
        }
      ]
    },
    {
      "cell_type": "code",
      "metadata": {
        "colab": {
          "base_uri": "https://localhost:8080/",
          "height": 302
        },
        "id": "q0Gx0Y2yHCXS",
        "outputId": "a393b8e9-df2d-418e-8019-46d8e0206716"
      },
      "source": [
        "from sklearn.preprocessing import PolynomialFeatures\n",
        "from sklearn.pipeline import Pipeline\n",
        "\n",
        "mse_train=[]\n",
        "mse_val=[]\n",
        "p=[1,2,3,4,5]\n",
        "for d in p:\n",
        "  poly_reg = PolynomialFeatures(degree=d)\n",
        "  X_poly = poly_reg.fit_transform(X_train)\n",
        "  lin_reg = LinearRegression()\n",
        "  lin_reg.fit(X_poly, y_train)\n",
        "  y_pred = lin_reg.predict(X_poly)\n",
        "\n",
        "  m=mean_squared_error(y_train,y_pred)\n",
        "  mse_train.append(m)\n",
        "\n",
        "  X_poly = poly_reg.fit_transform(X_val)\n",
        "  #lin_reg.fit(X_poly2, y_val)\n",
        "  y_pred = lin_reg.predict(X_poly)\n",
        "\n",
        "  m2=mean_squared_error(y_val,y_pred)\n",
        "  mse_val.append(m2)\n",
        "\n",
        "print(mse_val)\n",
        "print(mse_train)\n",
        "\n",
        "plt.figure(0)\n",
        "plt.plot(p, mse_train, 'tab:blue', label='training mse', marker=\"o\")\n",
        "plt.plot(p, mse_val,'tab:red', label='validation mse', marker=\"o\")\n",
        "\n",
        "plt.xticks(p,p)\n",
        "plt.legend()\n",
        "plt.show()"
      ],
      "execution_count": null,
      "outputs": [
        {
          "output_type": "stream",
          "text": [
            "[77.10350809954002, 58.300249802707306, 51.530949086500385, 150.70067702660634, 1350.9364141607984]\n",
            "[65.47969594374742, 41.33401963373371, 31.041228303933714, 21.951943086555488, 22.682275869781105]\n"
          ],
          "name": "stdout"
        },
        {
          "output_type": "display_data",
          "data": {
            "image/png": "[encoded data removed]",
            "text/plain": [
              "<Figure size 432x288 with 1 Axes>"
            ]
          },
          "metadata": {
            "tags": [],
            "needs_background": "light"
          }
        }
      ]
    },
    {
      "cell_type": "markdown",
      "metadata": {
        "id": "lqPE5B8rQOwk"
      },
      "source": [
        "The optimal value of p is 3. We can see in the plot that validation data gave the smallest MSE with 3. Since we should evaluate on the validation data when we try to decide on hyperparameter values, we go with 3.\n"
      ]
    },
    {
      "cell_type": "code",
      "metadata": {
        "colab": {
          "base_uri": "https://localhost:8080/",
          "height": 363
        },
        "id": "AR4wirtmZPrA",
        "outputId": "d7267c6e-4af0-4b90-d787-535747bb8d64"
      },
      "source": [
        "df.cov()"
      ],
      "execution_count": null,
      "outputs": [
        {
          "output_type": "execute_result",
          "data": {
            "text/html": [
              "<div>\n",
              "<style scoped>\n",
              "    .dataframe tbody tr th:only-of-type {\n",
              "        vertical-align: middle;\n",
              "    }\n",
              "\n",
              "    .dataframe tbody tr th {\n",
              "        vertical-align: top;\n",
              "    }\n",
              "\n",
              "    .dataframe thead th {\n",
              "        text-align: right;\n",
              "    }\n",
              "</style>\n",
              "<table border=\"1\" class=\"dataframe\">\n",
              "  <thead>\n",
              "    <tr style=\"text-align: right;\">\n",
              "      <th></th>\n",
              "      <th>No</th>\n",
              "      <th>X1 transaction date</th>\n",
              "      <th>X2 house age</th>\n",
              "      <th>X3 distance to the nearest MRT station</th>\n",
              "      <th>X4 number of convenience stores</th>\n",
              "      <th>X5 latitude</th>\n",
              "      <th>X6 longitude</th>\n",
              "      <th>Y house price of unit area</th>\n",
              "    </tr>\n",
              "  </thead>\n",
              "  <tbody>\n",
              "    <tr>\n",
              "      <th>No</th>\n",
              "      <td>14317.500000</td>\n",
              "      <td>-1.641671</td>\n",
              "      <td>-44.723245</td>\n",
              "      <td>-2.049851e+03</td>\n",
              "      <td>-4.475787</td>\n",
              "      <td>-0.015012</td>\n",
              "      <td>-0.020309</td>\n",
              "      <td>-46.542615</td>\n",
              "    </tr>\n",
              "    <tr>\n",
              "      <th>X1 transaction date</th>\n",
              "      <td>-1.641671</td>\n",
              "      <td>0.079506</td>\n",
              "      <td>0.056372</td>\n",
              "      <td>2.166557e+01</td>\n",
              "      <td>0.008003</td>\n",
              "      <td>0.000123</td>\n",
              "      <td>-0.000178</td>\n",
              "      <td>0.335665</td>\n",
              "    </tr>\n",
              "    <tr>\n",
              "      <th>X2 house age</th>\n",
              "      <td>-44.723245</td>\n",
              "      <td>0.056372</td>\n",
              "      <td>129.788704</td>\n",
              "      <td>3.684082e+02</td>\n",
              "      <td>1.664189</td>\n",
              "      <td>0.007694</td>\n",
              "      <td>-0.008483</td>\n",
              "      <td>-32.640356</td>\n",
              "    </tr>\n",
              "    <tr>\n",
              "      <th>X3 distance to the nearest MRT station</th>\n",
              "      <td>-2049.850694</td>\n",
              "      <td>21.665566</td>\n",
              "      <td>368.408249</td>\n",
              "      <td>1.592921e+06</td>\n",
              "      <td>-2239.938319</td>\n",
              "      <td>-9.257892</td>\n",
              "      <td>-15.618216</td>\n",
              "      <td>-11567.871845</td>\n",
              "    </tr>\n",
              "    <tr>\n",
              "      <th>X4 number of convenience stores</th>\n",
              "      <td>-4.475787</td>\n",
              "      <td>0.008003</td>\n",
              "      <td>1.664189</td>\n",
              "      <td>-2.239938e+03</td>\n",
              "      <td>8.676334</td>\n",
              "      <td>0.016236</td>\n",
              "      <td>0.020302</td>\n",
              "      <td>22.885163</td>\n",
              "    </tr>\n",
              "    <tr>\n",
              "      <th>X5 latitude</th>\n",
              "      <td>-0.015012</td>\n",
              "      <td>0.000123</td>\n",
              "      <td>0.007694</td>\n",
              "      <td>-9.257892e+00</td>\n",
              "      <td>0.016236</td>\n",
              "      <td>0.000154</td>\n",
              "      <td>0.000079</td>\n",
              "      <td>0.092249</td>\n",
              "    </tr>\n",
              "    <tr>\n",
              "      <th>X6 longitude</th>\n",
              "      <td>-0.020309</td>\n",
              "      <td>-0.000178</td>\n",
              "      <td>-0.008483</td>\n",
              "      <td>-1.561822e+01</td>\n",
              "      <td>0.020302</td>\n",
              "      <td>0.000079</td>\n",
              "      <td>0.000236</td>\n",
              "      <td>0.109273</td>\n",
              "    </tr>\n",
              "    <tr>\n",
              "      <th>Y house price of unit area</th>\n",
              "      <td>-46.542615</td>\n",
              "      <td>0.335665</td>\n",
              "      <td>-32.640356</td>\n",
              "      <td>-1.156787e+04</td>\n",
              "      <td>22.885163</td>\n",
              "      <td>0.092249</td>\n",
              "      <td>0.109273</td>\n",
              "      <td>185.136507</td>\n",
              "    </tr>\n",
              "  </tbody>\n",
              "</table>\n",
              "</div>"
            ],
            "text/plain": [
              "                                                  No  ...  Y house price of unit area\n",
              "No                                      14317.500000  ...                  -46.542615\n",
              "X1 transaction date                        -1.641671  ...                    0.335665\n",
              "X2 house age                              -44.723245  ...                  -32.640356\n",
              "X3 distance to the nearest MRT station  -2049.850694  ...               -11567.871845\n",
              "X4 number of convenience stores            -4.475787  ...                   22.885163\n",
              "X5 latitude                                -0.015012  ...                    0.092249\n",
              "X6 longitude                               -0.020309  ...                    0.109273\n",
              "Y house price of unit area                -46.542615  ...                  185.136507\n",
              "\n",
              "[8 rows x 8 columns]"
            ]
          },
          "metadata": {
            "tags": []
          },
          "execution_count": 13
        }
      ]
    },
    {
      "cell_type": "code",
      "metadata": {
        "colab": {
          "base_uri": "https://localhost:8080/",
          "height": 300
        },
        "id": "T81vbXQbb4ym",
        "outputId": "3067eb30-25d0-4fb2-8965-61c9066f09e6"
      },
      "source": [
        "mse_train=[]\n",
        "mse_val=[]\n",
        "d=[0,1,2,3]\n",
        "for discard in d:\n",
        "  if discard==0:\n",
        "    poly_reg = PolynomialFeatures(degree=3)\n",
        "    X_poly = poly_reg.fit_transform(X_train)\n",
        "    lin_reg = LinearRegression()\n",
        "    lin_reg.fit(X_poly, y_train)\n",
        "    y_pred = lin_reg.predict(X_poly)\n",
        "    m=mean_squared_error(y_train,y_pred)\n",
        "    mse_train.append(m)\n",
        "\n",
        "    X_poly = poly_reg.fit_transform(X_val)\n",
        "  #lin_reg.fit(X_poly2, y_val)\n",
        "    y_pred = lin_reg.predict(X_poly)\n",
        "\n",
        "    m2=mean_squared_error(y_val,y_pred)\n",
        "    mse_val.append(m2)\n",
        "  elif discard==1:\n",
        "    X_train1=X_train.drop(columns=[\"X5 latitude\"])\n",
        "    X_val1=X_val.drop(columns=[\"X5 latitude\"])\n",
        "\n",
        "    poly_reg = PolynomialFeatures(degree=3)\n",
        "    X_poly = poly_reg.fit_transform(X_train1)\n",
        "    lin_reg = LinearRegression()\n",
        "    lin_reg.fit(X_poly, y_train)\n",
        "    y_pred = lin_reg.predict(X_poly)\n",
        "\n",
        "    m=mean_squared_error(y_train,y_pred)\n",
        "    mse_train.append(m)\n",
        "\n",
        "    X_poly = poly_reg.fit_transform(X_val1)\n",
        "  #lin_reg.fit(X_poly2, y_val)\n",
        "    y_pred = lin_reg.predict(X_poly)\n",
        "\n",
        "    m2=mean_squared_error(y_val,y_pred)\n",
        "    mse_val.append(m2)\n",
        "  elif discard==2:\n",
        "    X_train2=X_train.drop(columns=[\"X5 latitude\",\"X6 longitude\"])\n",
        "    X_val2=X_val.drop(columns=[\"X5 latitude\",\"X6 longitude\"])\n",
        "\n",
        "    poly_reg = PolynomialFeatures(degree=3)\n",
        "    X_poly = poly_reg.fit_transform(X_train2)\n",
        "    lin_reg = LinearRegression()\n",
        "    lin_reg.fit(X_poly, y_train)\n",
        "    y_pred = lin_reg.predict(X_poly)\n",
        "\n",
        "    m=mean_squared_error(y_train,y_pred)\n",
        "    mse_train.append(m)\n",
        "\n",
        "    X_poly = poly_reg.fit_transform(X_val2)\n",
        "  #lin_reg.fit(X_poly2, y_val)\n",
        "    y_pred = lin_reg.predict(X_poly)\n",
        "\n",
        "    m2=mean_squared_error(y_val,y_pred)\n",
        "    mse_val.append(m2)\n",
        "  else:\n",
        "    X_train3=X_train.drop(columns=[\"X5 latitude\",\"X6 longitude\",\"X1 transaction date\"])\n",
        "    X_val3=X_val.drop(columns=[\"X5 latitude\",\"X6 longitude\",\"X1 transaction date\"])\n",
        "\n",
        "    poly_reg = PolynomialFeatures(degree=3)\n",
        "    X_poly = poly_reg.fit_transform(X_train3)\n",
        "    lin_reg = LinearRegression()\n",
        "    lin_reg.fit(X_poly, y_train)\n",
        "    y_pred = lin_reg.predict(X_poly)\n",
        "\n",
        "    m=mean_squared_error(y_train,y_pred)\n",
        "    mse_train.append(m)\n",
        "\n",
        "    X_poly = poly_reg.fit_transform(X_val3)\n",
        "  #lin_reg.fit(X_poly2, y_val)\n",
        "    y_pred = lin_reg.predict(X_poly)\n",
        "\n",
        "    m2=mean_squared_error(y_val,y_pred)\n",
        "    mse_val.append(m2)\n",
        "  \n",
        "\n",
        "print(mse_val)\n",
        "print(mse_train)\n",
        "\n",
        "plt.figure(0)\n",
        "plt.plot(d, mse_train, 'tab:blue', label='training mse', marker=\"o\")\n",
        "plt.plot(d, mse_val,'tab:red', label='validation mse', marker=\"o\")\n",
        "\n",
        "plt.xticks(d,d)\n",
        "plt.legend()\n",
        "plt.show()"
      ],
      "execution_count": null,
      "outputs": [
        {
          "output_type": "stream",
          "text": [
            "[51.530949086500385, 66.34662789084878, 73.47610261554962, 80.4534095116009]\n",
            "[31.041228303933714, 41.37737074201886, 56.6039934095124, 53.721567790873316]\n"
          ],
          "name": "stdout"
        },
        {
          "output_type": "display_data",
          "data": {
            "image/png": "[encoded data removed]",
            "text/plain": [
              "<Figure size 432x288 with 1 Axes>"
            ]
          },
          "metadata": {
            "tags": [],
            "needs_background": "light"
          }
        }
      ]
    },
    {
      "cell_type": "code",
      "metadata": {
        "colab": {
          "base_uri": "https://localhost:8080/"
        },
        "id": "DgyuqOzfV2K0",
        "outputId": "917c682d-59ec-4934-d70a-abfa39ac4e09"
      },
      "source": [
        "X_poly = poly_reg.fit_transform(X_test)\n",
        "y_pred = lin_reg.predict(X_poly)\n",
        "test_mse = mean_squared_error(y_test, y_pred)\n",
        "print(\"MSE on test data:\",test_mse)\n"
      ],
      "execution_count": null,
      "outputs": [
        {
          "output_type": "stream",
          "text": [
            "MSE on test data: 115.1047654166244\n"
          ],
          "name": "stdout"
        }
      ]
    },
    {
      "cell_type": "markdown",
      "metadata": {
        "id": "JR7ISxUoQ2Ke"
      },
      "source": [
        "Not discarding any of the values meaning d=0 is the best option since MSE is the smallest for both training and validation sets as it can be seen on the figure. While we were trying to discard values, we chose the ones with covariance near to 0 o the Y column. "
      ]
    },
    {
      "cell_type": "markdown",
      "metadata": {
        "id": "MzTR9YUlRT_R"
      },
      "source": [
        "Our problem was to predict house price of the unit area given 6 features. We have tried some hyperparameters with the Polinomial Regression model in order to get the least erroreous results. \n",
        "I have checked the shape and the null values of the dataset, there were no null values so I did not handle them. I splitted data into features and the target. I have splitted the data into train, val, test for both features and target with 70/15/15 ratio. The model which gave the smallest error is Polinomial Regression with degree 3 when no features are discarded (d=0).\n",
        "We have obtained the best results with the Polynomial Regression(parameters:degree=3), giving MSE of 115.10 on test data."
      ]
    },
    {
      "cell_type": "markdown",
      "metadata": {
        "id": "RZCAWeaTT8Ey"
      },
      "source": [
        "*****************************************************************************\n",
        "FEEDBACK: You should have use the covariance matrix for tuning d. (-5pts)."
      ]
    }
  ]
}