{
  "nbformat": 4,
  "nbformat_minor": 0,
  "metadata": {
    "colab": {
      "name": "aysegulrana_CS412_hw1",
      "provenance": [],
      "collapsed_sections": []
    },
    "kernelspec": {
      "name": "python3",
      "display_name": "Python 3"
    }
  },
  "cells": [
    {
      "cell_type": "markdown",
      "metadata": {
        "id": "zrzkxpZrCF6D"
      },
      "source": [
        "# CS 412 Machine Learning 2020 \n",
        "\n",
        "# Assignment 1\n",
        "\n",
        "100 pts\n",
        "\n",
        "## Goal \n",
        "\n",
        "The goal of this assignment \n",
        "\n",
        "*  Introduction to the machine learning experimental set up\n",
        "*  Gain experience with the Scikit library\n",
        "*  Gain experience with Decision tree and k-NN models\n",
        "\n",
        "## Dataset\n",
        "\n",
        "**Wine Quality Dataset** is a collection red and white wines with 12 attributes. The target variable is the 'quality' either 0 or 1\n",
        "\n",
        "\n",
        "## Task\n",
        "Build a decision tree and k-NN classifiers with the scikit-learn library function calls to **classify** the quality of wine as good (1) and bad (0)\n",
        "\n",
        "## Submission\n",
        "\n",
        "Follow the instructions at the end."
      ]
    },
    {
      "cell_type": "markdown",
      "metadata": {
        "id": "18kyKgy9LiZx"
      },
      "source": [
        "# 1) Initialize\n",
        "\n",
        "First, make a copy of this notebook in your drive"
      ]
    },
    {
      "cell_type": "code",
      "metadata": {
        "id": "eTJUORO9CBNq",
        "colab": {
          "base_uri": "https://localhost:8080/"
        },
        "outputId": "3cd30660-d473-4ea1-99b6-0bf610852fb5"
      },
      "source": [
        "# Mount to your drive, in this way you can reach files that are in your drive\n",
        "# Run this cell\n",
        "\n",
        "from google.colab import drive\n",
        "drive.mount('/content/drive')"
      ],
      "execution_count": null,
      "outputs": [
        {
          "output_type": "stream",
          "text": [
            "Mounted at /content/drive\n"
          ],
          "name": "stdout"
        }
      ]
    },
    {
      "cell_type": "markdown",
      "metadata": {
        "id": "FtputkpVLt8H"
      },
      "source": [
        "# 2) Load Dataset\n",
        "To start working for your homework, take a copy of the folder, given in the below link to your own google drive. You find the train and test data under this folder.\n",
        "\n",
        "https://drive.google.com/drive/folders/1PC6M332CTdW-OOrgJ-1GU1F3UaRupka8?usp=sharing\n",
        "\n",
        "After copy the folder, copy the path of the train and test dataset to paste them in the below cell to load your data."
      ]
    },
    {
      "cell_type": "code",
      "metadata": {
        "id": "gB1Fur5APIjQ"
      },
      "source": [
        "import pandas as pd\n",
        "import numpy as np\n",
        "\n",
        "train_df = pd.read_csv('/content/drive/My Drive/CS412/winequality-train.csv')\n",
        "test_df = pd.read_csv('/content/drive/My Drive/CS412/winequality-test.csv')"
      ],
      "execution_count": null,
      "outputs": []
    },
    {
      "cell_type": "markdown",
      "metadata": {
        "id": "Rtcu1QMXMLBN"
      },
      "source": [
        "# 3) Understand the dataset\n",
        "\n",
        "You can use the fuctions that we saw in the recitations to understand the dataset"
      ]
    },
    {
      "cell_type": "code",
      "metadata": {
        "id": "KjQj6XQNMd68",
        "colab": {
          "base_uri": "https://localhost:8080/",
          "height": 254
        },
        "outputId": "78a8aebb-1e42-4014-dff1-3154a2db5acc"
      },
      "source": [
        "# print shape of the train and test sets\n",
        "\n",
        "print(\"Shape of train set: \", train_df.shape)\n",
        "print(\"Shape of test set: \", test_df.shape)\n",
        "\n",
        "\n",
        "# show random samples from the training data\n",
        "train_df.head()"
      ],
      "execution_count": null,
      "outputs": [
        {
          "output_type": "stream",
          "text": [
            "Shape of train set:  (5198, 13)\n",
            "Shape of test set:  (1299, 13)\n"
          ],
          "name": "stdout"
        },
        {
          "output_type": "execute_result",
          "data": {
            "text/html": [
              "<div>\n",
              "<style scoped>\n",
              "    .dataframe tbody tr th:only-of-type {\n",
              "        vertical-align: middle;\n",
              "    }\n",
              "\n",
              "    .dataframe tbody tr th {\n",
              "        vertical-align: top;\n",
              "    }\n",
              "\n",
              "    .dataframe thead th {\n",
              "        text-align: right;\n",
              "    }\n",
              "</style>\n",
              "<table border=\"1\" class=\"dataframe\">\n",
              "  <thead>\n",
              "    <tr style=\"text-align: right;\">\n",
              "      <th></th>\n",
              "      <th>fixed acidity</th>\n",
              "      <th>volatile acidity</th>\n",
              "      <th>citric acid</th>\n",
              "      <th>residual sugar</th>\n",
              "      <th>chlorides</th>\n",
              "      <th>free sulfur dioxide</th>\n",
              "      <th>total sulfur dioxide</th>\n",
              "      <th>density</th>\n",
              "      <th>pH</th>\n",
              "      <th>sulphates</th>\n",
              "      <th>alcohol</th>\n",
              "      <th>wine type</th>\n",
              "      <th>quality</th>\n",
              "    </tr>\n",
              "  </thead>\n",
              "  <tbody>\n",
              "    <tr>\n",
              "      <th>0</th>\n",
              "      <td>6.1</td>\n",
              "      <td>0.32</td>\n",
              "      <td>0.24</td>\n",
              "      <td>1.5</td>\n",
              "      <td>0.036</td>\n",
              "      <td>38.0</td>\n",
              "      <td>124.0</td>\n",
              "      <td>0.98980</td>\n",
              "      <td>3.29</td>\n",
              "      <td>0.42</td>\n",
              "      <td>12.4</td>\n",
              "      <td>0</td>\n",
              "      <td>1</td>\n",
              "    </tr>\n",
              "    <tr>\n",
              "      <th>1</th>\n",
              "      <td>8.8</td>\n",
              "      <td>0.20</td>\n",
              "      <td>0.28</td>\n",
              "      <td>1.1</td>\n",
              "      <td>0.018</td>\n",
              "      <td>18.0</td>\n",
              "      <td>72.0</td>\n",
              "      <td>0.99260</td>\n",
              "      <td>2.97</td>\n",
              "      <td>0.35</td>\n",
              "      <td>10.4</td>\n",
              "      <td>0</td>\n",
              "      <td>0</td>\n",
              "    </tr>\n",
              "    <tr>\n",
              "      <th>2</th>\n",
              "      <td>6.1</td>\n",
              "      <td>0.21</td>\n",
              "      <td>0.30</td>\n",
              "      <td>6.3</td>\n",
              "      <td>0.039</td>\n",
              "      <td>47.0</td>\n",
              "      <td>136.0</td>\n",
              "      <td>0.99068</td>\n",
              "      <td>3.27</td>\n",
              "      <td>0.31</td>\n",
              "      <td>12.7</td>\n",
              "      <td>0</td>\n",
              "      <td>0</td>\n",
              "    </tr>\n",
              "    <tr>\n",
              "      <th>3</th>\n",
              "      <td>8.8</td>\n",
              "      <td>0.17</td>\n",
              "      <td>0.38</td>\n",
              "      <td>1.8</td>\n",
              "      <td>0.040</td>\n",
              "      <td>39.0</td>\n",
              "      <td>148.0</td>\n",
              "      <td>0.99420</td>\n",
              "      <td>3.16</td>\n",
              "      <td>0.67</td>\n",
              "      <td>10.2</td>\n",
              "      <td>0</td>\n",
              "      <td>0</td>\n",
              "    </tr>\n",
              "    <tr>\n",
              "      <th>4</th>\n",
              "      <td>11.5</td>\n",
              "      <td>0.42</td>\n",
              "      <td>0.48</td>\n",
              "      <td>2.6</td>\n",
              "      <td>0.077</td>\n",
              "      <td>8.0</td>\n",
              "      <td>20.0</td>\n",
              "      <td>0.99852</td>\n",
              "      <td>3.09</td>\n",
              "      <td>0.53</td>\n",
              "      <td>11.0</td>\n",
              "      <td>1</td>\n",
              "      <td>0</td>\n",
              "    </tr>\n",
              "  </tbody>\n",
              "</table>\n",
              "</div>"
            ],
            "text/plain": [
              "   fixed acidity  volatile acidity  citric acid  ...  alcohol  wine type  quality\n",
              "0            6.1              0.32         0.24  ...     12.4          0        1\n",
              "1            8.8              0.20         0.28  ...     10.4          0        0\n",
              "2            6.1              0.21         0.30  ...     12.7          0        0\n",
              "3            8.8              0.17         0.38  ...     10.2          0        0\n",
              "4           11.5              0.42         0.48  ...     11.0          1        0\n",
              "\n",
              "[5 rows x 13 columns]"
            ]
          },
          "metadata": {
            "tags": []
          },
          "execution_count": 3
        }
      ]
    },
    {
      "cell_type": "code",
      "metadata": {
        "id": "5B93dybOMqBF",
        "colab": {
          "base_uri": "https://localhost:8080/"
        },
        "outputId": "a5b3287f-564f-446d-9134-39d8b9537d63"
      },
      "source": [
        "# print information about the datasets (Is there any missing value? or Categorical feature?)\n",
        "\n",
        "print(\"NaN values in training data: \")\n",
        "print(train_df.isnull().sum())\n",
        "print(\"NaN values in test data: \")\n",
        "print(test_df.isnull().sum())"
      ],
      "execution_count": null,
      "outputs": [
        {
          "output_type": "stream",
          "text": [
            "NaN values in training data: \n",
            "fixed acidity           0\n",
            "volatile acidity        0\n",
            "citric acid             0\n",
            "residual sugar          0\n",
            "chlorides               0\n",
            "free sulfur dioxide     0\n",
            "total sulfur dioxide    0\n",
            "density                 0\n",
            "pH                      0\n",
            "sulphates               0\n",
            "alcohol                 0\n",
            "wine type               0\n",
            "dtype: int64\n",
            "NaN values in test data: \n",
            "fixed acidity           0\n",
            "volatile acidity        0\n",
            "citric acid             0\n",
            "residual sugar          0\n",
            "chlorides               0\n",
            "free sulfur dioxide     0\n",
            "total sulfur dioxide    0\n",
            "density                 0\n",
            "pH                      0\n",
            "sulphates               0\n",
            "alcohol                 0\n",
            "wine type               0\n",
            "dtype: int64\n"
          ],
          "name": "stdout"
        }
      ]
    },
    {
      "cell_type": "markdown",
      "metadata": {
        "id": "PAFQHAq8Mno1"
      },
      "source": [
        "# 4) Define train and test labels"
      ]
    },
    {
      "cell_type": "code",
      "metadata": {
        "id": "JjW1ZNhONNCb"
      },
      "source": [
        "# make sure you remove the labels from datasets\n",
        "\n",
        "train_labels = train_df.pop('quality')\n",
        "test_labels = test_df.pop('quality')"
      ],
      "execution_count": null,
      "outputs": []
    },
    {
      "cell_type": "markdown",
      "metadata": {
        "id": "4fn3N4V_OlL_"
      },
      "source": [
        "# 5) FineTune Decision Tree hyper-parameters\n",
        "\n",
        "1-Splitting dataset into train and validation"
      ]
    },
    {
      "cell_type": "code",
      "metadata": {
        "id": "hJlxVMTnYTTg"
      },
      "source": [
        "# Split training data to 70% training and 30% validation, do not forget to use the random_state parameter\n",
        "from sklearn.model_selection import train_test_split\n",
        "x_train, x_val, y_train, y_val = train_test_split(train_df, train_labels, test_size=0.3, random_state=12)"
      ],
      "execution_count": null,
      "outputs": []
    },
    {
      "cell_type": "markdown",
      "metadata": {
        "id": "NNm9SC9JYXN2"
      },
      "source": [
        "2- FineTune minimum sample split"
      ]
    },
    {
      "cell_type": "code",
      "metadata": {
        "id": "UfTLLotIO3WX"
      },
      "source": [
        "from sklearn.tree import DecisionTreeClassifier\n",
        "\n",
        "min_samples_splits = range(2, 50)\n",
        "\n",
        "train_results = []\n",
        "val_results = []\n",
        "for min_samples_split in min_samples_splits:\n",
        "\n",
        "  # Fit the tree using the 70% portion of the training data\n",
        "  model = DecisionTreeClassifier(min_samples_split=min_samples_split, random_state=12)\n",
        "  model.fit(x_train, y_train)\n",
        "  \n",
        "  # Evaluate on Training set\n",
        "  train_acc = model.score(x_train, y_train)\n",
        "  train_results.append(train_acc)\n",
        "   \n",
        "  # Evaluate on Validation set\n",
        "  val_acc = model.score(x_val, y_val)\n",
        "  val_results.append(val_acc)"
      ],
      "execution_count": null,
      "outputs": []
    },
    {
      "cell_type": "code",
      "metadata": {
        "id": "_jqCo52hPjkk",
        "colab": {
          "base_uri": "https://localhost:8080/",
          "height": 265
        },
        "outputId": "72a280b6-8714-49e0-e90a-ba4914ad20dc"
      },
      "source": [
        "# Plot the results\n",
        "import matplotlib.pyplot as plt\n",
        "\n",
        "plt.plot(min_samples_splits, train_results, 'b')\n",
        "plt.plot(min_samples_splits, val_results,'r')\n",
        "plt.show()"
      ],
      "execution_count": null,
      "outputs": [
        {
          "output_type": "display_data",
          "data": {
            "image/png": "[encoded data removed]",
            "text/plain": [
              "<Figure size 432x288 with 1 Axes>"
            ]
          },
          "metadata": {
            "tags": [],
            "needs_background": "light"
          }
        }
      ]
    },
    {
      "cell_type": "code",
      "metadata": {
        "id": "UrZSntmRYtFL",
        "colab": {
          "base_uri": "https://localhost:8080/"
        },
        "outputId": "85976b35-e356-4029-a885-aa6956460d00"
      },
      "source": [
        "# Choose the best minimum split sample based on the plot\n",
        "import time\n",
        "Best_minSampl = min_samples_splits[np.argmax(val_results)]\n",
        "\n",
        "# Train decision tree using the full training data and the best minimum split sample\n",
        "dectree = DecisionTreeClassifier(min_samples_split=Best_minSampl, random_state=12)\n",
        "\n",
        "start_time = time.time()\n",
        "dectree.fit(x_train, y_train)\n",
        "print(\"Time for the training: %.4f secs\" % (time.time()-start_time))\n",
        "# Estimate the prediction of the test data\n",
        "test_pred = dectree.predict(test_df)\n",
        "\n",
        "from sklearn.metrics import accuracy_score\n",
        "# Calculate accuracy of test data\n",
        "TestAcc = accuracy_score(test_labels, test_pred)\n",
        "print(\"Testing Accuracy = %.4f%%\" % (TestAcc * 100))"
      ],
      "execution_count": null,
      "outputs": [
        {
          "output_type": "stream",
          "text": [
            "Time for the training: 0.0371 secs\n",
            "Testing Accuracy = 81.2933%\n"
          ],
          "name": "stdout"
        }
      ]
    },
    {
      "cell_type": "markdown",
      "metadata": {
        "id": "a_GMi20MO3lr"
      },
      "source": [
        "# 6) Apply the same procedure but using k-NN instead of decision tree\n",
        "\n",
        "For finetuning, find the best value of K to use with this dataset."
      ]
    },
    {
      "cell_type": "code",
      "metadata": {
        "id": "SKZoNasEO9BT",
        "colab": {
          "base_uri": "https://localhost:8080/"
        },
        "outputId": "1d7e0f43-949c-40ea-87b5-9b0589c6df3c"
      },
      "source": [
        "from sklearn.neighbors import KNeighborsClassifier\n",
        "\n",
        "# initialize the values of k to be a list of odd numbers between 1 and 30\n",
        "kVals = range(1,30,2)\n",
        "\n",
        "# Save the accuracies of each value of kVal in [accuracies] variable\n",
        "# hint: you can use accuracies.append(...) function inside the loop\n",
        "accuracies = []\n",
        "for k in kVals:\n",
        "  knn = KNeighborsClassifier(n_neighbors=k)\n",
        "  knn.fit(x_train, y_train)\n",
        "  val_acc = knn.score(x_val, y_val)\n",
        "  accuracies.append(val_acc)\n",
        "\n",
        "print(\"Best Validation Accuracy = %.4f%%\" % (np.max(accuracies)*100))"
      ],
      "execution_count": null,
      "outputs": [
        {
          "output_type": "stream",
          "text": [
            "Best Validation Accuracy = 80.3846%\n"
          ],
          "name": "stdout"
        }
      ]
    },
    {
      "cell_type": "code",
      "metadata": {
        "id": "w1PtA576uw9t",
        "colab": {
          "base_uri": "https://localhost:8080/"
        },
        "outputId": "7c24c92e-4cac-4052-a516-df62dffaff82"
      },
      "source": [
        "# Train k-NN using the full training data with the best K that you found\n",
        "best_knn = KNeighborsClassifier(n_neighbors=kVals[np.argmax(accuracies)])\n",
        "start_time = time.time()\n",
        "best_knn.fit(x_train, y_train)\n",
        "print(\"Time for the training: %.4f secs\" % (time.time()-start_time))\n",
        "\n",
        "# Testing\n",
        "preds = best_knn.predict(test_df)\n",
        "accuracy = accuracy_score(test_labels, preds)\n",
        "print(\"Testing Accuracy = %.4f%%\" % (accuracy * 100))"
      ],
      "execution_count": null,
      "outputs": [
        {
          "output_type": "stream",
          "text": [
            "Time for the training: 0.0126 secs\n",
            "Testing Accuracy = 80.6774%\n"
          ],
          "name": "stdout"
        }
      ]
    },
    {
      "cell_type": "markdown",
      "metadata": {
        "id": "YBjX29muPFu0"
      },
      "source": [
        "# Write your report in this cell\n",
        "\n",
        "Problem definition: The problem is to label the wines as good or bad according to their oother qualities. We have a dataset that we use for training, the models need to learn from that data and should be able to tell if a wine from an un-seen data needs to be labeled aas good or bad with high accuracy.\n",
        "\n",
        "We have checked if there are any null values in the dataset, if there were we should have changed them with an appropiate value or maybe discard that column or row according to the importance. However, we did not encouter such null value so we proceeded. Afterwards, we have splitted the data as labels(outputs, y values) and the inputs(x values). \n",
        "\n",
        "We trained the data with train dataset which was %70 of the training data since we need a large dataset to make the model learn and we gave %30 to the validation dataset. We have used validation datasets to see which hyperparameters work better (min sample split in decision tree and n value in knn). The test dataset is used to see if our model can predict with good accuracy in a dataset that it has never seen before. \n",
        "\n",
        "In decision tree classifier, the best results came with the min sample split being 5, giving classification accuracy of 81.2933% on test data.  In knn classifier, the best results came with n being 29 giving classification accuracy of 80.6774%. Decision tree is the better model since the accuracy of it is higher than knn's. \n",
        "\n",
        "We can observe that a high n value give a better knn model in this example, the highest was 29 in our range and the best validation score was its. Both algorithms were fast, I could not observe an important difference. However, when I used time library and checked the training times, knn turned out to be a little faster than decision tree. "
      ]
    }
  ]
}